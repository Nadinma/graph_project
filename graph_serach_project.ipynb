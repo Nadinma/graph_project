{
 "cells": [
  {
   "cell_type": "markdown",
   "metadata": {},
   "source": [
    "### Making imports "
   ]
  },
  {
   "cell_type": "code",
   "execution_count": 4,
   "metadata": {},
   "outputs": [],
   "source": [
    "import networkx as nx\n",
    "import numpy as np\n",
    "import pandas as pd\n",
    "import operator\n",
    "import json\n",
    "from collections import defaultdict\n",
    "import matplotlib.pyplot as plt"
   ]
  },
  {
   "cell_type": "markdown",
   "metadata": {},
   "source": [
    "### Uploading and Preprocessing Data"
   ]
  },
  {
   "cell_type": "code",
   "execution_count": 5,
   "metadata": {},
   "outputs": [],
   "source": [
    "explore_data = pd.read_json(\"cleaned_events.json\")"
   ]
  },
  {
   "cell_type": "code",
   "execution_count": 6,
   "metadata": {},
   "outputs": [
    {
     "data": {
      "text/plain": [
       "(22503, 77)"
      ]
     },
     "execution_count": 6,
     "metadata": {},
     "output_type": "execute_result"
    }
   ],
   "source": [
    "explore_data.shape"
   ]
  },
  {
   "cell_type": "code",
   "execution_count": 7,
   "metadata": {},
   "outputs": [],
   "source": [
    "#explore_data.head()"
   ]
  },
  {
   "cell_type": "code",
   "execution_count": 8,
   "metadata": {},
   "outputs": [],
   "source": [
    "with open('cleaned_events.json') as json_file:\n",
    "    graph_data = json.load(json_file)"
   ]
  },
  {
   "cell_type": "code",
   "execution_count": 9,
   "metadata": {},
   "outputs": [
    {
     "data": {
      "text/plain": [
       "list"
      ]
     },
     "execution_count": 9,
     "metadata": {},
     "output_type": "execute_result"
    }
   ],
   "source": [
    "type(graph_data)"
   ]
  },
  {
   "cell_type": "code",
   "execution_count": 10,
   "metadata": {},
   "outputs": [
    {
     "name": "stdout",
     "output_type": "stream",
     "text": [
      "22503\n",
      "[['4594575', '9649581', '3313879', '6138079', '6524595', '6670222'], ['4594575', '6455997', '9582575', '6138079', '9649581']]\n"
     ]
    }
   ],
   "source": [
    "print(len(graph_data))\n",
    "print(graph_data[:2])"
   ]
  },
  {
   "cell_type": "markdown",
   "metadata": {},
   "source": [
    "### Creating Unique Nodes"
   ]
  },
  {
   "cell_type": "code",
   "execution_count": 11,
   "metadata": {},
   "outputs": [],
   "source": [
    "uniq_nodes = {x for l in graph_data for x in l}"
   ]
  },
  {
   "cell_type": "code",
   "execution_count": 12,
   "metadata": {},
   "outputs": [
    {
     "name": "stdout",
     "output_type": "stream",
     "text": [
      "746\n",
      "<class 'set'>\n"
     ]
    }
   ],
   "source": [
    "print(len(uniq_nodes))\n",
    "print(type(uniq_nodes))"
   ]
  },
  {
   "cell_type": "code",
   "execution_count": 28,
   "metadata": {},
   "outputs": [
    {
     "name": "stdout",
     "output_type": "stream",
     "text": [
      "746\n"
     ]
    }
   ],
   "source": [
    "#checking with an alternative code\n",
    "res=()\n",
    "for item in graph_data:\n",
    "    res = list(set(res) | set(item))\n",
    "print(len(res))"
   ]
  },
  {
   "cell_type": "code",
   "execution_count": 29,
   "metadata": {},
   "outputs": [],
   "source": [
    "#converting set into a list\n",
    "uniq_nodes_2 = list(uniq_nodes)"
   ]
  },
  {
   "cell_type": "code",
   "execution_count": 15,
   "metadata": {},
   "outputs": [
    {
     "name": "stdout",
     "output_type": "stream",
     "text": [
      "746\n",
      "<class 'list'>\n"
     ]
    }
   ],
   "source": [
    "print(len(uniq_nodes_2))\n",
    "print(type(uniq_nodes_2))"
   ]
  },
  {
   "cell_type": "code",
   "execution_count": 16,
   "metadata": {},
   "outputs": [
    {
     "data": {
      "text/plain": [
       "['9893168',\n",
       " '6796337',\n",
       " '2388443',\n",
       " '1673992',\n",
       " '1151261',\n",
       " '6375956',\n",
       " '4397146',\n",
       " '7597459',\n",
       " '7114194',\n",
       " '3386962']"
      ]
     },
     "execution_count": 16,
     "metadata": {},
     "output_type": "execute_result"
    }
   ],
   "source": [
    "uniq_nodes_2[:10]"
   ]
  },
  {
   "cell_type": "code",
   "execution_count": 17,
   "metadata": {},
   "outputs": [],
   "source": [
    "graph_data2 = [['4594575', '9649581', '3313879', '6138079', '6524595', '6670222'], ['4594575', '6455997', '9582575', '6138079', '9649581']]"
   ]
  },
  {
   "cell_type": "code",
   "execution_count": 18,
   "metadata": {},
   "outputs": [
    {
     "data": {
      "text/plain": [
       "2"
      ]
     },
     "execution_count": 18,
     "metadata": {},
     "output_type": "execute_result"
    }
   ],
   "source": [
    "len(graph_data2)"
   ]
  },
  {
   "cell_type": "code",
   "execution_count": 25,
   "metadata": {},
   "outputs": [
    {
     "data": {
      "text/plain": [
       "[['4594575', '9649581'],\n",
       " ['4594575', '3313879'],\n",
       " ['4594575', '6138079'],\n",
       " ['4594575', '6524595'],\n",
       " ['4594575', '6670222'],\n",
       " ['4594575', '6455997'],\n",
       " ['4594575', '9582575'],\n",
       " ['4594575', '6138079'],\n",
       " ['4594575', '9649581']]"
      ]
     },
     "execution_count": 25,
     "metadata": {},
     "output_type": "execute_result"
    }
   ],
   "source": [
    "#creating edges on a smaller data set\n",
    "edge = [[i[0],j] for i in graph_data2 for j in i[1:]]\n",
    "edge"
   ]
  },
  {
   "cell_type": "code",
   "execution_count": 30,
   "metadata": {},
   "outputs": [
    {
     "data": {
      "text/plain": [
       "['4594575', '9649581', '3313879', '6138079', '6524595', '6670222']"
      ]
     },
     "execution_count": 30,
     "metadata": {},
     "output_type": "execute_result"
    }
   ],
   "source": [
    "#creating edges from a list of meetings \n",
    "graph_data3 = graph_data2[0]\n",
    "graph_data3"
   ]
  },
  {
   "cell_type": "code",
   "execution_count": 31,
   "metadata": {},
   "outputs": [],
   "source": [
    "edges_graph_data3 = [(graph_data3[i],graph_data3[j]) for i in range(len(graph_data3)) for j in range(i+1, len(graph_data3))]"
   ]
  },
  {
   "cell_type": "code",
   "execution_count": 32,
   "metadata": {},
   "outputs": [
    {
     "name": "stdout",
     "output_type": "stream",
     "text": [
      "[('4594575', '9649581'), ('4594575', '3313879'), ('4594575', '6138079'), ('4594575', '6524595'), ('4594575', '6670222'), ('9649581', '3313879'), ('9649581', '6138079'), ('9649581', '6524595'), ('9649581', '6670222'), ('3313879', '6138079'), ('3313879', '6524595'), ('3313879', '6670222'), ('6138079', '6524595'), ('6138079', '6670222'), ('6524595', '6670222')]\n",
      "<class 'list'>\n",
      "15\n"
     ]
    }
   ],
   "source": [
    "print(edges_graph_data3)\n",
    "print(type(edges_graph_data3))\n",
    "print(len(edges_graph_data3))"
   ]
  },
  {
   "cell_type": "code",
   "execution_count": 47,
   "metadata": {},
   "outputs": [],
   "source": [
    "#rechecking the code above \n",
    "edges = []\n",
    "for i in range(len(graph_data3)):\n",
    "    for j in range(i+1, len(graph_data3)):\n",
    "        edges.append((graph_data3[i],graph_data3[j])) "
   ]
  },
  {
   "cell_type": "code",
   "execution_count": 48,
   "metadata": {},
   "outputs": [
    {
     "name": "stdout",
     "output_type": "stream",
     "text": [
      "[('4594575', '9649581'), ('4594575', '3313879'), ('4594575', '6138079'), ('4594575', '6524595'), ('4594575', '6670222'), ('9649581', '3313879'), ('9649581', '6138079'), ('9649581', '6524595'), ('9649581', '6670222'), ('3313879', '6138079'), ('3313879', '6524595'), ('3313879', '6670222'), ('6138079', '6524595'), ('6138079', '6670222'), ('6524595', '6670222')]\n",
      "<class 'list'>\n",
      "15\n"
     ]
    }
   ],
   "source": [
    "print(edges)\n",
    "print(type(edges))\n",
    "print(len(edges))"
   ]
  },
  {
   "cell_type": "code",
   "execution_count": 64,
   "metadata": {},
   "outputs": [
    {
     "name": "stdout",
     "output_type": "stream",
     "text": [
      "10\n",
      "[[('4594575', '9649581'), ('4594575', '3313879'), ('4594575', '6138079'), ('4594575', '6524595'), ('4594575', '6670222'), ('9649581', '3313879'), ('9649581', '6138079'), ('9649581', '6524595'), ('9649581', '6670222'), ('3313879', '6138079'), ('3313879', '6524595'), ('3313879', '6670222'), ('6138079', '6524595'), ('6138079', '6670222'), ('6524595', '6670222')], [('4594575', '6455997'), ('4594575', '9582575'), ('4594575', '6138079'), ('4594575', '9649581'), ('6455997', '9582575'), ('6455997', '6138079'), ('6455997', '9649581'), ('9582575', '6138079'), ('9582575', '9649581'), ('6138079', '9649581')]]\n"
     ]
    }
   ],
   "source": [
    "edges_graph_data2 = []\n",
    "edges_graph_final = []\n",
    "for item in graph_data2:\n",
    "    for i in range(len(item)):\n",
    "        for j in range(i+1, len(item)):\n",
    "            edges_graph_data2.append((item[i],item[j]))\n",
    "    edges_graph_final.append(edges_graph_data2)\n",
    "    edges_graph_data2 = []\n",
    "print(len(edges_graph_final[1]))\n",
    "print(edges_graph_final)"
   ]
  },
  {
   "cell_type": "code",
   "execution_count": null,
   "metadata": {},
   "outputs": [],
   "source": [
    "for lst in graph_data[:6750]:\n",
    "    for i in range(len(lst)):\n",
    "        for j in range(i+1, len(lst)):\n",
    "            edges_nested.append((lst[i],lst[j])) "
   ]
  },
  {
   "cell_type": "markdown",
   "metadata": {},
   "source": [
    "### Creating Edges from an Actual Data"
   ]
  },
  {
   "cell_type": "code",
   "execution_count": 34,
   "metadata": {},
   "outputs": [],
   "source": [
    "#trying on 30% from an actual set\n",
    "edges_nested = []\n",
    "for lst in graph_data[:6750]:\n",
    "    for i in range(len(lst)):\n",
    "        for j in range(i+1, len(lst)):\n",
    "            edges_nested.append((lst[i],lst[j])) "
   ]
  },
  {
   "cell_type": "code",
   "execution_count": 36,
   "metadata": {},
   "outputs": [
    {
     "name": "stdout",
     "output_type": "stream",
     "text": [
      "[('4594575', '9649581'), ('4594575', '3313879'), ('4594575', '6138079'), ('4594575', '6524595'), ('4594575', '6670222'), ('9649581', '3313879'), ('9649581', '6138079'), ('9649581', '6524595'), ('9649581', '6670222'), ('3313879', '6138079')]\n",
      "<class 'list'>\n",
      "142338\n"
     ]
    }
   ],
   "source": [
    "print(edges_nested[:10])\n",
    "print(type(edges_nested))\n",
    "print(len(edges_nested))"
   ]
  },
  {
   "cell_type": "code",
   "execution_count": 37,
   "metadata": {},
   "outputs": [],
   "source": [
    "#trying on 50% from an actual set\n",
    "edges_nested_half = []\n",
    "for lst in graph_data[:11252]:\n",
    "    for i in range(len(lst)):\n",
    "        for j in range(i+1, len(lst)):\n",
    "            edges_nested_half.append((lst[i],lst[j])) "
   ]
  },
  {
   "cell_type": "code",
   "execution_count": 38,
   "metadata": {},
   "outputs": [
    {
     "name": "stdout",
     "output_type": "stream",
     "text": [
      "[('4594575', '9649581'), ('4594575', '3313879'), ('4594575', '6138079'), ('4594575', '6524595'), ('4594575', '6670222'), ('9649581', '3313879'), ('9649581', '6138079'), ('9649581', '6524595'), ('9649581', '6670222'), ('3313879', '6138079')]\n",
      "<class 'list'>\n",
      "174642\n"
     ]
    }
   ],
   "source": [
    "print(edges_nested_half[:10])\n",
    "print(type(edges_nested_half))\n",
    "print(len(edges_nested_half))"
   ]
  },
  {
   "cell_type": "code",
   "execution_count": 42,
   "metadata": {},
   "outputs": [],
   "source": [
    "#full dataset\n",
    "graph_edges_nested = []\n",
    "for lst in graph_data:\n",
    "    for i in range(len(lst)):\n",
    "        for j in range(i+1, len(lst)):\n",
    "            graph_edges_nested.append((lst[i],lst[j])) "
   ]
  },
  {
   "cell_type": "code",
   "execution_count": 43,
   "metadata": {},
   "outputs": [
    {
     "name": "stdout",
     "output_type": "stream",
     "text": [
      "[('4594575', '9649581'), ('4594575', '3313879'), ('4594575', '6138079'), ('4594575', '6524595'), ('4594575', '6670222'), ('9649581', '3313879'), ('9649581', '6138079'), ('9649581', '6524595'), ('9649581', '6670222'), ('3313879', '6138079')]\n",
      "<class 'list'>\n",
      "221270\n"
     ]
    }
   ],
   "source": [
    "print(graph_edges_nested[:10])\n",
    "print(type(graph_edges_nested))\n",
    "print(len(graph_edges_nested))"
   ]
  },
  {
   "cell_type": "markdown",
   "metadata": {},
   "source": [
    "### Creating Edges per List (meeting)"
   ]
  },
  {
   "cell_type": "code",
   "execution_count": 65,
   "metadata": {},
   "outputs": [
    {
     "name": "stdout",
     "output_type": "stream",
     "text": [
      "22503\n"
     ]
    }
   ],
   "source": [
    "graph_edges_full = []\n",
    "graph_edges_partial = []\n",
    "for item in graph_data:\n",
    "    for i in range(len(item)):\n",
    "        for j in range(i+1, len(item)):\n",
    "            graph_edges_partial.append((item[i],item[j]))\n",
    "    graph_edges_full.append(graph_edges_partial)\n",
    "    graph_edges_partial = []\n",
    "print(len(graph_edges_full))\n",
    "#print(graph_edges_full)"
   ]
  },
  {
   "cell_type": "code",
   "execution_count": 66,
   "metadata": {},
   "outputs": [
    {
     "data": {
      "text/plain": [
       "[[('4594575', '9649581'),\n",
       "  ('4594575', '3313879'),\n",
       "  ('4594575', '6138079'),\n",
       "  ('4594575', '6524595'),\n",
       "  ('4594575', '6670222'),\n",
       "  ('9649581', '3313879'),\n",
       "  ('9649581', '6138079'),\n",
       "  ('9649581', '6524595'),\n",
       "  ('9649581', '6670222'),\n",
       "  ('3313879', '6138079'),\n",
       "  ('3313879', '6524595'),\n",
       "  ('3313879', '6670222'),\n",
       "  ('6138079', '6524595'),\n",
       "  ('6138079', '6670222'),\n",
       "  ('6524595', '6670222')],\n",
       " [('4594575', '6455997'),\n",
       "  ('4594575', '9582575'),\n",
       "  ('4594575', '6138079'),\n",
       "  ('4594575', '9649581'),\n",
       "  ('6455997', '9582575'),\n",
       "  ('6455997', '6138079'),\n",
       "  ('6455997', '9649581'),\n",
       "  ('9582575', '6138079'),\n",
       "  ('9582575', '9649581'),\n",
       "  ('6138079', '9649581')],\n",
       " [('4594575', '6138079'), ('4594575', '9649581'), ('6138079', '9649581')]]"
      ]
     },
     "execution_count": 66,
     "metadata": {},
     "output_type": "execute_result"
    }
   ],
   "source": [
    "graph_edges_full[:3]"
   ]
  },
  {
   "cell_type": "markdown",
   "metadata": {},
   "source": [
    "### Counting Edge Weights "
   ]
  },
  {
   "cell_type": "markdown",
   "metadata": {},
   "source": [
    "For each meeting\n",
    "  get all pairs of participants\n",
    "  if pair is in G.edges:\n",
    "    increase edge weight by 1\n",
    "  else\n",
    "    add edge to graph"
   ]
  },
  {
   "cell_type": "code",
   "execution_count": 67,
   "metadata": {},
   "outputs": [],
   "source": [
    "G = nx.Graph()"
   ]
  },
  {
   "cell_type": "code",
   "execution_count": null,
   "metadata": {},
   "outputs": [],
   "source": [
    "w=1\n",
    "for i in graph_edges_full:\n",
    "    if i in G.edges:\n",
    "        w +=1\n",
    "    else:\n",
    "        G.edges \n",
    "    "
   ]
  },
  {
   "cell_type": "code",
   "execution_count": null,
   "metadata": {},
   "outputs": [],
   "source": [
    "for u, v, d in G_mat.edges(data=True):\n",
    "    d['weight'] = 1\n",
    "for u,v,d in G_mat.edges(data=True):\n",
    "    print(u,v,d)"
   ]
  },
  {
   "cell_type": "markdown",
   "metadata": {},
   "source": [
    "#### misc"
   ]
  },
  {
   "cell_type": "code",
   "execution_count": null,
   "metadata": {},
   "outputs": [],
   "source": [
    "dic={}\n",
    "for i in uniq_nodes_2:\n",
    "    for j in graph_data:\n",
    "        if i in j:\n",
    "            if i in dic:\n",
    "                dic[i]+=j\n",
    "            else:\n",
    "                dic[i]=j"
   ]
  },
  {
   "cell_type": "code",
   "execution_count": 18,
   "metadata": {},
   "outputs": [
    {
     "ename": "KeyboardInterrupt",
     "evalue": "",
     "output_type": "error",
     "traceback": [
      "\u001b[0;31m---------------------------------------------------------------------------\u001b[0m",
      "\u001b[0;31mKeyboardInterrupt\u001b[0m                         Traceback (most recent call last)",
      "\u001b[0;32m<ipython-input-18-84d961d5169e>\u001b[0m in \u001b[0;36m<module>\u001b[0;34m\u001b[0m\n\u001b[1;32m      2\u001b[0m \u001b[0;32mfor\u001b[0m \u001b[0mi\u001b[0m \u001b[0;32min\u001b[0m \u001b[0muniq_nodes_2\u001b[0m\u001b[0;34m:\u001b[0m\u001b[0;34m\u001b[0m\u001b[0;34m\u001b[0m\u001b[0m\n\u001b[1;32m      3\u001b[0m     \u001b[0;32mfor\u001b[0m \u001b[0mj\u001b[0m \u001b[0;32min\u001b[0m \u001b[0mgraph_data\u001b[0m\u001b[0;34m:\u001b[0m\u001b[0;34m\u001b[0m\u001b[0;34m\u001b[0m\u001b[0m\n\u001b[0;32m----> 4\u001b[0;31m         \u001b[0;32mif\u001b[0m \u001b[0mi\u001b[0m \u001b[0;32min\u001b[0m \u001b[0mj\u001b[0m\u001b[0;34m:\u001b[0m\u001b[0;34m\u001b[0m\u001b[0;34m\u001b[0m\u001b[0m\n\u001b[0m\u001b[1;32m      5\u001b[0m             \u001b[0;32mif\u001b[0m \u001b[0mi\u001b[0m \u001b[0;32min\u001b[0m \u001b[0mdic\u001b[0m\u001b[0;34m:\u001b[0m\u001b[0;34m\u001b[0m\u001b[0;34m\u001b[0m\u001b[0m\n\u001b[1;32m      6\u001b[0m                 \u001b[0mdic\u001b[0m\u001b[0;34m[\u001b[0m\u001b[0mi\u001b[0m\u001b[0;34m]\u001b[0m\u001b[0;34m.\u001b[0m\u001b[0mextend\u001b[0m\u001b[0;34m(\u001b[0m\u001b[0mj\u001b[0m\u001b[0;34m)\u001b[0m\u001b[0;34m\u001b[0m\u001b[0;34m\u001b[0m\u001b[0m\n",
      "\u001b[0;31mKeyboardInterrupt\u001b[0m: "
     ]
    }
   ],
   "source": [
    "dic={}\n",
    "for i in uniq_nodes_2:\n",
    "    for j in graph_data:\n",
    "        if i in j:\n",
    "            if i in dic:\n",
    "                dic[i].extend(j)\n",
    "            else:\n",
    "                dic[i]=j           "
   ]
  },
  {
   "cell_type": "markdown",
   "metadata": {},
   "source": [
    "### Removing duplicates"
   ]
  },
  {
   "cell_type": "code",
   "execution_count": null,
   "metadata": {},
   "outputs": [],
   "source": [
    "no_dup = {k: list(set(v)) for k, v in dic.items()}"
   ]
  },
  {
   "cell_type": "code",
   "execution_count": null,
   "metadata": {},
   "outputs": [],
   "source": [
    "no_dup"
   ]
  },
  {
   "cell_type": "markdown",
   "metadata": {},
   "source": [
    "### Building a Graph"
   ]
  },
  {
   "cell_type": "code",
   "execution_count": null,
   "metadata": {},
   "outputs": [],
   "source": [
    "#G_2 = nx.Graph(dic)"
   ]
  },
  {
   "cell_type": "code",
   "execution_count": null,
   "metadata": {},
   "outputs": [],
   "source": [
    "G = nx.Graph(no_dup)"
   ]
  },
  {
   "cell_type": "code",
   "execution_count": null,
   "metadata": {},
   "outputs": [],
   "source": [
    "G.size()"
   ]
  },
  {
   "cell_type": "code",
   "execution_count": null,
   "metadata": {},
   "outputs": [],
   "source": [
    "len(G.nodes())"
   ]
  },
  {
   "cell_type": "code",
   "execution_count": null,
   "metadata": {},
   "outputs": [],
   "source": [
    "nx.draw_networkx(G)"
   ]
  },
  {
   "cell_type": "code",
   "execution_count": null,
   "metadata": {},
   "outputs": [],
   "source": [
    "start_pos = nx.spring_layout(G, seed = 100)\n",
    "nx.draw_networkx(G, pos=start_pos)"
   ]
  },
  {
   "cell_type": "code",
   "execution_count": null,
   "metadata": {},
   "outputs": [],
   "source": [
    "for k, v in no_dup.items():\n",
    "    G.add_edges_from(([(k, t) for t in v]))"
   ]
  },
  {
   "cell_type": "code",
   "execution_count": null,
   "metadata": {},
   "outputs": [],
   "source": [
    "edge_list = G.edges()"
   ]
  },
  {
   "cell_type": "code",
   "execution_count": null,
   "metadata": {},
   "outputs": [],
   "source": [
    "edge_list"
   ]
  },
  {
   "cell_type": "code",
   "execution_count": null,
   "metadata": {},
   "outputs": [],
   "source": [
    "len(G.edges())"
   ]
  },
  {
   "cell_type": "code",
   "execution_count": null,
   "metadata": {},
   "outputs": [],
   "source": [
    "#start_pos = nx.spring_layout(G, seed = 100)\n",
    "nx.draw_networkx(G)"
   ]
  },
  {
   "cell_type": "markdown",
   "metadata": {},
   "source": [
    "### Trying with an adjacency matrix"
   ]
  },
  {
   "cell_type": "code",
   "execution_count": null,
   "metadata": {},
   "outputs": [],
   "source": [
    "g = {k: [v.strip() for v in vs] for k, vs in no_dup.items()}\n",
    "\n",
    "edges = [(a, b) for a, bs in no_dup.items() for b in bs]\n",
    "\n",
    "df = pd.DataFrame(edges)\n",
    "\n",
    "adj_matrix = pd.crosstab(df[0], df[1])"
   ]
  },
  {
   "cell_type": "code",
   "execution_count": null,
   "metadata": {},
   "outputs": [],
   "source": [
    "G_mat = nx.Graph(adj_matrix)\n",
    "start_pos = nx.spring_layout(G_mat, seed = 100)\n",
    "nx.draw_networkx(G_mat, pos=start_pos)"
   ]
  },
  {
   "cell_type": "code",
   "execution_count": null,
   "metadata": {},
   "outputs": [],
   "source": [
    "for u, v, d in G_mat.edges(data=True):\n",
    "    d['weight'] = 1\n",
    "for u,v,d in G_mat.edges(data=True):\n",
    "    print(u,v,d)"
   ]
  },
  {
   "cell_type": "code",
   "execution_count": null,
   "metadata": {},
   "outputs": [],
   "source": [
    "for a,b,c in G.edges(data=True):\n",
    "    c['weight'] = 1\n",
    "for a,b,c in G.edges(data=True):\n",
    "    print(a,b,c)"
   ]
  },
  {
   "cell_type": "code",
   "execution_count": null,
   "metadata": {},
   "outputs": [],
   "source": [
    "vw_dist = dist[v] + edgedata.get(weight,1)"
   ]
  },
  {
   "cell_type": "code",
   "execution_count": null,
   "metadata": {},
   "outputs": [],
   "source": [
    "#G = nx.DiGraph(adjacency_matrix)\n",
    "#start_pos = nx.spring_layout(G_mat, seed = 100)\n",
    "labels = nx.get_edge_attributes(G_mat,'weight')\n",
    "nx.draw_networkx_edge_labels(G_mat,pos=start_pos,edge_labels=labels)\n",
    "nx.draw_networkx(G_mat, pos=start_pos)"
   ]
  },
  {
   "cell_type": "markdown",
   "metadata": {},
   "source": [
    "### Repeating same steps with smaller set "
   ]
  },
  {
   "cell_type": "code",
   "execution_count": null,
   "metadata": {},
   "outputs": [],
   "source": [
    "small_set = graph_data[:10]\n",
    "len(small_set)"
   ]
  },
  {
   "cell_type": "code",
   "execution_count": null,
   "metadata": {},
   "outputs": [],
   "source": [
    "small_set_uniq_nodes = {x for l in small_set for x in l}"
   ]
  },
  {
   "cell_type": "code",
   "execution_count": null,
   "metadata": {},
   "outputs": [],
   "source": [
    "len(small_set_uniq_nodes)"
   ]
  },
  {
   "cell_type": "code",
   "execution_count": null,
   "metadata": {},
   "outputs": [],
   "source": [
    "small_set_uniq_nodes = list(small_set_uniq_nodes)"
   ]
  },
  {
   "cell_type": "code",
   "execution_count": null,
   "metadata": {},
   "outputs": [],
   "source": [
    "small_dict={}\n",
    "for i in small_set_uniq_nodes:\n",
    "    for j in small_set:\n",
    "        if i in j:\n",
    "            if i in small_dict:\n",
    "                small_dict[i]+=j\n",
    "            else:\n",
    "                small_dict[i]=j           "
   ]
  },
  {
   "cell_type": "code",
   "execution_count": null,
   "metadata": {
    "scrolled": true
   },
   "outputs": [],
   "source": [
    "len(small_dict)"
   ]
  },
  {
   "cell_type": "code",
   "execution_count": null,
   "metadata": {},
   "outputs": [],
   "source": [
    "#small_G = nx.Graph(small_dict)"
   ]
  },
  {
   "cell_type": "code",
   "execution_count": null,
   "metadata": {},
   "outputs": [],
   "source": [
    "start_pos = nx.spring_layout(small_G, seed = 100)\n",
    "nx.draw_networkx(small_G, pos=start_pos)"
   ]
  },
  {
   "cell_type": "markdown",
   "metadata": {},
   "source": [
    "### Misc"
   ]
  },
  {
   "cell_type": "code",
   "execution_count": null,
   "metadata": {},
   "outputs": [],
   "source": [
    "plt.figure(figsize=(18,18))\n",
    "graph_pos = nx.spring_layout(G)\n",
    "nx.draw_networkx_nodes(G, graph_pos, node_size=10, node_color='blue', alpha=0.3)\n",
    "nx.draw_networkx_edges(G, graph_pos)\n",
    "nx.draw_networkx_labels(G, graph_pos, font_size=8, font_family='sans-serif')\n",
    "\n",
    "plt.show()"
   ]
  },
  {
   "cell_type": "code",
   "execution_count": null,
   "metadata": {},
   "outputs": [],
   "source": [
    "#nx.draw(G)\n",
    "#nx.draw_random(G)  \n",
    "#nx.draw_spectral(G)  \n",
    "#nx.draw_spring(G)"
   ]
  },
  {
   "cell_type": "code",
   "execution_count": null,
   "metadata": {},
   "outputs": [],
   "source": []
  },
  {
   "cell_type": "code",
   "execution_count": null,
   "metadata": {},
   "outputs": [],
   "source": []
  }
 ],
 "metadata": {
  "kernelspec": {
   "display_name": "Python 3",
   "language": "python",
   "name": "python3"
  },
  "language_info": {
   "codemirror_mode": {
    "name": "ipython",
    "version": 3
   },
   "file_extension": ".py",
   "mimetype": "text/x-python",
   "name": "python",
   "nbconvert_exporter": "python",
   "pygments_lexer": "ipython3",
   "version": "3.7.3"
  }
 },
 "nbformat": 4,
 "nbformat_minor": 2
}
