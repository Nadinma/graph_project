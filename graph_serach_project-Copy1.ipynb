{
 "cells": [
  {
   "cell_type": "markdown",
   "metadata": {},
   "source": [
    "### Making imports "
   ]
  },
  {
   "cell_type": "code",
   "execution_count": 40,
   "metadata": {},
   "outputs": [],
   "source": [
    "import networkx as nx\n",
    "import numpy as np\n",
    "import pandas as pd\n",
    "import operator\n",
    "import json\n",
    "from collections import defaultdict\n",
    "import matplotlib.pyplot as plt\n",
    "import colorsys\n",
    "import queue\n",
    "import community as community_louvain\n",
    "import matplotlib.cm as cm"
   ]
  },
  {
   "cell_type": "markdown",
   "metadata": {},
   "source": [
    "### Uploading and Preprocessing Data"
   ]
  },
  {
   "cell_type": "code",
   "execution_count": 4,
   "metadata": {},
   "outputs": [],
   "source": [
    "explore_data = pd.read_json(\"events-participants-as-array.json\")"
   ]
  },
  {
   "cell_type": "code",
   "execution_count": 5,
   "metadata": {},
   "outputs": [
    {
     "data": {
      "text/plain": [
       "(4892, 14)"
      ]
     },
     "execution_count": 5,
     "metadata": {},
     "output_type": "execute_result"
    }
   ],
   "source": [
    "explore_data.shape"
   ]
  },
  {
   "cell_type": "code",
   "execution_count": 44,
   "metadata": {},
   "outputs": [
    {
     "data": {
      "text/plain": [
       "pandas.core.frame.DataFrame"
      ]
     },
     "execution_count": 44,
     "metadata": {},
     "output_type": "execute_result"
    }
   ],
   "source": [
    "type(explore_data)"
   ]
  },
  {
   "cell_type": "code",
   "execution_count": 6,
   "metadata": {},
   "outputs": [
    {
     "data": {
      "text/html": [
       "<div>\n",
       "<style scoped>\n",
       "    .dataframe tbody tr th:only-of-type {\n",
       "        vertical-align: middle;\n",
       "    }\n",
       "\n",
       "    .dataframe tbody tr th {\n",
       "        vertical-align: top;\n",
       "    }\n",
       "\n",
       "    .dataframe thead th {\n",
       "        text-align: right;\n",
       "    }\n",
       "</style>\n",
       "<table border=\"1\" class=\"dataframe\">\n",
       "  <thead>\n",
       "    <tr style=\"text-align: right;\">\n",
       "      <th></th>\n",
       "      <th>0</th>\n",
       "      <th>1</th>\n",
       "      <th>2</th>\n",
       "      <th>3</th>\n",
       "      <th>4</th>\n",
       "      <th>5</th>\n",
       "      <th>6</th>\n",
       "      <th>7</th>\n",
       "      <th>8</th>\n",
       "      <th>9</th>\n",
       "      <th>10</th>\n",
       "      <th>11</th>\n",
       "      <th>12</th>\n",
       "      <th>13</th>\n",
       "    </tr>\n",
       "  </thead>\n",
       "  <tbody>\n",
       "    <tr>\n",
       "      <th>0</th>\n",
       "      <td>34</td>\n",
       "      <td>32.0</td>\n",
       "      <td>30.0</td>\n",
       "      <td>26.0</td>\n",
       "      <td>NaN</td>\n",
       "      <td>NaN</td>\n",
       "      <td>NaN</td>\n",
       "      <td>NaN</td>\n",
       "      <td>NaN</td>\n",
       "      <td>NaN</td>\n",
       "      <td>NaN</td>\n",
       "      <td>NaN</td>\n",
       "      <td>NaN</td>\n",
       "      <td>NaN</td>\n",
       "    </tr>\n",
       "    <tr>\n",
       "      <th>1</th>\n",
       "      <td>34</td>\n",
       "      <td>32.0</td>\n",
       "      <td>25.0</td>\n",
       "      <td>21.0</td>\n",
       "      <td>17.0</td>\n",
       "      <td>15.0</td>\n",
       "      <td>10.0</td>\n",
       "      <td>9.0</td>\n",
       "      <td>8.0</td>\n",
       "      <td>7.0</td>\n",
       "      <td>6.0</td>\n",
       "      <td>NaN</td>\n",
       "      <td>NaN</td>\n",
       "      <td>NaN</td>\n",
       "    </tr>\n",
       "    <tr>\n",
       "      <th>2</th>\n",
       "      <td>34</td>\n",
       "      <td>32.0</td>\n",
       "      <td>30.0</td>\n",
       "      <td>29.0</td>\n",
       "      <td>24.0</td>\n",
       "      <td>NaN</td>\n",
       "      <td>NaN</td>\n",
       "      <td>NaN</td>\n",
       "      <td>NaN</td>\n",
       "      <td>NaN</td>\n",
       "      <td>NaN</td>\n",
       "      <td>NaN</td>\n",
       "      <td>NaN</td>\n",
       "      <td>NaN</td>\n",
       "    </tr>\n",
       "    <tr>\n",
       "      <th>3</th>\n",
       "      <td>26</td>\n",
       "      <td>24.0</td>\n",
       "      <td>21.0</td>\n",
       "      <td>17.0</td>\n",
       "      <td>3.0</td>\n",
       "      <td>2.0</td>\n",
       "      <td>1.0</td>\n",
       "      <td>NaN</td>\n",
       "      <td>NaN</td>\n",
       "      <td>NaN</td>\n",
       "      <td>NaN</td>\n",
       "      <td>NaN</td>\n",
       "      <td>NaN</td>\n",
       "      <td>NaN</td>\n",
       "    </tr>\n",
       "    <tr>\n",
       "      <th>4</th>\n",
       "      <td>26</td>\n",
       "      <td>20.0</td>\n",
       "      <td>14.0</td>\n",
       "      <td>11.0</td>\n",
       "      <td>8.0</td>\n",
       "      <td>3.0</td>\n",
       "      <td>1.0</td>\n",
       "      <td>NaN</td>\n",
       "      <td>NaN</td>\n",
       "      <td>NaN</td>\n",
       "      <td>NaN</td>\n",
       "      <td>NaN</td>\n",
       "      <td>NaN</td>\n",
       "      <td>NaN</td>\n",
       "    </tr>\n",
       "  </tbody>\n",
       "</table>\n",
       "</div>"
      ],
      "text/plain": [
       "   0     1     2     3     4     5     6    7    8    9    10  11  12  13\n",
       "0  34  32.0  30.0  26.0   NaN   NaN   NaN  NaN  NaN  NaN  NaN NaN NaN NaN\n",
       "1  34  32.0  25.0  21.0  17.0  15.0  10.0  9.0  8.0  7.0  6.0 NaN NaN NaN\n",
       "2  34  32.0  30.0  29.0  24.0   NaN   NaN  NaN  NaN  NaN  NaN NaN NaN NaN\n",
       "3  26  24.0  21.0  17.0   3.0   2.0   1.0  NaN  NaN  NaN  NaN NaN NaN NaN\n",
       "4  26  20.0  14.0  11.0   8.0   3.0   1.0  NaN  NaN  NaN  NaN NaN NaN NaN"
      ]
     },
     "execution_count": 6,
     "metadata": {},
     "output_type": "execute_result"
    }
   ],
   "source": [
    "explore_data.head()"
   ]
  },
  {
   "cell_type": "code",
   "execution_count": 7,
   "metadata": {},
   "outputs": [],
   "source": [
    "with open('events-participants-as-array.json') as json_file:\n",
    "    graph_data = json.load(json_file)"
   ]
  },
  {
   "cell_type": "code",
   "execution_count": 8,
   "metadata": {},
   "outputs": [
    {
     "data": {
      "text/plain": [
       "list"
      ]
     },
     "execution_count": 8,
     "metadata": {},
     "output_type": "execute_result"
    }
   ],
   "source": [
    "type(graph_data)"
   ]
  },
  {
   "cell_type": "code",
   "execution_count": 9,
   "metadata": {},
   "outputs": [
    {
     "name": "stdout",
     "output_type": "stream",
     "text": [
      "4892\n",
      "[['34', '32', '30', '26'], ['34', '32', '25', '21', '17', '15', '10', '9', '8', '7', '6']]\n"
     ]
    }
   ],
   "source": [
    "print(len(graph_data))\n",
    "print(graph_data[:2])"
   ]
  },
  {
   "cell_type": "markdown",
   "metadata": {},
   "source": [
    "### Creating Unique Nodes"
   ]
  },
  {
   "cell_type": "code",
   "execution_count": 10,
   "metadata": {},
   "outputs": [],
   "source": [
    "uniq_nodes = {x for l in graph_data for x in l}"
   ]
  },
  {
   "cell_type": "code",
   "execution_count": 11,
   "metadata": {},
   "outputs": [
    {
     "name": "stdout",
     "output_type": "stream",
     "text": [
      "70\n",
      "<class 'set'>\n"
     ]
    }
   ],
   "source": [
    "print(len(uniq_nodes))\n",
    "print(type(uniq_nodes))"
   ]
  },
  {
   "cell_type": "code",
   "execution_count": 12,
   "metadata": {},
   "outputs": [
    {
     "name": "stdout",
     "output_type": "stream",
     "text": [
      "70\n"
     ]
    }
   ],
   "source": [
    "#checking with an alternative code\n",
    "res=()\n",
    "for item in graph_data:\n",
    "    res = list(set(res) | set(item))\n",
    "print(len(res))"
   ]
  },
  {
   "cell_type": "code",
   "execution_count": 13,
   "metadata": {},
   "outputs": [],
   "source": [
    "#converting set into a list\n",
    "uniq_nodes_2 = list(uniq_nodes)"
   ]
  },
  {
   "cell_type": "code",
   "execution_count": 14,
   "metadata": {},
   "outputs": [
    {
     "name": "stdout",
     "output_type": "stream",
     "text": [
      "70\n",
      "<class 'list'>\n"
     ]
    }
   ],
   "source": [
    "print(len(uniq_nodes_2))\n",
    "print(type(uniq_nodes_2))"
   ]
  },
  {
   "cell_type": "code",
   "execution_count": 15,
   "metadata": {},
   "outputs": [
    {
     "data": {
      "text/plain": [
       "['42', '46', '45', '71', '1', '48', '62', '7', '18', '8']"
      ]
     },
     "execution_count": 15,
     "metadata": {},
     "output_type": "execute_result"
    }
   ],
   "source": [
    "uniq_nodes_2[:10]"
   ]
  },
  {
   "cell_type": "code",
   "execution_count": 22,
   "metadata": {},
   "outputs": [],
   "source": [
    "graph_data2 = [['4594575', '9649581', '3313879', '6138079', '6524595', '6670222'], ['4594575', '6455997', '9582575', '6138079', '9649581']]"
   ]
  },
  {
   "cell_type": "code",
   "execution_count": 17,
   "metadata": {
    "scrolled": true
   },
   "outputs": [
    {
     "data": {
      "text/plain": [
       "2"
      ]
     },
     "execution_count": 17,
     "metadata": {},
     "output_type": "execute_result"
    }
   ],
   "source": [
    "len(graph_data2)"
   ]
  },
  {
   "cell_type": "code",
   "execution_count": 18,
   "metadata": {},
   "outputs": [
    {
     "data": {
      "text/plain": [
       "[['4594575', '9649581'],\n",
       " ['4594575', '3313879'],\n",
       " ['4594575', '6138079'],\n",
       " ['4594575', '6524595'],\n",
       " ['4594575', '6670222'],\n",
       " ['4594575', '6455997'],\n",
       " ['4594575', '9582575'],\n",
       " ['4594575', '6138079'],\n",
       " ['4594575', '9649581']]"
      ]
     },
     "execution_count": 18,
     "metadata": {},
     "output_type": "execute_result"
    }
   ],
   "source": [
    "#creating edges on a smaller data set\n",
    "edge = [[i[0],j] for i in graph_data2 for j in i[1:]]\n",
    "edge"
   ]
  },
  {
   "cell_type": "code",
   "execution_count": 19,
   "metadata": {},
   "outputs": [
    {
     "data": {
      "text/plain": [
       "['4594575', '9649581', '3313879', '6138079', '6524595', '6670222']"
      ]
     },
     "execution_count": 19,
     "metadata": {},
     "output_type": "execute_result"
    }
   ],
   "source": [
    "#creating edges from a list of meetings \n",
    "graph_data3 = graph_data2[0]\n",
    "graph_data3"
   ]
  },
  {
   "cell_type": "code",
   "execution_count": 20,
   "metadata": {},
   "outputs": [],
   "source": [
    "edges_graph_data3 = [(graph_data3[i],graph_data3[j]) for i in range(len(graph_data3)) for j in range(i+1, len(graph_data3))]"
   ]
  },
  {
   "cell_type": "code",
   "execution_count": 21,
   "metadata": {},
   "outputs": [
    {
     "name": "stdout",
     "output_type": "stream",
     "text": [
      "[('4594575', '9649581'), ('4594575', '3313879'), ('4594575', '6138079'), ('4594575', '6524595'), ('4594575', '6670222'), ('9649581', '3313879'), ('9649581', '6138079'), ('9649581', '6524595'), ('9649581', '6670222'), ('3313879', '6138079'), ('3313879', '6524595'), ('3313879', '6670222'), ('6138079', '6524595'), ('6138079', '6670222'), ('6524595', '6670222')]\n",
      "<class 'list'>\n",
      "15\n"
     ]
    }
   ],
   "source": [
    "print(edges_graph_data3)\n",
    "print(type(edges_graph_data3))\n",
    "print(len(edges_graph_data3))"
   ]
  },
  {
   "cell_type": "code",
   "execution_count": 23,
   "metadata": {},
   "outputs": [],
   "source": [
    "#rechecking the code above \n",
    "edges = []\n",
    "for i in range(len(graph_data3)):\n",
    "    for j in range(i+1, len(graph_data3)):\n",
    "        edges.append((graph_data3[i],graph_data3[j])) "
   ]
  },
  {
   "cell_type": "code",
   "execution_count": 24,
   "metadata": {},
   "outputs": [
    {
     "name": "stdout",
     "output_type": "stream",
     "text": [
      "[('4594575', '9649581'), ('4594575', '3313879'), ('4594575', '6138079'), ('4594575', '6524595'), ('4594575', '6670222'), ('9649581', '3313879'), ('9649581', '6138079'), ('9649581', '6524595'), ('9649581', '6670222'), ('3313879', '6138079'), ('3313879', '6524595'), ('3313879', '6670222'), ('6138079', '6524595'), ('6138079', '6670222'), ('6524595', '6670222')]\n",
      "<class 'list'>\n",
      "15\n"
     ]
    }
   ],
   "source": [
    "print(edges)\n",
    "print(type(edges))\n",
    "print(len(edges))"
   ]
  },
  {
   "cell_type": "code",
   "execution_count": 25,
   "metadata": {},
   "outputs": [
    {
     "name": "stdout",
     "output_type": "stream",
     "text": [
      "10\n",
      "[[('4594575', '9649581'), ('4594575', '3313879'), ('4594575', '6138079'), ('4594575', '6524595'), ('4594575', '6670222'), ('9649581', '3313879'), ('9649581', '6138079'), ('9649581', '6524595'), ('9649581', '6670222'), ('3313879', '6138079'), ('3313879', '6524595'), ('3313879', '6670222'), ('6138079', '6524595'), ('6138079', '6670222'), ('6524595', '6670222')], [('4594575', '6455997'), ('4594575', '9582575'), ('4594575', '6138079'), ('4594575', '9649581'), ('6455997', '9582575'), ('6455997', '6138079'), ('6455997', '9649581'), ('9582575', '6138079'), ('9582575', '9649581'), ('6138079', '9649581')]]\n"
     ]
    }
   ],
   "source": [
    "edges_graph_data2 = []\n",
    "edges_graph_final = []\n",
    "for item in graph_data2:\n",
    "    for i in range(len(item)):\n",
    "        for j in range(i+1, len(item)):\n",
    "            edges_graph_data2.append((item[i],item[j]))\n",
    "    edges_graph_final.append(edges_graph_data2)\n",
    "    edges_graph_data2 = []\n",
    "print(len(edges_graph_final[1]))\n",
    "print(edges_graph_final)"
   ]
  },
  {
   "cell_type": "markdown",
   "metadata": {},
   "source": [
    "### Creating Edges from an Actual Data"
   ]
  },
  {
   "cell_type": "code",
   "execution_count": 25,
   "metadata": {},
   "outputs": [],
   "source": [
    "#trying on 30% from an actual set\n",
    "edges_nested = []\n",
    "for lst in graph_data[:6750]:\n",
    "    for i in range(len(lst)):\n",
    "        for j in range(i+1, len(lst)):\n",
    "            edges_nested.append((lst[i],lst[j])) "
   ]
  },
  {
   "cell_type": "code",
   "execution_count": 26,
   "metadata": {},
   "outputs": [
    {
     "name": "stdout",
     "output_type": "stream",
     "text": [
      "[('34', '32'), ('34', '30'), ('34', '26'), ('32', '30'), ('32', '26'), ('30', '26'), ('34', '32'), ('34', '25'), ('34', '21'), ('34', '17')]\n",
      "<class 'list'>\n",
      "1533\n"
     ]
    }
   ],
   "source": [
    "print(edges_nested[:10])\n",
    "print(type(edges_nested))\n",
    "print(len(edges_nested))"
   ]
  },
  {
   "cell_type": "code",
   "execution_count": 27,
   "metadata": {},
   "outputs": [],
   "source": [
    "#trying on 50% from an actual set\n",
    "edges_nested_half = []\n",
    "for lst in graph_data[:11252]:\n",
    "    for i in range(len(lst)):\n",
    "        for j in range(i+1, len(lst)):\n",
    "            edges_nested_half.append((lst[i],lst[j])) "
   ]
  },
  {
   "cell_type": "code",
   "execution_count": 28,
   "metadata": {},
   "outputs": [
    {
     "name": "stdout",
     "output_type": "stream",
     "text": [
      "[('34', '32'), ('34', '30'), ('34', '26'), ('32', '30'), ('32', '26'), ('30', '26'), ('34', '32'), ('34', '25'), ('34', '21'), ('34', '17')]\n",
      "<class 'list'>\n",
      "1533\n"
     ]
    }
   ],
   "source": [
    "print(edges_nested_half[:10])\n",
    "print(type(edges_nested_half))\n",
    "print(len(edges_nested_half))"
   ]
  },
  {
   "cell_type": "code",
   "execution_count": 29,
   "metadata": {},
   "outputs": [],
   "source": [
    "#full dataset\n",
    "graph_edges_nested = []\n",
    "for lst in graph_data:\n",
    "    for i in range(len(lst)):\n",
    "        for j in range(i+1, len(lst)):\n",
    "            graph_edges_nested.append((lst[i],lst[j])) "
   ]
  },
  {
   "cell_type": "code",
   "execution_count": 30,
   "metadata": {},
   "outputs": [
    {
     "name": "stdout",
     "output_type": "stream",
     "text": [
      "[('34', '32'), ('34', '30'), ('34', '26'), ('32', '30'), ('32', '26'), ('30', '26'), ('34', '32'), ('34', '25'), ('34', '21'), ('34', '17')]\n",
      "<class 'list'>\n",
      "1533\n"
     ]
    }
   ],
   "source": [
    "print(graph_edges_nested[:10])\n",
    "print(type(graph_edges_nested))\n",
    "print(len(graph_edges_nested))"
   ]
  },
  {
   "cell_type": "markdown",
   "metadata": {},
   "source": [
    "### Creating Edges per List (meeting)"
   ]
  },
  {
   "cell_type": "code",
   "execution_count": 31,
   "metadata": {},
   "outputs": [
    {
     "name": "stdout",
     "output_type": "stream",
     "text": [
      "4892\n"
     ]
    }
   ],
   "source": [
    "graph_edges_full = []\n",
    "graph_edges_partial = []\n",
    "for item in graph_data:\n",
    "    for i in range(len(item)):\n",
    "        for j in range(i+1, len(item)):\n",
    "            graph_edges_partial.append((item[i],item[j]))\n",
    "    graph_edges_full.append(graph_edges_partial)\n",
    "    graph_edges_partial = []\n",
    "print(len(graph_edges_full))\n",
    "#print(graph_edges_full)"
   ]
  },
  {
   "cell_type": "code",
   "execution_count": 32,
   "metadata": {},
   "outputs": [
    {
     "data": {
      "text/plain": [
       "[[('34', '32'),\n",
       "  ('34', '30'),\n",
       "  ('34', '26'),\n",
       "  ('32', '30'),\n",
       "  ('32', '26'),\n",
       "  ('30', '26')],\n",
       " [('34', '32'),\n",
       "  ('34', '25'),\n",
       "  ('34', '21'),\n",
       "  ('34', '17'),\n",
       "  ('34', '15'),\n",
       "  ('34', '10'),\n",
       "  ('34', '9'),\n",
       "  ('34', '8'),\n",
       "  ('34', '7'),\n",
       "  ('34', '6'),\n",
       "  ('32', '25'),\n",
       "  ('32', '21'),\n",
       "  ('32', '17'),\n",
       "  ('32', '15'),\n",
       "  ('32', '10'),\n",
       "  ('32', '9'),\n",
       "  ('32', '8'),\n",
       "  ('32', '7'),\n",
       "  ('32', '6'),\n",
       "  ('25', '21'),\n",
       "  ('25', '17'),\n",
       "  ('25', '15'),\n",
       "  ('25', '10'),\n",
       "  ('25', '9'),\n",
       "  ('25', '8'),\n",
       "  ('25', '7'),\n",
       "  ('25', '6'),\n",
       "  ('21', '17'),\n",
       "  ('21', '15'),\n",
       "  ('21', '10'),\n",
       "  ('21', '9'),\n",
       "  ('21', '8'),\n",
       "  ('21', '7'),\n",
       "  ('21', '6'),\n",
       "  ('17', '15'),\n",
       "  ('17', '10'),\n",
       "  ('17', '9'),\n",
       "  ('17', '8'),\n",
       "  ('17', '7'),\n",
       "  ('17', '6'),\n",
       "  ('15', '10'),\n",
       "  ('15', '9'),\n",
       "  ('15', '8'),\n",
       "  ('15', '7'),\n",
       "  ('15', '6'),\n",
       "  ('10', '9'),\n",
       "  ('10', '8'),\n",
       "  ('10', '7'),\n",
       "  ('10', '6'),\n",
       "  ('9', '8'),\n",
       "  ('9', '7'),\n",
       "  ('9', '6'),\n",
       "  ('8', '7'),\n",
       "  ('8', '6'),\n",
       "  ('7', '6')],\n",
       " [('34', '32'),\n",
       "  ('34', '30'),\n",
       "  ('34', '29'),\n",
       "  ('34', '24'),\n",
       "  ('32', '30'),\n",
       "  ('32', '29'),\n",
       "  ('32', '24'),\n",
       "  ('30', '29'),\n",
       "  ('30', '24'),\n",
       "  ('29', '24')]]"
      ]
     },
     "execution_count": 32,
     "metadata": {},
     "output_type": "execute_result"
    }
   ],
   "source": [
    "graph_edges_full[:3]"
   ]
  },
  {
   "cell_type": "markdown",
   "metadata": {},
   "source": [
    "### Counting Edge Weights "
   ]
  },
  {
   "cell_type": "markdown",
   "metadata": {},
   "source": [
    "For each meeting\n",
    "  get all pairs of participants\n",
    "  if pair is in G.edges:\n",
    "    increase edge weight by 1\n",
    "  else\n",
    "    add edge to graph"
   ]
  },
  {
   "cell_type": "code",
   "execution_count": 34,
   "metadata": {},
   "outputs": [],
   "source": [
    "G = nx.Graph()"
   ]
  },
  {
   "cell_type": "code",
   "execution_count": 35,
   "metadata": {},
   "outputs": [],
   "source": [
    "for lst in graph_edges_full:\n",
    "    for e1, e2 in lst:\n",
    "        if G.has_edge(e1,e2) :\n",
    "            G[e1][e2]['weight'] += 1\n",
    "        else :\n",
    "            G.add_edge(e1,e2,weight=1)"
   ]
  },
  {
   "cell_type": "code",
   "execution_count": 36,
   "metadata": {},
   "outputs": [
    {
     "data": {
      "text/plain": [
       "635"
      ]
     },
     "execution_count": 36,
     "metadata": {},
     "output_type": "execute_result"
    }
   ],
   "source": [
    "G.size()"
   ]
  },
  {
   "cell_type": "code",
   "execution_count": 37,
   "metadata": {},
   "outputs": [
    {
     "data": {
      "text/plain": [
       "EdgeDataView([('34', '32', {'weight': 7}), ('34', '30', {'weight': 5}), ('34', '26', {'weight': 1}), ('34', '25', {'weight': 3}), ('34', '21', {'weight': 1}), ('34', '17', {'weight': 1}), ('34', '15', {'weight': 2}), ('34', '10', {'weight': 2}), ('34', '9', {'weight': 1}), ('34', '8', {'weight': 3}), ('34', '7', {'weight': 3}), ('34', '6', {'weight': 3}), ('34', '29', {'weight': 5}), ('34', '24', {'weight': 2}), ('34', '19', {'weight': 4}), ('34', '11', {'weight': 1}), ('34', '54', {'weight': 1}), ('34', '47', {'weight': 1}), ('34', '39', {'weight': 1}), ('34', '36', {'weight': 3}), ('34', '33', {'weight': 3}), ('34', '27', {'weight': 2}), ('34', '28', {'weight': 3}), ('34', '23', {'weight': 2}), ('34', '3', {'weight': 3}), ('34', '1', {'weight': 3}), ('34', '46', {'weight': 1}), ('34', '40', {'weight': 1}), ('34', '37', {'weight': 1}), ('34', '20', {'weight': 2}), ('34', '16', {'weight': 3}), ('34', '12', {'weight': 1}), ('34', '14', {'weight': 1}), ('34', '4', {'weight': 1}), ('32', '30', {'weight': 6}), ('32', '26', {'weight': 10}), ('32', '25', {'weight': 8}), ('32', '21', {'weight': 4}), ('32', '17', {'weight': 4}), ('32', '15', {'weight': 1}), ('32', '10', {'weight': 3}), ('32', '9', {'weight': 2}), ('32', '8', {'weight': 1}), ('32', '7', {'weight': 3}), ('32', '6', {'weight': 3}), ('32', '29', {'weight': 4}), ('32', '24', {'weight': 5}), ('32', '33', {'weight': 5}), ('32', '37', {'weight': 3}), ('32', '31', {'weight': 2}), ('32', '52', {'weight': 1}), ('32', '54', {'weight': 1}), ('32', '50', {'weight': 1}), ('32', '48', {'weight': 1}), ('32', '39', {'weight': 2}), ('32', '38', {'weight': 4}), ('32', '28', {'weight': 10}), ('32', '23', {'weight': 4}), ('32', '3', {'weight': 2}), ('32', '1', {'weight': 4}), ('32', '47', {'weight': 1}), ('32', '53', {'weight': 1}), ('32', '42', {'weight': 3}), ('32', '35', {'weight': 2}), ('32', '16', {'weight': 3}), ('32', '12', {'weight': 3}), ('32', '5', {'weight': 3}), ('32', '27', {'weight': 2}), ('32', '18', {'weight': 1}), ('32', '11', {'weight': 2}), ('32', '43', {'weight': 2}), ('32', '46', {'weight': 1}), ('32', '40', {'weight': 1}), ('32', '22', {'weight': 2}), ('32', '20', {'weight': 1}), ('32', '19', {'weight': 3}), ('32', '14', {'weight': 1}), ('32', '2', {'weight': 1}), ('32', '4', {'weight': 1}), ('32', '45', {'weight': 1}), ('30', '26', {'weight': 5}), ('30', '29', {'weight': 2}), ('30', '24', {'weight': 5}), ('30', '22', {'weight': 3}), ('30', '18', {'weight': 1}), ('30', '13', {'weight': 2}), ('30', '10', {'weight': 2}), ('30', '8', {'weight': 4}), ('30', '7', {'weight': 2}), ('30', '6', {'weight': 2}), ('30', '20', {'weight': 3}), ('30', '12', {'weight': 5}), ('30', '11', {'weight': 3}), ('30', '5', {'weight': 3}), ('30', '4', {'weight': 2}), ('30', '3', {'weight': 3}), ('30', '27', {'weight': 1}), ('30', '25', {'weight': 1}), ('30', '46', {'weight': 1}), ('30', '40', {'weight': 3}), ('30', '37', {'weight': 1}), ('30', '28', {'weight': 3}), ('30', '23', {'weight': 2}), ('30', '1', {'weight': 4}), ('30', '36', {'weight': 3}), ('30', '17', {'weight': 2}), ('30', '14', {'weight': 4}), ('30', '16', {'weight': 4}), ('30', '9', {'weight': 3}), ('30', '21', {'weight': 1}), ('30', '19', {'weight': 2}), ('30', '2', {'weight': 3}), ('30', '44', {'weight': 1}), ('30', '43', {'weight': 1}), ('30', '15', {'weight': 2}), ('30', '33', {'weight': 1}), ('30', '45', {'weight': 1}), ('26', '24', {'weight': 5}), ('26', '21', {'weight': 4}), ('26', '17', {'weight': 3}), ('26', '3', {'weight': 3}), ('26', '2', {'weight': 2}), ('26', '1', {'weight': 5}), ('26', '20', {'weight': 2}), ('26', '14', {'weight': 5}), ('26', '11', {'weight': 4}), ('26', '8', {'weight': 4}), ('26', '33', {'weight': 3}), ('26', '25', {'weight': 3}), ('26', '28', {'weight': 5}), ('26', '23', {'weight': 2}), ('26', '18', {'weight': 1}), ('26', '12', {'weight': 4}), ('26', '5', {'weight': 6}), ('26', '27', {'weight': 1}), ('26', '43', {'weight': 2}), ('26', '42', {'weight': 2}), ('26', '16', {'weight': 2}), ('26', '15', {'weight': 1}), ('26', '13', {'weight': 1}), ('26', '10', {'weight': 2}), ('26', '9', {'weight': 2}), ('26', '36', {'weight': 3}), ('26', '22', {'weight': 2}), ('26', '19', {'weight': 1}), ('26', '38', {'weight': 2}), ('26', '45', {'weight': 1}), ('26', '4', {'weight': 1}), ('25', '21', {'weight': 4}), ('25', '17', {'weight': 3}), ('25', '15', {'weight': 1}), ('25', '10', {'weight': 3}), ('25', '9', {'weight': 1}), ('25', '8', {'weight': 2}), ('25', '7', {'weight': 2}), ('25', '6', {'weight': 1}), ('25', '33', {'weight': 3}), ('25', '37', {'weight': 1}), ('25', '31', {'weight': 1}), ('25', '28', {'weight': 3}), ('25', '23', {'weight': 2}), ('25', '16', {'weight': 3}), ('25', '12', {'weight': 2}), ('25', '5', {'weight': 3}), ('25', '1', {'weight': 2}), ('25', '27', {'weight': 2}), ('25', '35', {'weight': 1}), ('25', '22', {'weight': 1}), ('25', '20', {'weight': 1}), ('25', '18', {'weight': 1}), ('25', '11', {'weight': 1}), ('25', '36', {'weight': 1}), ('25', '29', {'weight': 1}), ('25', '19', {'weight': 1}), ('25', '3', {'weight': 1}), ('21', '17', {'weight': 5}), ('21', '15', {'weight': 2}), ('21', '10', {'weight': 2}), ('21', '9', {'weight': 2}), ('21', '8', {'weight': 3}), ('21', '7', {'weight': 2}), ('21', '6', {'weight': 2}), ('21', '24', {'weight': 1}), ('21', '3', {'weight': 2}), ('21', '2', {'weight': 3}), ('21', '1', {'weight': 3}), ('21', '28', {'weight': 4}), ('21', '23', {'weight': 3}), ('21', '16', {'weight': 3}), ('21', '12', {'weight': 4}), ('21', '5', {'weight': 6}), ('21', '19', {'weight': 2}), ('21', '18', {'weight': 4}), ('21', '11', {'weight': 3}), ('21', '22', {'weight': 2}), ('21', '20', {'weight': 2}), ('21', '33', {'weight': 4}), ('21', '27', {'weight': 3}), ('21', '31', {'weight': 2}), ('21', '14', {'weight': 4}), ('21', '4', {'weight': 4}), ('21', '13', {'weight': 1}), ('17', '15', {'weight': 2}), ('17', '10', {'weight': 4}), ('17', '9', {'weight': 4}), ('17', '8', {'weight': 5}), ('17', '7', {'weight': 2}), ('17', '6', {'weight': 2}), ('17', '24', {'weight': 1}), ('17', '3', {'weight': 1}), ('17', '2', {'weight': 3}), ('17', '1', {'weight': 5}), ('17', '28', {'weight': 1}), ('17', '23', {'weight': 2}), ('17', '16', {'weight': 3}), ('17', '12', {'weight': 3}), ('17', '5', {'weight': 3}), ('17', '19', {'weight': 3}), ('17', '18', {'weight': 2}), ('17', '11', {'weight': 4}), ('17', '33', {'weight': 1}), ('17', '27', {'weight': 1}), ('17', '36', {'weight': 2}), ('17', '14', {'weight': 2}), ('17', '22', {'weight': 3}), ('17', '4', {'weight': 1}), ('17', '13', {'weight': 1}), ('15', '10', {'weight': 4}), ('15', '9', {'weight': 5}), ('15', '8', {'weight': 5}), ('15', '7', {'weight': 3}), ('15', '6', {'weight': 4}), ('15', '19', {'weight': 4}), ('15', '18', {'weight': 1}), ('15', '16', {'weight': 4}), ('15', '11', {'weight': 3}), ('15', '2', {'weight': 2}), ('15', '13', {'weight': 4}), ('15', '4', {'weight': 1}), ('15', '24', {'weight': 2}), ('15', '23', {'weight': 1}), ('15', '12', {'weight': 4}), ('15', '5', {'weight': 1}), ('15', '1', {'weight': 3}), ('15', '28', {'weight': 1}), ('15', '22', {'weight': 2}), ('15', '3', {'weight': 2}), ('15', '33', {'weight': 1}), ('15', '20', {'weight': 1}), ('10', '9', {'weight': 5}), ('10', '8', {'weight': 6}), ('10', '7', {'weight': 5}), ('10', '6', {'weight': 5}), ('10', '24', {'weight': 4}), ('10', '22', {'weight': 4}), ('10', '18', {'weight': 1}), ('10', '13', {'weight': 4}), ('10', '28', {'weight': 1}), ('10', '23', {'weight': 3}), ('10', '16', {'weight': 4}), ('10', '12', {'weight': 4}), ('10', '5', {'weight': 5}), ('10', '1', {'weight': 6}), ('10', '20', {'weight': 1}), ('10', '11', {'weight': 3}), ('10', '4', {'weight': 3}), ('10', '3', {'weight': 3}), ('10', '19', {'weight': 4}), ('10', '36', {'weight': 3}), ('10', '2', {'weight': 2}), ('10', '14', {'weight': 1}), ('10', '29', {'weight': 1}), ('9', '8', {'weight': 7}), ('9', '7', {'weight': 3}), ('9', '6', {'weight': 5}), ('9', '24', {'weight': 3}), ('9', '23', {'weight': 2}), ('9', '16', {'weight': 5}), ('9', '13', {'weight': 6}), ('9', '12', {'weight': 8}), ('9', '5', {'weight': 2}), ('9', '1', {'weight': 6}), ('9', '36', {'weight': 3}), ('9', '22', {'weight': 7}), ('9', '11', {'weight': 3}), ('9', '28', {'weight': 1}), ('9', '14', {'weight': 4}), ('9', '29', {'weight': 2}), ('9', '2', {'weight': 4}), ('9', '19', {'weight': 4}), ('9', '4', {'weight': 4}), ('9', '27', {'weight': 1}), ('9', '18', {'weight': 3}), ('9', '3', {'weight': 2}), ('8', '7', {'weight': 3}), ('8', '6', {'weight': 4}), ('8', '20', {'weight': 2}), ('8', '14', {'weight': 5}), ('8', '11', {'weight': 5}), ('8', '3', {'weight': 4}), ('8', '1', {'weight': 8}), ('8', '24', {'weight': 3}), ('8', '22', {'weight': 7}), ('8', '18', {'weight': 3}), ('8', '13', {'weight': 3}), ('8', '19', {'weight': 4}), ('8', '16', {'weight': 4}), ('8', '2', {'weight': 4}), ('8', '36', {'weight': 5}), ('8', '12', {'weight': 4}), ('8', '5', {'weight': 4}), ('8', '28', {'weight': 2}), ('8', '29', {'weight': 2}), ('8', '4', {'weight': 2}), ('7', '6', {'weight': 4}), ('7', '19', {'weight': 3}), ('7', '11', {'weight': 4}), ('7', '24', {'weight': 1}), ('7', '22', {'weight': 2}), ('7', '18', {'weight': 2}), ('7', '13', {'weight': 3}), ('7', '28', {'weight': 2}), ('7', '23', {'weight': 1}), ('7', '16', {'weight': 2}), ('7', '12', {'weight': 4}), ('7', '5', {'weight': 2}), ('7', '1', {'weight': 1}), ('7', '20', {'weight': 1}), ('7', '4', {'weight': 2}), ('7', '3', {'weight': 2}), ('7', '2', {'weight': 1}), ('7', '33', {'weight': 1}), ('7', '29', {'weight': 1}), ('6', '28', {'weight': 1}), ('6', '23', {'weight': 1}), ('6', '3', {'weight': 4}), ('6', '1', {'weight': 3}), ('6', '24', {'weight': 1}), ('6', '22', {'weight': 4}), ('6', '18', {'weight': 4}), ('6', '13', {'weight': 3}), ('6', '11', {'weight': 1}), ('6', '4', {'weight': 3}), ('6', '31', {'weight': 1}), ('6', '27', {'weight': 2}), ('6', '33', {'weight': 2}), ('6', '19', {'weight': 3}), ('6', '16', {'weight': 2}), ('6', '12', {'weight': 2}), ('6', '2', {'weight': 1}), ('6', '20', {'weight': 1}), ('29', '24', {'weight': 4}), ('29', '52', {'weight': 1}), ('29', '54', {'weight': 1}), ('29', '50', {'weight': 1}), ('29', '48', {'weight': 1}), ('29', '39', {'weight': 1}), ('29', '38', {'weight': 1}), ('29', '33', {'weight': 2}), ('29', '28', {'weight': 3}), ('29', '46', {'weight': 1}), ('29', '40', {'weight': 1}), ('29', '37', {'weight': 1}), ('29', '23', {'weight': 1}), ('29', '1', {'weight': 3}), ('29', '36', {'weight': 3}), ('29', '14', {'weight': 2}), ('29', '2', {'weight': 1}), ('29', '22', {'weight': 1}), ('29', '16', {'weight': 3}), ('29', '13', {'weight': 1}), ('29', '12', {'weight': 1}), ('29', '19', {'weight': 2}), ('29', '3', {'weight': 1}), ('29', '20', {'weight': 1}), ('29', '4', {'weight': 1}), ('24', '3', {'weight': 1}), ('24', '2', {'weight': 4}), ('24', '1', {'weight': 6}), ('24', '47', {'weight': 1}), ('24', '53', {'weight': 1}), ('24', '42', {'weight': 2}), ('24', '39', {'weight': 1}), ('24', '38', {'weight': 2}), ('24', '37', {'weight': 2}), ('24', '35', {'weight': 1}), ('24', '31', {'weight': 1}), ('24', '22', {'weight': 3}), ('24', '18', {'weight': 2}), ('24', '13', {'weight': 4}), ('24', '46', {'weight': 1}), ('24', '40', {'weight': 2}), ('24', '28', {'weight': 2}), ('24', '23', {'weight': 3}), ('24', '16', {'weight': 3}), ('24', '12', {'weight': 2}), ('24', '5', {'weight': 3}), ('24', '14', {'weight': 4}), ('24', '33', {'weight': 1}), ('24', '36', {'weight': 3}), ('24', '43', {'weight': 2}), ('24', '19', {'weight': 1}), ('3', '2', {'weight': 3}), ('3', '1', {'weight': 5}), ('3', '20', {'weight': 4}), ('3', '14', {'weight': 2}), ('3', '11', {'weight': 3}), ('3', '28', {'weight': 2}), ('3', '23', {'weight': 1}), ('3', '12', {'weight': 4}), ('3', '5', {'weight': 2}), ('3', '4', {'weight': 1}), ('3', '22', {'weight': 3}), ('3', '19', {'weight': 4}), ('3', '18', {'weight': 1}), ('3', '13', {'weight': 1}), ('3', '33', {'weight': 1}), ('3', '16', {'weight': 2}), ('3', '36', {'weight': 1}), ('2', '1', {'weight': 2}), ('2', '19', {'weight': 3}), ('2', '18', {'weight': 2}), ('2', '16', {'weight': 3}), ('2', '11', {'weight': 3}), ('2', '36', {'weight': 2}), ('2', '14', {'weight': 3}), ('2', '28', {'weight': 1}), ('2', '22', {'weight': 3}), ('2', '20', {'weight': 1}), ('2', '12', {'weight': 4}), ('2', '5', {'weight': 2}), ('2', '23', {'weight': 2}), ('2', '13', {'weight': 1}), ('2', '4', {'weight': 1}), ('1', '20', {'weight': 1}), ('1', '14', {'weight': 4}), ('1', '11', {'weight': 3}), ('1', '28', {'weight': 4}), ('1', '23', {'weight': 5}), ('1', '16', {'weight': 7}), ('1', '12', {'weight': 5}), ('1', '5', {'weight': 6}), ('1', '46', {'weight': 1}), ('1', '40', {'weight': 1}), ('1', '37', {'weight': 1}), ('1', '13', {'weight': 4}), ('1', '36', {'weight': 4}), ('1', '22', {'weight': 5}), ('1', '19', {'weight': 3}), ('1', '4', {'weight': 2}), ('1', '33', {'weight': 1}), ('20', '14', {'weight': 3}), ('20', '11', {'weight': 3}), ('20', '12', {'weight': 3}), ('20', '5', {'weight': 3}), ('20', '4', {'weight': 2}), ('20', '22', {'weight': 2}), ('20', '16', {'weight': 2}), ('20', '28', {'weight': 1}), ('20', '19', {'weight': 2}), ('20', '33', {'weight': 1}), ('20', '36', {'weight': 1}), ('14', '11', {'weight': 2}), ('14', '36', {'weight': 5}), ('14', '18', {'weight': 2}), ('14', '33', {'weight': 2}), ('14', '28', {'weight': 3}), ('14', '22', {'weight': 2}), ('14', '19', {'weight': 2}), ('14', '12', {'weight': 3}), ('14', '5', {'weight': 4}), ('14', '23', {'weight': 2}), ('14', '16', {'weight': 1}), ('14', '13', {'weight': 3}), ('14', '4', {'weight': 5}), ('11', '19', {'weight': 5}), ('11', '12', {'weight': 6}), ('11', '5', {'weight': 5}), ('11', '4', {'weight': 2}), ('11', '18', {'weight': 2}), ('11', '16', {'weight': 2}), ('11', '13', {'weight': 3}), ('11', '23', {'weight': 1}), ('11', '33', {'weight': 1}), ('11', '27', {'weight': 1}), ('11', '36', {'weight': 1}), ('11', '22', {'weight': 4}), ('11', '28', {'weight': 1}), ('33', '52', {'weight': 1}), ('33', '54', {'weight': 2}), ('33', '50', {'weight': 1}), ('33', '48', {'weight': 1}), ('33', '39', {'weight': 2}), ('33', '38', {'weight': 1}), ('33', '28', {'weight': 4}), ('33', '47', {'weight': 1}), ('33', '36', {'weight': 1}), ('33', '27', {'weight': 5}), ('33', '35', {'weight': 1}), ('33', '31', {'weight': 3}), ('33', '23', {'weight': 2}), ('33', '18', {'weight': 3}), ('33', '12', {'weight': 3}), ('33', '5', {'weight': 2}), ('33', '4', {'weight': 2}), ('33', '19', {'weight': 2}), ('33', '16', {'weight': 2}), ('37', '31', {'weight': 2}), ('37', '47', {'weight': 1}), ('37', '53', {'weight': 1}), ('37', '42', {'weight': 1}), ('37', '39', {'weight': 1}), ('37', '38', {'weight': 1}), ('37', '35', {'weight': 1}), ('37', '46', {'weight': 1}), ('37', '40', {'weight': 1}), ('37', '28', {'weight': 1}), ('37', '23', {'weight': 1}), ('31', '47', {'weight': 1}), ('31', '53', {'weight': 1}), ('31', '42', {'weight': 1}), ('31', '39', {'weight': 1}), ('31', '38', {'weight': 1}), ('31', '35', {'weight': 2}), ('31', '27', {'weight': 3}), ('31', '18', {'weight': 1}), ('31', '4', {'weight': 1}), ('19', '18', {'weight': 1}), ('19', '16', {'weight': 5}), ('19', '28', {'weight': 2}), ('19', '22', {'weight': 5}), ('19', '12', {'weight': 4}), ('19', '5', {'weight': 1}), ('19', '4', {'weight': 1}), ('19', '13', {'weight': 3}), ('19', '36', {'weight': 1}), ('52', '54', {'weight': 1}), ('52', '50', {'weight': 1}), ('52', '48', {'weight': 1}), ('52', '39', {'weight': 1}), ('52', '38', {'weight': 1}), ('52', '28', {'weight': 1}), ('54', '50', {'weight': 1}), ('54', '48', {'weight': 1}), ('54', '39', {'weight': 2}), ('54', '38', {'weight': 1}), ('54', '28', {'weight': 1}), ('54', '47', {'weight': 1}), ('54', '36', {'weight': 1}), ('54', '27', {'weight': 1}), ('50', '48', {'weight': 1}), ('50', '39', {'weight': 1}), ('50', '38', {'weight': 1}), ('50', '28', {'weight': 1}), ('48', '39', {'weight': 1}), ('48', '38', {'weight': 1}), ('48', '28', {'weight': 1}), ('39', '38', {'weight': 2}), ('39', '28', {'weight': 1}), ('39', '47', {'weight': 2}), ('39', '36', {'weight': 1}), ('39', '27', {'weight': 1}), ('39', '53', {'weight': 1}), ('39', '42', {'weight': 1}), ('39', '35', {'weight': 1}), ('38', '28', {'weight': 2}), ('38', '47', {'weight': 1}), ('38', '53', {'weight': 1}), ('38', '42', {'weight': 2}), ('38', '35', {'weight': 1}), ('38', '43', {'weight': 1}), ('28', '23', {'weight': 4}), ('28', '16', {'weight': 2}), ('28', '12', {'weight': 4}), ('28', '5', {'weight': 4}), ('28', '35', {'weight': 1}), ('28', '46', {'weight': 1}), ('28', '40', {'weight': 2}), ('28', '22', {'weight': 2}), ('28', '44', {'weight': 1}), ('28', '4', {'weight': 2}), ('47', '36', {'weight': 1}), ('47', '27', {'weight': 1}), ('47', '53', {'weight': 1}), ('47', '42', {'weight': 1}), ('47', '35', {'weight': 1}), ('36', '27', {'weight': 1}), ('36', '22', {'weight': 1}), ('36', '16', {'weight': 2}), ('36', '12', {'weight': 1}), ('36', '5', {'weight': 3}), ('36', '23', {'weight': 1}), ('36', '4', {'weight': 1}), ('27', '35', {'weight': 1}), ('27', '23', {'weight': 1}), ('27', '18', {'weight': 3}), ('27', '12', {'weight': 1}), ('27', '5', {'weight': 1}), ('27', '4', {'weight': 2}), ('23', '16', {'weight': 3}), ('23', '12', {'weight': 5}), ('23', '5', {'weight': 5}), ('23', '18', {'weight': 1}), ('23', '46', {'weight': 1}), ('23', '40', {'weight': 1}), ('23', '13', {'weight': 2}), ('23', '4', {'weight': 2}), ('53', '42', {'weight': 1}), ('53', '35', {'weight': 1}), ('42', '35', {'weight': 1}), ('42', '43', {'weight': 2}), ('22', '18', {'weight': 2}), ('22', '13', {'weight': 5}), ('22', '16', {'weight': 4}), ('22', '5', {'weight': 4}), ('22', '12', {'weight': 6}), ('22', '4', {'weight': 1}), ('18', '13', {'weight': 2}), ('18', '16', {'weight': 1}), ('18', '12', {'weight': 2}), ('18', '5', {'weight': 1}), ('18', '4', {'weight': 2}), ('13', '4', {'weight': 3}), ('13', '16', {'weight': 3}), ('13', '12', {'weight': 4}), ('13', '5', {'weight': 2}), ('16', '12', {'weight': 6}), ('16', '5', {'weight': 4}), ('16', '4', {'weight': 2}), ('12', '5', {'weight': 7}), ('12', '4', {'weight': 3}), ('5', '4', {'weight': 3}), ('43', '40', {'weight': 1}), ('46', '40', {'weight': 1}), ('40', '44', {'weight': 1})])"
      ]
     },
     "execution_count": 37,
     "metadata": {},
     "output_type": "execute_result"
    }
   ],
   "source": [
    "G.edges(data=True)"
   ]
  },
  {
   "cell_type": "code",
   "execution_count": 38,
   "metadata": {},
   "outputs": [
    {
     "data": {
      "image/png": "[encoded data removed]",
      "text/plain": [
       "<Figure size 640x480 with 1 Axes>"
      ]
     },
     "metadata": {},
     "output_type": "display_data"
    }
   ],
   "source": [
    "start_pos = nx.spring_layout(G, seed = 100)\n",
    "nx.draw_networkx(G, pos=start_pos)"
   ]
  },
  {
   "cell_type": "markdown",
   "metadata": {},
   "source": [
    "### Removing Two Small Groups from a Graph"
   ]
  },
  {
   "cell_type": "code",
   "execution_count": 43,
   "metadata": {},
   "outputs": [
    {
     "ename": "AttributeError",
     "evalue": "module networkx has no attribute connected_component_subgraphs",
     "output_type": "error",
     "traceback": [
      "\u001b[0;31m---------------------------------------------------------------------------\u001b[0m",
      "\u001b[0;31mAttributeError\u001b[0m                            Traceback (most recent call last)",
      "\u001b[0;32m/var/folders/g5/gvd9l04j09xdf0bk80v8j4pw0000gn/T/ipykernel_45172/2477340605.py\u001b[0m in \u001b[0;36m<module>\u001b[0;34m\u001b[0m\n\u001b[0;32m----> 1\u001b[0;31m \u001b[0mgraphs\u001b[0m \u001b[0;34m=\u001b[0m \u001b[0mlist\u001b[0m\u001b[0;34m(\u001b[0m\u001b[0mnx\u001b[0m\u001b[0;34m.\u001b[0m\u001b[0mconnected_component_subgraphs\u001b[0m\u001b[0;34m(\u001b[0m\u001b[0mG\u001b[0m\u001b[0;34m)\u001b[0m\u001b[0;34m)\u001b[0m\u001b[0;34m\u001b[0m\u001b[0;34m\u001b[0m\u001b[0m\n\u001b[0m",
      "\u001b[0;32m~/opt/anaconda3/lib/python3.9/site-packages/networkx/__init__.py\u001b[0m in \u001b[0;36m__getattr__\u001b[0;34m(name)\u001b[0m\n\u001b[1;32m     49\u001b[0m             \u001b[0;34m\"This message will be removed in NetworkX 3.0.\"\u001b[0m\u001b[0;34m\u001b[0m\u001b[0;34m\u001b[0m\u001b[0m\n\u001b[1;32m     50\u001b[0m         )\n\u001b[0;32m---> 51\u001b[0;31m     \u001b[0;32mraise\u001b[0m \u001b[0mAttributeError\u001b[0m\u001b[0;34m(\u001b[0m\u001b[0;34mf\"module {__name__} has no attribute {name}\"\u001b[0m\u001b[0;34m)\u001b[0m\u001b[0;34m\u001b[0m\u001b[0;34m\u001b[0m\u001b[0m\n\u001b[0m\u001b[1;32m     52\u001b[0m \u001b[0;34m\u001b[0m\u001b[0m\n\u001b[1;32m     53\u001b[0m \u001b[0;34m\u001b[0m\u001b[0m\n",
      "\u001b[0;31mAttributeError\u001b[0m: module networkx has no attribute connected_component_subgraphs"
     ]
    }
   ],
   "source": [
    "graphs = list(nx.connected_component_subgraphs(G))"
   ]
  },
  {
   "cell_type": "code",
   "execution_count": 41,
   "metadata": {},
   "outputs": [
    {
     "data": {
      "text/plain": [
       "[<networkx.classes.graph.Graph at 0x12982d470>,\n",
       " <networkx.classes.graph.Graph at 0x12982d9b0>,\n",
       " <networkx.classes.graph.Graph at 0x12982db00>]"
      ]
     },
     "execution_count": 41,
     "metadata": {},
     "output_type": "execute_result"
    }
   ],
   "source": [
    "graphs"
   ]
  },
  {
   "cell_type": "code",
   "execution_count": 42,
   "metadata": {},
   "outputs": [
    {
     "name": "stdout",
     "output_type": "stream",
     "text": [
      "subgraph 0 has 738 nodes\n",
      "subgraph 1 has 6 nodes\n",
      "subgraph 2 has 2 nodes\n"
     ]
    }
   ],
   "source": [
    "for i, sg in enumerate(graphs):\n",
    "    print('subgraph {} has {} nodes'.format(i, sg.number_of_nodes()))\n",
    "    #print('\\tNodes:', sg.nodes(data=True))\n",
    "    #print('\\tEdges:', sg.edges())"
   ]
  },
  {
   "cell_type": "code",
   "execution_count": 42,
   "metadata": {},
   "outputs": [
    {
     "ename": "AttributeError",
     "evalue": "module networkx has no attribute connected_component_subgraphs",
     "output_type": "error",
     "traceback": [
      "\u001b[0;31m---------------------------------------------------------------------------\u001b[0m",
      "\u001b[0;31mAttributeError\u001b[0m                            Traceback (most recent call last)",
      "\u001b[0;32m/var/folders/g5/gvd9l04j09xdf0bk80v8j4pw0000gn/T/ipykernel_45172/2356111286.py\u001b[0m in \u001b[0;36m<module>\u001b[0;34m\u001b[0m\n\u001b[0;32m----> 1\u001b[0;31m \u001b[0mG_sub\u001b[0m\u001b[0;34m=\u001b[0m\u001b[0mlist\u001b[0m\u001b[0;34m(\u001b[0m\u001b[0mnx\u001b[0m\u001b[0;34m.\u001b[0m\u001b[0mconnected_component_subgraphs\u001b[0m\u001b[0;34m(\u001b[0m\u001b[0mG\u001b[0m\u001b[0;34m)\u001b[0m\u001b[0;34m)\u001b[0m\u001b[0;34m[\u001b[0m\u001b[0;36m0\u001b[0m\u001b[0;34m]\u001b[0m\u001b[0;34m\u001b[0m\u001b[0;34m\u001b[0m\u001b[0m\n\u001b[0m",
      "\u001b[0;32m~/opt/anaconda3/lib/python3.9/site-packages/networkx/__init__.py\u001b[0m in \u001b[0;36m__getattr__\u001b[0;34m(name)\u001b[0m\n\u001b[1;32m     49\u001b[0m             \u001b[0;34m\"This message will be removed in NetworkX 3.0.\"\u001b[0m\u001b[0;34m\u001b[0m\u001b[0;34m\u001b[0m\u001b[0m\n\u001b[1;32m     50\u001b[0m         )\n\u001b[0;32m---> 51\u001b[0;31m     \u001b[0;32mraise\u001b[0m \u001b[0mAttributeError\u001b[0m\u001b[0;34m(\u001b[0m\u001b[0;34mf\"module {__name__} has no attribute {name}\"\u001b[0m\u001b[0;34m)\u001b[0m\u001b[0;34m\u001b[0m\u001b[0;34m\u001b[0m\u001b[0m\n\u001b[0m\u001b[1;32m     52\u001b[0m \u001b[0;34m\u001b[0m\u001b[0m\n\u001b[1;32m     53\u001b[0m \u001b[0;34m\u001b[0m\u001b[0m\n",
      "\u001b[0;31mAttributeError\u001b[0m: module networkx has no attribute connected_component_subgraphs"
     ]
    }
   ],
   "source": [
    "G_sub=list(nx.connected_component_subgraphs(G))[0]"
   ]
  },
  {
   "cell_type": "code",
   "execution_count": 44,
   "metadata": {},
   "outputs": [
    {
     "data": {
      "text/plain": [
       "<networkx.classes.graph.Graph at 0x12f6ceeb8>"
      ]
     },
     "execution_count": 44,
     "metadata": {},
     "output_type": "execute_result"
    }
   ],
   "source": [
    "G_sub"
   ]
  },
  {
   "cell_type": "code",
   "execution_count": 45,
   "metadata": {},
   "outputs": [
    {
     "data": {
      "text/plain": [
       "19935"
      ]
     },
     "execution_count": 45,
     "metadata": {},
     "output_type": "execute_result"
    }
   ],
   "source": [
    "G_sub.size()"
   ]
  },
  {
   "cell_type": "code",
   "execution_count": 46,
   "metadata": {},
   "outputs": [
    {
     "data": {
      "text/plain": [
       "19935"
      ]
     },
     "execution_count": 46,
     "metadata": {},
     "output_type": "execute_result"
    }
   ],
   "source": [
    "len(G_sub.edges)"
   ]
  },
  {
   "cell_type": "code",
   "execution_count": 47,
   "metadata": {},
   "outputs": [
    {
     "data": {
      "image/png": "[encoded data removed]",
      "text/plain": [
       "<Figure size 432x288 with 1 Axes>"
      ]
     },
     "metadata": {
      "needs_background": "light"
     },
     "output_type": "display_data"
    }
   ],
   "source": [
    "nx.draw_networkx(G_sub, pos=start_pos)"
   ]
  },
  {
   "cell_type": "markdown",
   "metadata": {},
   "source": [
    "### Community Detection"
   ]
  },
  {
   "cell_type": "code",
   "execution_count": 39,
   "metadata": {},
   "outputs": [
    {
     "name": "stdout",
     "output_type": "stream",
     "text": [
      "Collecting python-louvain\n",
      "  Downloading python-louvain-0.16.tar.gz (204 kB)\n",
      "\u001b[2K     \u001b[90m━━━━━━━━━━━━━━━━━━━━━━━━━━━━━━━━━━━━━━━\u001b[0m \u001b[32m204.6/204.6 kB\u001b[0m \u001b[31m4.3 MB/s\u001b[0m eta \u001b[36m0:00:00\u001b[0ma \u001b[36m0:00:01\u001b[0m\n",
      "\u001b[?25h  Preparing metadata (setup.py) ... \u001b[?25ldone\n",
      "\u001b[?25hRequirement already satisfied: networkx in /Users/naidamuslimova/opt/anaconda3/lib/python3.9/site-packages (from python-louvain) (2.8.4)\n",
      "Requirement already satisfied: numpy in /Users/naidamuslimova/opt/anaconda3/lib/python3.9/site-packages (from python-louvain) (1.21.5)\n",
      "Building wheels for collected packages: python-louvain\n",
      "  Building wheel for python-louvain (setup.py) ... \u001b[?25ldone\n",
      "\u001b[?25h  Created wheel for python-louvain: filename=python_louvain-0.16-py3-none-any.whl size=9388 sha256=e241d1e7504c38fe49115ed370e6662d69de1ab68848cd695dc9be1382c6ef25\n",
      "  Stored in directory: /Users/naidamuslimova/Library/Caches/pip/wheels/4d/7c/b6/79b198e4ec43f915fbdf967953d48b89a18893b12aa9df0ae2\n",
      "Successfully built python-louvain\n",
      "Installing collected packages: python-louvain\n",
      "Successfully installed python-louvain-0.16\n",
      "Note: you may need to restart the kernel to use updated packages.\n"
     ]
    }
   ],
   "source": [
    "pip install python-louvain"
   ]
  },
  {
   "cell_type": "code",
   "execution_count": 41,
   "metadata": {},
   "outputs": [
    {
     "ename": "NameError",
     "evalue": "name 'G_sub' is not defined",
     "output_type": "error",
     "traceback": [
      "\u001b[0;31m---------------------------------------------------------------------------\u001b[0m",
      "\u001b[0;31mNameError\u001b[0m                                 Traceback (most recent call last)",
      "\u001b[0;32m/var/folders/g5/gvd9l04j09xdf0bk80v8j4pw0000gn/T/ipykernel_45172/2929627586.py\u001b[0m in \u001b[0;36m<module>\u001b[0;34m\u001b[0m\n\u001b[1;32m      1\u001b[0m \u001b[0;31m#first compute the best partition\u001b[0m\u001b[0;34m\u001b[0m\u001b[0;34m\u001b[0m\u001b[0m\n\u001b[0;32m----> 2\u001b[0;31m \u001b[0mpartition\u001b[0m \u001b[0;34m=\u001b[0m \u001b[0mcommunity_louvain\u001b[0m\u001b[0;34m.\u001b[0m\u001b[0mbest_partition\u001b[0m\u001b[0;34m(\u001b[0m\u001b[0mG_sub\u001b[0m\u001b[0;34m)\u001b[0m\u001b[0;34m\u001b[0m\u001b[0;34m\u001b[0m\u001b[0m\n\u001b[0m\u001b[1;32m      3\u001b[0m \u001b[0;34m\u001b[0m\u001b[0m\n\u001b[1;32m      4\u001b[0m \u001b[0;31m# compute the best partition\u001b[0m\u001b[0;34m\u001b[0m\u001b[0;34m\u001b[0m\u001b[0m\n\u001b[1;32m      5\u001b[0m \u001b[0;31m#partition = community_louvain.best_partition(G_sub)\u001b[0m\u001b[0;34m\u001b[0m\u001b[0;34m\u001b[0m\u001b[0m\n",
      "\u001b[0;31mNameError\u001b[0m: name 'G_sub' is not defined"
     ]
    }
   ],
   "source": [
    "#first compute the best partition\n",
    "partition = community_louvain.best_partition(G_sub)\n",
    "\n",
    "# compute the best partition\n",
    "#partition = community_louvain.best_partition(G_sub)\n",
    "\n",
    "# draw the graph\n",
    "pos = nx.spring_layout(G_sub)\n",
    "# color the nodes according to their partition\n",
    "cmap = cm.get_cmap('viridis', max(partition.values()) + 1)\n",
    "nx.draw_networkx_nodes(G_sub, pos, partition.keys(), node_size=40,\n",
    "                       cmap=cmap, node_color=list(partition.values()))\n",
    "nx.draw_networkx_edges(G_sub, pos, alpha=0.5)\n",
    "plt.show()\n"
   ]
  },
  {
   "cell_type": "code",
   "execution_count": 51,
   "metadata": {},
   "outputs": [
    {
     "data": {
      "text/plain": [
       "{'4594575': 0,\n",
       " '9649581': 0,\n",
       " '3313879': 0,\n",
       " '6138079': 0,\n",
       " '6524595': 0,\n",
       " '6670222': 0,\n",
       " '6455997': 0,\n",
       " '9582575': 0,\n",
       " '4550719': 0,\n",
       " '1441624': 0,\n",
       " '6608661': 0,\n",
       " '6159135': 0,\n",
       " '7690572': 0,\n",
       " '9087840': 0,\n",
       " '3803338': 0,\n",
       " '9972486': 0,\n",
       " '7067231': 0,\n",
       " '1003825': 0,\n",
       " '6493517': 0,\n",
       " '8503467': 0,\n",
       " '1865518': 0,\n",
       " '5858806': 0,\n",
       " '8546110': 0,\n",
       " '2399690': 0,\n",
       " '8139386': 0,\n",
       " '5163413': 0,\n",
       " '1112599': 0,\n",
       " '5577398': 0,\n",
       " '1146339': 0,\n",
       " '7423418': 0,\n",
       " '3202604': 1,\n",
       " '3866212': 2,\n",
       " '3267643': 0,\n",
       " '4253784': 3,\n",
       " '6218893': 0,\n",
       " '2998859': 0,\n",
       " '2032624': 3,\n",
       " '1673698': 3,\n",
       " '9404446': 3,\n",
       " '1106391': 4,\n",
       " '5847548': 3,\n",
       " '9959855': 4,\n",
       " '4320578': 3,\n",
       " '7871043': 5,\n",
       " '8317303': 3,\n",
       " '3069838': 4,\n",
       " '6020177': 6,\n",
       " '3216939': 4,\n",
       " '3577122': 3,\n",
       " '5387658': 0,\n",
       " '4589257': 3,\n",
       " '9050924': 3,\n",
       " '2551809': 0,\n",
       " '3932931': 0,\n",
       " '7793788': 0,\n",
       " '3667194': 0,\n",
       " '5125270': 1,\n",
       " '2726935': 0,\n",
       " '8442295': 3,\n",
       " '7903662': 4,\n",
       " '1481164': 4,\n",
       " '6281912': 3,\n",
       " '8348725': 0,\n",
       " '2301132': 0,\n",
       " '9078686': 0,\n",
       " '9457825': 6,\n",
       " '5247021': 0,\n",
       " '6371101': 0,\n",
       " '6732139': 6,\n",
       " '1442662': 6,\n",
       " '9208595': 1,\n",
       " '9909304': 4,\n",
       " '4005967': 0,\n",
       " '5795253': 0,\n",
       " '3866777': 4,\n",
       " '1371145': 0,\n",
       " '3203462': 0,\n",
       " '1165624': 4,\n",
       " '6426616': 0,\n",
       " '4127040': 0,\n",
       " '5037732': 0,\n",
       " '6670518': 0,\n",
       " '6065696': 0,\n",
       " '7695380': 0,\n",
       " '1223484': 0,\n",
       " '3126825': 0,\n",
       " '5337921': 5,\n",
       " '3291499': 0,\n",
       " '7849397': 0,\n",
       " '5811293': 4,\n",
       " '9138329': 0,\n",
       " '5147462': 0,\n",
       " '5766515': 0,\n",
       " '4236268': 0,\n",
       " '2654860': 0,\n",
       " '3787271': 0,\n",
       " '1274638': 0,\n",
       " '8586032': 0,\n",
       " '3421528': 0,\n",
       " '9466115': 0,\n",
       " '5825668': 5,\n",
       " '7421715': 0,\n",
       " '2523144': 0,\n",
       " '5735979': 0,\n",
       " '8534792': 0,\n",
       " '3711749': 0,\n",
       " '3810917': 0,\n",
       " '4929492': 1,\n",
       " '1673992': 0,\n",
       " '9417214': 0,\n",
       " '1439310': 0,\n",
       " '2446753': 0,\n",
       " '1772098': 0,\n",
       " '5115594': 6,\n",
       " '9307243': 5,\n",
       " '4323369': 6,\n",
       " '5316813': 0,\n",
       " '1964669': 0,\n",
       " '4045740': 5,\n",
       " '3445792': 5,\n",
       " '6570550': 5,\n",
       " '6961628': 5,\n",
       " '4701360': 5,\n",
       " '9354800': 5,\n",
       " '4305026': 5,\n",
       " '3937332': 5,\n",
       " '5516737': 5,\n",
       " '1793245': 5,\n",
       " '9505769': 5,\n",
       " '2578648': 5,\n",
       " '2441703': 5,\n",
       " '7020981': 5,\n",
       " '9896966': 5,\n",
       " '7677021': 5,\n",
       " '3766124': 5,\n",
       " '1478579': 5,\n",
       " '2015078': 5,\n",
       " '6589515': 0,\n",
       " '7277798': 5,\n",
       " '7889755': 5,\n",
       " '1567926': 5,\n",
       " '3180976': 5,\n",
       " '4688415': 5,\n",
       " '3660967': 5,\n",
       " '7032056': 5,\n",
       " '7856882': 5,\n",
       " '7005996': 4,\n",
       " '8440108': 5,\n",
       " '5800071': 5,\n",
       " '4024280': 1,\n",
       " '8462339': 4,\n",
       " '6343786': 4,\n",
       " '9014591': 4,\n",
       " '4364848': 4,\n",
       " '5543463': 4,\n",
       " '9439026': 4,\n",
       " '1151261': 4,\n",
       " '6561192': 4,\n",
       " '6355372': 4,\n",
       " '9805906': 4,\n",
       " '5240849': 4,\n",
       " '5353779': 4,\n",
       " '7165979': 2,\n",
       " '2897777': 2,\n",
       " '2265844': 2,\n",
       " '4616698': 4,\n",
       " '2592830': 4,\n",
       " '7735771': 0,\n",
       " '4757531': 0,\n",
       " '7609194': 3,\n",
       " '4841017': 0,\n",
       " '3369951': 3,\n",
       " '3509702': 0,\n",
       " '6856334': 4,\n",
       " '3636164': 4,\n",
       " '9404978': 4,\n",
       " '4397146': 4,\n",
       " '8473298': 4,\n",
       " '7721952': 4,\n",
       " '7567736': 2,\n",
       " '6311554': 4,\n",
       " '9617858': 4,\n",
       " '1539700': 2,\n",
       " '7724108': 2,\n",
       " '1406975': 2,\n",
       " '6144515': 2,\n",
       " '2098707': 2,\n",
       " '2978392': 2,\n",
       " '5850425': 2,\n",
       " '8998615': 2,\n",
       " '4213188': 0,\n",
       " '6093075': 0,\n",
       " '3326942': 0,\n",
       " '8585733': 0,\n",
       " '1548416': 0,\n",
       " '6599160': 0,\n",
       " '4257439': 4,\n",
       " '5558538': 4,\n",
       " '3923346': 4,\n",
       " '6270066': 4,\n",
       " '8860879': 4,\n",
       " '2541098': 0,\n",
       " '4449011': 4,\n",
       " '4664490': 4,\n",
       " '4063666': 4,\n",
       " '1581691': 4,\n",
       " '2454859': 0,\n",
       " '8962643': 3,\n",
       " '4843564': 4,\n",
       " '1338626': 3,\n",
       " '5612616': 4,\n",
       " '1373064': 6,\n",
       " '7658856': 8,\n",
       " '2065728': 8,\n",
       " '3304037': 1,\n",
       " '8533862': 1,\n",
       " '5732888': 1,\n",
       " '9010746': 1,\n",
       " '7391163': 1,\n",
       " '3879610': 1,\n",
       " '5691668': 1,\n",
       " '9164524': 1,\n",
       " '5327212': 1,\n",
       " '9401989': 0,\n",
       " '1482658': 6,\n",
       " '9751098': 6,\n",
       " '2212542': 0,\n",
       " '8881147': 1,\n",
       " '6555428': 1,\n",
       " '9200538': 1,\n",
       " '1604074': 3,\n",
       " '9263856': 0,\n",
       " '1669798': 0,\n",
       " '1902870': 4,\n",
       " '8480716': 3,\n",
       " '1261945': 4,\n",
       " '6063179': 4,\n",
       " '8072660': 4,\n",
       " '7206475': 3,\n",
       " '1716134': 0,\n",
       " '7269142': 0,\n",
       " '9753691': 3,\n",
       " '6919148': 3,\n",
       " '6548577': 8,\n",
       " '3938423': 1,\n",
       " '4735423': 8,\n",
       " '4615722': 4,\n",
       " '8788229': 3,\n",
       " '6177946': 6,\n",
       " '2154724': 1,\n",
       " '5137910': 1,\n",
       " '9196253': 6,\n",
       " '7549028': 6,\n",
       " '6603497': 6,\n",
       " '5506452': 6,\n",
       " '7646446': 6,\n",
       " '6401065': 6,\n",
       " '5521884': 6,\n",
       " '5670389': 6,\n",
       " '8116815': 6,\n",
       " '9977818': 6,\n",
       " '2681667': 6,\n",
       " '1682770': 6,\n",
       " '5550092': 6,\n",
       " '8314913': 6,\n",
       " '1240052': 6,\n",
       " '9842858': 6,\n",
       " '9674423': 6,\n",
       " '6266138': 6,\n",
       " '4853294': 6,\n",
       " '2388443': 6,\n",
       " '6375956': 6,\n",
       " '6060622': 6,\n",
       " '8360528': 6,\n",
       " '6312773': 6,\n",
       " '2450089': 6,\n",
       " '4937216': 6,\n",
       " '6857831': 6,\n",
       " '5802591': 6,\n",
       " '4859713': 6,\n",
       " '3806946': 6,\n",
       " '4989332': 6,\n",
       " '3317272': 6,\n",
       " '3207163': 6,\n",
       " '7538853': 6,\n",
       " '6692800': 6,\n",
       " '1601009': 6,\n",
       " '8506843': 6,\n",
       " '1882463': 6,\n",
       " '3207118': 6,\n",
       " '1010447': 6,\n",
       " '4522049': 6,\n",
       " '7032663': 6,\n",
       " '6333011': 6,\n",
       " '8657818': 6,\n",
       " '4413106': 6,\n",
       " '3517320': 6,\n",
       " '9713335': 6,\n",
       " '2322857': 6,\n",
       " '9380195': 6,\n",
       " '8583103': 6,\n",
       " '9280279': 6,\n",
       " '2422972': 6,\n",
       " '4694186': 6,\n",
       " '2757226': 6,\n",
       " '4290555': 6,\n",
       " '3814713': 6,\n",
       " '6772048': 6,\n",
       " '7365078': 6,\n",
       " '4194156': 6,\n",
       " '9613908': 6,\n",
       " '4582197': 6,\n",
       " '3071316': 6,\n",
       " '7127649': 6,\n",
       " '9265778': 6,\n",
       " '2462595': 6,\n",
       " '8139113': 6,\n",
       " '8144821': 6,\n",
       " '3344258': 1,\n",
       " '5157457': 6,\n",
       " '5944181': 6,\n",
       " '9876210': 1,\n",
       " '5947540': 4,\n",
       " '5817645': 6,\n",
       " '7622254': 6,\n",
       " '4041378': 1,\n",
       " '6084667': 3,\n",
       " '9552403': 3,\n",
       " '8035015': 1,\n",
       " '3491603': 1,\n",
       " '2011408': 1,\n",
       " '9516300': 1,\n",
       " '6769230': 1,\n",
       " '5256108': 6,\n",
       " '8370257': 8,\n",
       " '4102683': 6,\n",
       " '4983027': 6,\n",
       " '5994341': 4,\n",
       " '8276042': 3,\n",
       " '5207072': 3,\n",
       " '9084703': 3,\n",
       " '5720903': 8,\n",
       " '8250622': 4,\n",
       " '8286683': 5,\n",
       " '3473370': 4,\n",
       " '2848137': 4,\n",
       " '2035679': 4,\n",
       " '7430171': 4,\n",
       " '8989174': 4,\n",
       " '6950661': 4,\n",
       " '9915744': 4,\n",
       " '9833667': 4,\n",
       " '1144143': 4,\n",
       " '4932259': 10,\n",
       " '5408961': 4,\n",
       " '6086120': 4,\n",
       " '2289871': 4,\n",
       " '7916029': 4,\n",
       " '9348336': 10,\n",
       " '6676235': 4,\n",
       " '4687815': 4,\n",
       " '8635645': 4,\n",
       " '5178651': 4,\n",
       " '5397075': 4,\n",
       " '9929352': 4,\n",
       " '4263776': 4,\n",
       " '4005577': 10,\n",
       " '8648325': 4,\n",
       " '3645646': 4,\n",
       " '8140278': 4,\n",
       " '9538721': 10,\n",
       " '8382871': 10,\n",
       " '4422525': 4,\n",
       " '2343081': 4,\n",
       " '8183412': 10,\n",
       " '1432420': 4,\n",
       " '2670588': 4,\n",
       " '7584947': 10,\n",
       " '4470266': 6,\n",
       " '9325236': 4,\n",
       " '9872471': 4,\n",
       " '5443940': 4,\n",
       " '2629180': 10,\n",
       " '7809866': 4,\n",
       " '6658589': 4,\n",
       " '1640739': 4,\n",
       " '6054812': 4,\n",
       " '4695871': 4,\n",
       " '8699714': 4,\n",
       " '2187296': 10,\n",
       " '1895083': 10,\n",
       " '7394956': 10,\n",
       " '1357517': 10,\n",
       " '8778169': 10,\n",
       " '1763712': 10,\n",
       " '5011163': 10,\n",
       " '9697658': 10,\n",
       " '5085316': 10,\n",
       " '8299568': 10,\n",
       " '1153561': 10,\n",
       " '3386962': 10,\n",
       " '8743531': 10,\n",
       " '1698569': 4,\n",
       " '6040146': 4,\n",
       " '9730008': 4,\n",
       " '1380939': 4,\n",
       " '3245825': 4,\n",
       " '2208282': 10,\n",
       " '2566564': 10,\n",
       " '2690989': 10,\n",
       " '4780550': 10,\n",
       " '4317599': 10,\n",
       " '2879757': 10,\n",
       " '6833039': 10,\n",
       " '4758198': 10,\n",
       " '5935727': 4,\n",
       " '2234701': 4,\n",
       " '1998223': 4,\n",
       " '3549989': 3,\n",
       " '2209337': 3,\n",
       " '1419529': 3,\n",
       " '2170568': 3,\n",
       " '6147490': 3,\n",
       " '3161703': 3,\n",
       " '4378979': 3,\n",
       " '6482975': 3,\n",
       " '5124136': 4,\n",
       " '4682713': 4,\n",
       " '2716152': 3,\n",
       " '2770133': 3,\n",
       " '1821182': 3,\n",
       " '5512420': 3,\n",
       " '2133568': 3,\n",
       " '7107684': 3,\n",
       " '5385581': 3,\n",
       " '5600632': 4,\n",
       " '9439312': 3,\n",
       " '2193627': 6,\n",
       " '7016785': 3,\n",
       " '4678831': 3,\n",
       " '9893168': 3,\n",
       " '7764831': 3,\n",
       " '9721767': 3,\n",
       " '6336152': 3,\n",
       " '6565505': 3,\n",
       " '4839944': 3,\n",
       " '2890135': 3,\n",
       " '7889860': 3,\n",
       " '2115814': 1,\n",
       " '4903506': 3,\n",
       " '7114194': 3,\n",
       " '3239429': 3,\n",
       " '8266898': 3,\n",
       " '3449908': 3,\n",
       " '9625349': 3,\n",
       " '9016426': 3,\n",
       " '2418926': 3,\n",
       " '8714809': 6,\n",
       " '6412869': 3,\n",
       " '8274751': 3,\n",
       " '3964253': 3,\n",
       " '2101618': 3,\n",
       " '9077507': 3,\n",
       " '2042940': 3,\n",
       " '7896636': 3,\n",
       " '7345768': 3,\n",
       " '3059888': 3,\n",
       " '5518411': 3,\n",
       " '5295020': 3,\n",
       " '1301170': 3,\n",
       " '3796675': 3,\n",
       " '1970296': 3,\n",
       " '3389944': 3,\n",
       " '6312519': 3,\n",
       " '9127816': 3,\n",
       " '1495225': 3,\n",
       " '6872874': 6,\n",
       " '9087721': 3,\n",
       " '8819988': 0,\n",
       " '1823845': 8,\n",
       " '8054052': 0,\n",
       " '2067164': 3,\n",
       " '5799791': 6,\n",
       " '2184890': 6,\n",
       " '9980804': 6,\n",
       " '8290754': 1,\n",
       " '4419076': 1,\n",
       " '7973442': 1,\n",
       " '9400978': 1,\n",
       " '3253395': 1,\n",
       " '7312676': 1,\n",
       " '5521504': 1,\n",
       " '7635273': 8,\n",
       " '6112796': 8,\n",
       " '7218041': 8,\n",
       " '4091261': 4,\n",
       " '9812008': 4,\n",
       " '5330968': 1,\n",
       " '7333594': 1,\n",
       " '4470779': 1,\n",
       " '8264110': 10,\n",
       " '6302078': 10,\n",
       " '6701602': 8,\n",
       " '7583147': 4,\n",
       " '3601215': 9,\n",
       " '9005923': 9,\n",
       " '2146914': 4,\n",
       " '9776065': 9,\n",
       " '4315312': 9,\n",
       " '5433690': 0,\n",
       " '7597459': 1,\n",
       " '6398117': 8,\n",
       " '6141129': 8,\n",
       " '4002124': 6,\n",
       " '2664733': 6,\n",
       " '2634051': 0,\n",
       " '5055812': 0,\n",
       " '9747852': 4,\n",
       " '6309202': 4,\n",
       " '7553286': 4,\n",
       " '9220276': 4,\n",
       " '6837176': 4,\n",
       " '2138234': 4,\n",
       " '2379322': 4,\n",
       " '4604437': 9,\n",
       " '9259705': 9,\n",
       " '8063233': 6,\n",
       " '8667181': 6,\n",
       " '1990484': 6,\n",
       " '4921385': 9,\n",
       " '7440304': 4,\n",
       " '3488016': 9,\n",
       " '5658552': 9,\n",
       " '3497147': 9,\n",
       " '8061391': 9,\n",
       " '4616966': 9,\n",
       " '2623856': 9,\n",
       " '8136879': 4,\n",
       " '2978921': 4,\n",
       " '4997809': 4,\n",
       " '7369267': 4,\n",
       " '2031904': 4,\n",
       " '1243239': 4,\n",
       " '5975451': 4,\n",
       " '2746315': 4,\n",
       " '2238822': 3,\n",
       " '3921443': 1,\n",
       " '5321484': 8,\n",
       " '1547754': 8,\n",
       " '5273869': 0,\n",
       " '1623855': 0,\n",
       " '6093204': 4,\n",
       " '9192468': 10,\n",
       " '2665012': 10,\n",
       " '7801602': 10,\n",
       " '7358829': 10,\n",
       " '4373382': 10,\n",
       " '7781617': 10,\n",
       " '2794736': 0,\n",
       " '7938161': 0,\n",
       " '6971888': 0,\n",
       " '8382088': 3,\n",
       " '2570270': 0,\n",
       " '5804390': 4,\n",
       " '8336729': 1,\n",
       " '5463452': 1,\n",
       " '2014577': 1,\n",
       " '4583448': 4,\n",
       " '6578669': 1,\n",
       " '2147332': 1,\n",
       " '2016960': 1,\n",
       " '4402851': 1,\n",
       " '5131882': 1,\n",
       " '6575560': 0,\n",
       " '7995389': 0,\n",
       " '7603677': 0,\n",
       " '7284837': 0,\n",
       " '5275676': 1,\n",
       " '2351228': 1,\n",
       " '7560062': 4,\n",
       " '3574808': 1,\n",
       " '4059502': 8,\n",
       " '4142678': 9,\n",
       " '8396640': 9,\n",
       " '6047831': 9,\n",
       " '5012353': 0,\n",
       " '5702574': 0,\n",
       " '2070408': 0,\n",
       " '5601892': 0,\n",
       " '5791258': 4,\n",
       " '2504088': 4,\n",
       " '8186351': 4,\n",
       " '6759501': 4,\n",
       " '2559082': 4,\n",
       " '3450215': 4,\n",
       " '3213152': 4,\n",
       " '2982735': 0,\n",
       " '2826523': 4,\n",
       " '8992258': 4,\n",
       " '4279905': 4,\n",
       " '2634248': 4,\n",
       " '7530019': 4,\n",
       " '6263872': 4,\n",
       " '3082326': 4,\n",
       " '3141027': 4,\n",
       " '9362124': 4,\n",
       " '7577101': 4,\n",
       " '4251180': 4,\n",
       " '4225594': 4,\n",
       " '1813355': 4,\n",
       " '8234290': 4,\n",
       " '8598623': 0,\n",
       " '3663856': 4,\n",
       " '9386047': 3,\n",
       " '8881206': 0,\n",
       " '7831865': 2,\n",
       " '4858190': 2,\n",
       " '4702811': 2,\n",
       " '4093507': 1,\n",
       " '1447238': 1,\n",
       " '2217078': 1,\n",
       " '5598626': 1,\n",
       " '7925569': 1,\n",
       " '7561367': 1,\n",
       " '2707537': 1,\n",
       " '3365949': 1,\n",
       " '9365679': 1,\n",
       " '3440132': 1,\n",
       " '5285583': 1,\n",
       " '2914038': 1,\n",
       " '4120780': 1,\n",
       " '4698268': 1,\n",
       " '2200974': 1,\n",
       " '3099348': 1,\n",
       " '1601444': 1,\n",
       " '2040196': 1,\n",
       " '2492718': 1,\n",
       " '5644858': 1,\n",
       " '8839757': 1,\n",
       " '8553272': 1,\n",
       " '7989758': 4,\n",
       " '9002963': 4,\n",
       " '4397174': 0,\n",
       " '1370310': 0,\n",
       " '3623451': 4,\n",
       " '3500982': 4,\n",
       " '9108482': 4,\n",
       " '2655742': 6,\n",
       " '8777431': 6,\n",
       " '7755028': 6,\n",
       " '8923506': 6,\n",
       " '9216834': 6,\n",
       " '4043459': 6,\n",
       " '3391909': 6,\n",
       " '7127213': 6,\n",
       " '2167961': 6,\n",
       " '3939426': 6,\n",
       " '3190456': 6,\n",
       " '5907279': 6,\n",
       " '2783071': 6,\n",
       " '3180404': 0,\n",
       " '6796337': 0,\n",
       " '1614462': 2,\n",
       " '6294927': 2,\n",
       " '3120419': 2,\n",
       " '9644284': 2,\n",
       " '9994449': 2,\n",
       " '3688309': 2,\n",
       " '5176750': 2,\n",
       " '8690443': 2,\n",
       " '7304224': 2,\n",
       " '1111434': 1,\n",
       " '6672326': 1,\n",
       " '5312426': 0,\n",
       " '5892897': 0,\n",
       " '6122627': 4,\n",
       " '1086236': 5,\n",
       " '9729681': 5,\n",
       " '4835987': 3,\n",
       " '9531246': 3,\n",
       " '8842819': 0,\n",
       " '1871196': 0,\n",
       " '1332198': 0,\n",
       " '3548917': 1,\n",
       " '5527429': 1,\n",
       " '6572255': 1,\n",
       " '5774961': 1,\n",
       " '3889629': 1,\n",
       " '2041234': 1,\n",
       " '9129126': 1,\n",
       " '2204064': 1,\n",
       " '9265063': 1,\n",
       " '5549384': 1,\n",
       " '8023529': 1,\n",
       " '1779908': 1,\n",
       " '7442727': 1,\n",
       " '3189927': 1,\n",
       " '6852335': 1,\n",
       " '3076137': 1,\n",
       " '1946725': 1,\n",
       " '8041716': 1,\n",
       " '2390965': 1,\n",
       " '5628655': 1,\n",
       " '4208442': 1,\n",
       " '2386294': 1,\n",
       " '1889962': 1,\n",
       " '1423806': 1,\n",
       " '7154174': 0,\n",
       " '6302208': 1,\n",
       " '3490914': 1,\n",
       " '8377417': 1,\n",
       " '3234808': 1,\n",
       " '9732856': 1,\n",
       " '6058605': 1,\n",
       " '3382078': 1,\n",
       " '5783052': 1,\n",
       " '2823156': 1,\n",
       " '3068885': 1,\n",
       " '1755791': 1,\n",
       " '6972791': 1,\n",
       " '6516448': 1,\n",
       " '2537746': 1,\n",
       " '3858162': 1,\n",
       " '3429229': 7,\n",
       " '4362206': 4,\n",
       " '4061000': 0,\n",
       " '3039147': 0,\n",
       " '2989824': 10,\n",
       " '7522793': 10,\n",
       " '5745168': 10,\n",
       " '6188539': 10,\n",
       " '3944349': 10,\n",
       " '7597885': 7,\n",
       " '9664885': 7,\n",
       " '8224924': 1,\n",
       " '1484821': 1,\n",
       " '9268869': 10,\n",
       " '1772920': 10}"
      ]
     },
     "execution_count": 51,
     "metadata": {},
     "output_type": "execute_result"
    }
   ],
   "source": [
    "partition"
   ]
  },
  {
   "cell_type": "code",
   "execution_count": 52,
   "metadata": {},
   "outputs": [
    {
     "data": {
      "text/plain": [
       "collections.defaultdict"
      ]
     },
     "execution_count": 52,
     "metadata": {},
     "output_type": "execute_result"
    }
   ],
   "source": [
    "res = defaultdict(list)\n",
    "type(res)"
   ]
  },
  {
   "cell_type": "code",
   "execution_count": 53,
   "metadata": {},
   "outputs": [],
   "source": [
    "sort_communities = {}\n",
    "for i, v in partition.items():\n",
    "    sort_communities[v] = [i] if v not in sort_communities.keys() else sort_communities[v] + [i]"
   ]
  },
  {
   "cell_type": "code",
   "execution_count": 54,
   "metadata": {},
   "outputs": [
    {
     "name": "stdout",
     "output_type": "stream",
     "text": [
      "134\n",
      "117\n",
      "25\n",
      "86\n",
      "152\n",
      "36\n",
      "109\n",
      "3\n",
      "16\n",
      "16\n",
      "44\n"
     ]
    }
   ],
   "source": [
    "print(len(sort_communities[0]))\n",
    "print(len(sort_communities[1]))\n",
    "print(len(sort_communities[2]))\n",
    "print(len(sort_communities[3]))\n",
    "print(len(sort_communities[4]))\n",
    "print(len(sort_communities[5]))\n",
    "print(len(sort_communities[6]))\n",
    "print(len(sort_communities[7]))\n",
    "print(len(sort_communities[8]))\n",
    "print(len(sort_communities[9]))\n",
    "print(len(sort_communities[10]))"
   ]
  },
  {
   "cell_type": "code",
   "execution_count": 55,
   "metadata": {
    "scrolled": false
   },
   "outputs": [],
   "source": [
    "#sort_communities[0]"
   ]
  },
  {
   "cell_type": "markdown",
   "metadata": {},
   "source": [
    "### Network Centrality. Identifying \"Community Cores\" and \"Bridges\""
   ]
  },
  {
   "cell_type": "markdown",
   "metadata": {},
   "source": [
    "#### Degree Centrality"
   ]
  },
  {
   "cell_type": "code",
   "execution_count": 56,
   "metadata": {},
   "outputs": [
    {
     "name": "stdout",
     "output_type": "stream",
     "text": [
      "{'4594575': 0.1587516960651289, '9649581': 0.12075983717774762, '3313879': 0.010854816824966078, '6138079': 0.059701492537313425, '6524595': 0.020352781546811395, '6670222': 0.018995929443690635, '6455997': 0.07191316146540026, '9582575': 0.13297150610583444, '4550719': 0.11940298507462685, '1441624': 0.11668928086838534, '6608661': 0.11940298507462685, '6159135': 0.23066485753052915, '7690572': 0.14654002713704206, '9087840': 0.12211668928086837, '3803338': 0.12890094979647218, '9972486': 0.12890094979647218, '7067231': 0.07055630936227951, '1003825': 0.12890094979647218, '6493517': 0.13297150610583444, '8503467': 0.11397557666214382, '1865518': 0.1655359565807327, '5858806': 0.11668928086838534, '8546110': 0.10990502035278153, '2399690': 0.12890094979647218, '8139386': 0.10990502035278153, '5163413': 0.03934871099050203, '1112599': 0.11668928086838534, '5577398': 0.11397557666214382, '1146339': 0.12347354138398914, '7423418': 0.11397557666214382, '3202604': 0.05020352781546811, '3866212': 0.23473541383989144, '3267643': 0.12075983717774762, '4253784': 0.0841248303934871, '6218893': 0.15603799185888736, '2998859': 0.16689280868385345, '2032624': 0.031207598371777473, '1673698': 0.12211668928086837, '9404446': 0.12618724559023065, '1106391': 0.18453188602442333, '5847548': 0.04477611940298507, '9959855': 0.2727272727272727, '4320578': 0.03934871099050203, '7871043': 0.17096336499321574, '8317303': 0.03934871099050203, '3069838': 0.13704206241519673, '6020177': 0.16960651289009496, '3216939': 0.15196743554952508, '3577122': 0.031207598371777473, '5387658': 0.09226594301221167, '4589257': 0.031207598371777473, '9050924': 0.1316146540027137, '2551809': 0.15061058344640432, '3932931': 0.14246947082767977, '7793788': 0.031207598371777473, '3667194': 0.16010854816824965, '5125270': 0.1112618724559023, '2726935': 0.04613297150610583, '8442295': 0.10312075983717774, '7903662': 0.18317503392130258, '1481164': 0.1818181818181818, '6281912': 0.04341926729986431, '8348725': 0.009497964721845317, '2301132': 0.021709633649932156, '9078686': 0.13432835820895522, '9457825': 0.13975576662143827, '5247021': 0.13704206241519673, '6371101': 0.03934871099050203, '6732139': 0.14654002713704206, '1442662': 0.4789687924016282, '9208595': 0.4219810040705563, '9909304': 0.39077340569877883, '4005967': 0.10990502035278153, '5795253': 0.13432835820895522, '3866777': 0.14111261872455902, '1371145': 0.1180461329715061, '3203462': 0.208955223880597, '1165624': 0.31478968792401624, '6426616': 0.10040705563093621, '4127040': 0.1546811397557666, '5037732': 0.10312075983717774, '6670518': 0.12890094979647218, '6065696': 0.14246947082767977, '7695380': 0.10040705563093621, '1223484': 0.10312075983717774, '3126825': 0.15739484396200812, '5337921': 0.14789687924016282, '3291499': 0.12890094979647218, '7849397': 0.10040705563093621, '5811293': 0.14518317503392128, '9138329': 0.12211668928086837, '5147462': 0.17774762550881953, '5766515': 0.24016282225237448, '4236268': 0.13704206241519673, '2654860': 0.09905020352781546, '3787271': 0.19402985074626863, '1274638': 0.13975576662143827, '8586032': 0.12483039348710989, '3421528': 0.11533242876526457, '9466115': 0.13297150610583444, '5825668': 0.15739484396200812, '7421715': 0.10176390773405698, '2523144': 0.11940298507462685, '5735979': 0.1316146540027137, '8534792': 0.13297150610583444, '3711749': 0.11261872455902305, '3810917': 0.14246947082767977, '4929492': 0.1546811397557666, '1673992': 0.15332428765264586, '9417214': 0.1886024423337856, '1439310': 0.09769335142469471, '2446753': 0.22795115332428764, '1772098': 0.21031207598371776, '5115594': 0.2021709633649932, '9307243': 0.10583446404341926, '4323369': 0.16689280868385345, '5316813': 0.28765264586160105, '1964669': 0.06919945725915874, '4045740': 0.21302578018995927, '3445792': 0.13568521031207598, '6570550': 0.09905020352781546, '6961628': 0.04477611940298507, '4701360': 0.036635006784260515, '9354800': 0.1614654002713704, '4305026': 0.18046132971506104, '3937332': 0.15061058344640432, '5516737': 0.04070556309362279, '1793245': 0.13975576662143827, '9505769': 0.15061058344640432, '2578648': 0.13297150610583444, '2441703': 0.14246947082767977, '7020981': 0.04070556309362279, '9896966': 0.07327001356852103, '7677021': 0.07055630936227951, '3766124': 0.07055630936227951, '1478579': 0.07327001356852103, '2015078': 0.08141112618724558, '6589515': 0.05291723202170963, '7277798': 0.04613297150610583, '7889755': 0.07055630936227951, '1567926': 0.07191316146540026, '3180976': 0.07191316146540026, '4688415': 0.07055630936227951, '3660967': 0.08005427408412483, '7032056': 0.07869742198100406, '7856882': 0.08005427408412483, '7005996': 0.032564450474898234, '8440108': 0.08955223880597014, '5800071': 0.0909090909090909, '4024280': 0.0027137042062415195, '8462339': 0.004070556309362279, '6343786': 0.012211668928086838, '9014591': 0.04748982360922659, '4364848': 0.13568521031207598, '5543463': 0.04341926729986431, '9439026': 0.05698778833107191, '1151261': 0.0013568521031207597, '6561192': 0.18588873812754408, '6355372': 0.28493894165535955, '9805906': 0.061058344640434185, '5240849': 0.04477611940298507, '5353779': 0.06784260515603799, '7165979': 0.04341926729986431, '2897777': 0.04341926729986431, '2265844': 0.04477611940298507, '4616698': 0.048846675712347354, '2592830': 0.15739484396200812, '7735771': 0.13839891451831748, '4757531': 0.06784260515603799, '7609194': 0.13297150610583444, '4841017': 0.14111261872455902, '3369951': 0.14111261872455902, '3509702': 0.021709633649932156, '6856334': 0.0027137042062415195, '3636164': 0.11261872455902305, '9404978': 0.005427408412483039, '4397146': 0.16417910447761191, '8473298': 0.2320217096336499, '7721952': 0.04477611940298507, '7567736': 0.17774762550881953, '6311554': 0.04477611940298507, '9617858': 0.04477611940298507, '1539700': 0.2021709633649932, '7724108': 0.16689280868385345, '1406975': 0.048846675712347354, '6144515': 0.028493894165535955, '2098707': 0.028493894165535955, '2978392': 0.028493894165535955, '5850425': 0.048846675712347354, '8998615': 0.061058344640434185, '4213188': 0.008141112618724558, '6093075': 0.008141112618724558, '3326942': 0.008141112618724558, '8585733': 0.10040705563093621, '1548416': 0.0909090909090909, '6599160': 0.009497964721845317, '4257439': 0.027137042062415195, '5558538': 0.05156037991858887, '3923346': 0.014925373134328356, '6270066': 0.11533242876526457, '8860879': 0.1614654002713704, '2541098': 0.008141112618724558, '4449011': 0.16689280868385345, '4664490': 0.004070556309362279, '4063666': 0.062415196743554946, '1581691': 0.010854816824966078, '2454859': 0.08819538670284938, '8962643': 0.175033921302578, '4843564': 0.17096336499321574, '1338626': 0.05156037991858887, '5612616': 0.19402985074626863, '1373064': 0.15061058344640432, '7658856': 0.09226594301221167, '2065728': 0.13432835820895522, '3304037': 0.17639077340569875, '8533862': 0.062415196743554946, '5732888': 0.10176390773405698, '9010746': 0.10040705563093621, '7391163': 0.15332428765264586, '3879610': 0.04613297150610583, '5691668': 0.05020352781546811, '9164524': 0.05020352781546811, '5327212': 0.024423337856173677, '9401989': 0.025780189959294434, '1482658': 0.17639077340569875, '9751098': 0.1723202170963365, '2212542': 0.11261872455902305, '8881147': 0.07327001356852103, '6555428': 0.1587516960651289, '9200538': 0.09362279511533242, '1604074': 0.10176390773405698, '9263856': 0.05698778833107191, '1669798': 0.032564450474898234, '1902870': 0.10583446404341926, '8480716': 0.3541383989145183, '1261945': 0.17096336499321574, '6063179': 0.16689280868385345, '8072660': 0.19131614654002713, '7206475': 0.07191316146540026, '1716134': 0.04341926729986431, '7269142': 0.04477611940298507, '9753691': 0.0773405698778833, '6919148': 0.10040705563093621, '6548577': 0.20624151967435547, '3938423': 0.061058344640434185, '4735423': 0.029850746268656712, '4615722': 0.1044776119402985, '8788229': 0.20624151967435547, '6177946': 0.09497964721845319, '2154724': 0.13025780189959293, '5137910': 0.18995929443690637, '9196253': 0.014925373134328356, '7549028': 0.12483039348710989, '6603497': 0.04477611940298507, '5506452': 0.1112618724559023, '7646446': 0.12618724559023065, '6401065': 0.12618724559023065, '5521884': 0.12483039348710989, '5670389': 0.13025780189959293, '8116815': 0.12483039348710989, '9977818': 0.19810040705563092, '2681667': 0.11940298507462685, '1682770': 0.24423337856173674, '5550092': 0.12890094979647218, '8314913': 0.2320217096336499, '1240052': 0.12347354138398914, '9842858': 0.12483039348710989, '9674423': 0.12618724559023065, '6266138': 0.008141112618724558, '4853294': 0.005427408412483039, '2388443': 0.21981004070556306, '6375956': 0.1546811397557666, '6060622': 0.20081411126187243, '8360528': 0.208955223880597, '6312773': 0.16417910447761191, '2450089': 0.12211668928086837, '4937216': 0.1886024423337856, '6857831': 0.12211668928086837, '5802591': 0.12347354138398914, '4859713': 0.12618724559023065, '3806946': 0.14925373134328357, '4989332': 0.12618724559023065, '3317272': 0.11533242876526457, '3207163': 0.10176390773405698, '7538853': 0.12075983717774762, '6692800': 0.11397557666214382, '1601009': 0.1180461329715061, '8506843': 0.13568521031207598, '1882463': 0.1180461329715061, '3207118': 0.11940298507462685, '1010447': 0.12347354138398914, '4522049': 0.12211668928086837, '7032663': 0.12347354138398914, '6333011': 0.11261872455902305, '8657818': 0.12075983717774762, '4413106': 0.12075983717774762, '3517320': 0.16010854816824965, '9713335': 0.14382632293080053, '2322857': 0.18453188602442333, '9380195': 0.11397557666214382, '8583103': 0.10854816824966078, '9280279': 0.11668928086838534, '2422972': 0.1316146540027137, '4694186': 0.12618724559023065, '2757226': 0.1316146540027137, '4290555': 0.1180461329715061, '3814713': 0.1546811397557666, '6772048': 0.18046132971506104, '7365078': 0.13297150610583444, '4194156': 0.18588873812754408, '9613908': 0.14925373134328357, '4582197': 0.12618724559023065, '3071316': 0.13568521031207598, '7127649': 0.11261872455902305, '9265778': 0.1587516960651289, '2462595': 0.13432835820895522, '8139113': 0.1112618724559023, '8144821': 0.14654002713704206, '3344258': 0.2021709633649932, '5157457': 0.1180461329715061, '5944181': 0.10312075983717774, '9876210': 0.17367706919945725, '5947540': 0.1886024423337856, '5817645': 0.11668928086838534, '7622254': 0.1044776119402985, '4041378': 0.09633649932157394, '6084667': 0.04613297150610583, '9552403': 0.06512890094979647, '8035015': 0.06784260515603799, '3491603': 0.048846675712347354, '2011408': 0.05156037991858887, '9516300': 0.04341926729986431, '6769230': 0.04341926729986431, '5256108': 0.07598371777476254, '8370257': 0.06784260515603799, '4102683': 0.12618724559023065, '4983027': 0.08683853459972862, '5994341': 0.13975576662143827, '8276042': 0.14925373134328357, '5207072': 0.13704206241519673, '9084703': 0.09769335142469471, '5720903': 0.005427408412483039, '8250622': 0.05834464043419267, '8286683': 0.005427408412483039, '3473370': 0.13839891451831748, '2848137': 0.05156037991858887, '2035679': 0.04477611940298507, '7430171': 0.05020352781546811, '8989174': 0.05020352781546811, '6950661': 0.04748982360922659, '9915744': 0.05156037991858887, '9833667': 0.1655359565807327, '1144143': 0.10176390773405698, '4932259': 0.13568521031207598, '5408961': 0.1044776119402985, '6086120': 0.1723202170963365, '2289871': 0.16689280868385345, '7916029': 0.10312075983717774, '9348336': 0.14518317503392128, '6676235': 0.19674355495251017, '4687815': 0.10583446404341926, '8635645': 0.12347354138398914, '5178651': 0.12211668928086837, '5397075': 0.10176390773405698, '9929352': 0.12618724559023065, '4263776': 0.1818181818181818, '4005577': 0.12890094979647218, '8648325': 0.11668928086838534, '3645646': 0.10176390773405698, '8140278': 0.10854816824966078, '9538721': 0.1180461329715061, '8382871': 0.13568521031207598, '4422525': 0.10176390773405698, '2343081': 0.14382632293080053, '8183412': 0.175033921302578, '1432420': 0.13704206241519673, '2670588': 0.16689280868385345, '7584947': 0.13568521031207598, '4470266': 0.13568521031207598, '9325236': 0.10176390773405698, '9872471': 0.13025780189959293, '5443940': 0.18317503392130258, '2629180': 0.14789687924016282, '7809866': 0.13432835820895522, '6658589': 0.08276797829036635, '1640739': 0.15061058344640432, '6054812': 0.07055630936227951, '4695871': 0.033921302578018994, '8699714': 0.033921302578018994, '2187296': 0.036635006784260515, '1895083': 0.025780189959294434, '7394956': 0.021709633649932156, '1357517': 0.033921302578018994, '8778169': 0.013568521031207597, '1763712': 0.018995929443690635, '5011163': 0.016282225237449117, '9697658': 0.012211668928086838, '5085316': 0.0027137042062415195, '8299568': 0.028493894165535955, '1153561': 0.027137042062415195, '3386962': 0.028493894165535955, '8743531': 0.014925373134328356, '1698569': 0.006784260515603799, '6040146': 0.006784260515603799, '9730008': 0.006784260515603799, '1380939': 0.006784260515603799, '3245825': 0.006784260515603799, '2208282': 0.032564450474898234, '2566564': 0.029850746268656712, '2690989': 0.027137042062415195, '4780550': 0.0013568521031207597, '4317599': 0.027137042062415195, '2879757': 0.027137042062415195, '6833039': 0.03934871099050203, '4758198': 0.027137042062415195, '5935727': 0.0027137042062415195, '2234701': 0.008141112618724558, '1998223': 0.006784260515603799, '3549989': 0.08819538670284938, '2209337': 0.11668928086838534, '1419529': 0.05563093622795115, '2170568': 0.11533242876526457, '6147490': 0.05291723202170963, '3161703': 0.11397557666214382, '4378979': 0.05563093622795115, '6482975': 0.0773405698778833, '5124136': 0.023066485753052916, '4682713': 0.023066485753052916, '2716152': 0.04341926729986431, '2770133': 0.05563093622795115, '1821182': 0.031207598371777473, '5512420': 0.023066485753052916, '2133568': 0.09633649932157394, '7107684': 0.11261872455902305, '5385581': 0.05698778833107191, '5600632': 0.023066485753052916, '9439312': 0.07055630936227951, '2193627': 0.07327001356852103, '7016785': 0.07055630936227951, '4678831': 0.04341926729986431, '9893168': 0.10312075983717774, '7764831': 0.04341926729986431, '9721767': 0.05698778833107191, '6336152': 0.05020352781546811, '6565505': 0.07055630936227951, '4839944': 0.07055630936227951, '2890135': 0.07055630936227951, '7889860': 0.07055630936227951, '2115814': 0.05563093622795115, '4903506': 0.04748982360922659, '7114194': 0.04206241519674355, '3239429': 0.04341926729986431, '8266898': 0.04070556309362279, '3449908': 0.04748982360922659, '9625349': 0.04341926729986431, '9016426': 0.04341926729986431, '2418926': 0.04341926729986431, '8714809': 0.0773405698778833, '6412869': 0.04341926729986431, '8274751': 0.04341926729986431, '3964253': 0.04341926729986431, '2101618': 0.04341926729986431, '9077507': 0.04748982360922659, '2042940': 0.04341926729986431, '7896636': 0.0027137042062415195, '7345768': 0.04748982360922659, '3059888': 0.04341926729986431, '5518411': 0.04613297150610583, '5295020': 0.025780189959294434, '1301170': 0.014925373134328356, '3796675': 0.004070556309362279, '1970296': 0.004070556309362279, '3389944': 0.004070556309362279, '6312519': 0.03799185888738127, '9127816': 0.04613297150610583, '1495225': 0.03799185888738127, '6872874': 0.05834464043419267, '9087721': 0.08276797829036635, '8819988': 0.017639077340569877, '1823845': 0.07462686567164178, '8054052': 0.004070556309362279, '2067164': 0.032564450474898234, '5799791': 0.05291723202170963, '2184890': 0.05291723202170963, '9980804': 0.024423337856173677, '8290754': 0.04206241519674355, '4419076': 0.04206241519674355, '7973442': 0.04341926729986431, '9400978': 0.04206241519674355, '3253395': 0.062415196743554946, '7312676': 0.06377204884667571, '5521504': 0.05020352781546811, '7635273': 0.013568521031207597, '6112796': 0.025780189959294434, '7218041': 0.027137042062415195, '4091261': 0.005427408412483039, '9812008': 0.005427408412483039, '5330968': 0.061058344640434185, '7333594': 0.059701492537313425, '4470779': 0.08276797829036635, '8264110': 0.010854816824966078, '6302078': 0.010854816824966078, '6701602': 0.06919945725915874, '7583147': 0.014925373134328356, '3601215': 0.021709633649932156, '9005923': 0.032564450474898234, '2146914': 0.017639077340569877, '9776065': 0.021709633649932156, '4315312': 0.021709633649932156, '5433690': 0.013568521031207597, '7597459': 0.020352781546811395, '6398117': 0.06784260515603799, '6141129': 0.010854816824966078, '4002124': 0.05563093622795115, '2664733': 0.032564450474898234, '2634051': 0.004070556309362279, '5055812': 0.004070556309362279, '9747852': 0.005427408412483039, '6309202': 0.005427408412483039, '7553286': 0.018995929443690635, '9220276': 0.0027137042062415195, '6837176': 0.0027137042062415195, '2138234': 0.059701492537313425, '2379322': 0.059701492537313425, '4604437': 0.059701492537313425, '9259705': 0.059701492537313425, '8063233': 0.05020352781546811, '8667181': 0.028493894165535955, '1990484': 0.029850746268656712, '4921385': 0.06784260515603799, '7440304': 0.059701492537313425, '3488016': 0.032564450474898234, '5658552': 0.027137042062415195, '3497147': 0.035278154681139755, '8061391': 0.029850746268656712, '4616966': 0.029850746268656712, '2623856': 0.027137042062415195, '8136879': 0.059701492537313425, '2978921': 0.059701492537313425, '4997809': 0.05834464043419267, '7369267': 0.05698778833107191, '2031904': 0.05834464043419267, '1243239': 0.05834464043419267, '5975451': 0.059701492537313425, '2746315': 0.059701492537313425, '2238822': 0.05291723202170963, '3921443': 0.05834464043419267, '5321484': 0.061058344640434185, '1547754': 0.06377204884667571, '5273869': 0.07327001356852103, '1623855': 0.008141112618724558, '6093204': 0.05156037991858887, '9192468': 0.008141112618724558, '2665012': 0.006784260515603799, '7801602': 0.008141112618724558, '7358829': 0.008141112618724558, '4373382': 0.006784260515603799, '7781617': 0.006784260515603799, '2794736': 0.021709633649932156, '7938161': 0.023066485753052916, '6971888': 0.021709633649932156, '8382088': 0.0027137042062415195, '2570270': 0.0013568521031207597, '5804390': 0.025780189959294434, '8336729': 0.021709633649932156, '5463452': 0.032564450474898234, '2014577': 0.004070556309362279, '4583448': 0.016282225237449117, '6578669': 0.009497964721845317, '2147332': 0.017639077340569877, '2016960': 0.017639077340569877, '4402851': 0.010854816824966078, '5131882': 0.0027137042062415195, '6575560': 0.016282225237449117, '7995389': 0.005427408412483039, '7603677': 0.013568521031207597, '7284837': 0.005427408412483039, '5275676': 0.020352781546811395, '2351228': 0.008141112618724558, '7560062': 0.014925373134328356, '3574808': 0.005427408412483039, '4059502': 0.004070556309362279, '4142678': 0.017639077340569877, '8396640': 0.017639077340569877, '6047831': 0.018995929443690635, '5012353': 0.009497964721845317, '5702574': 0.009497964721845317, '2070408': 0.004070556309362279, '5601892': 0.0027137042062415195, '5791258': 0.013568521031207597, '2504088': 0.009497964721845317, '8186351': 0.008141112618724558, '6759501': 0.004070556309362279, '2559082': 0.004070556309362279, '3450215': 0.004070556309362279, '3213152': 0.018995929443690635, '2982735': 0.036635006784260515, '2826523': 0.027137042062415195, '8992258': 0.027137042062415195, '4279905': 0.027137042062415195, '2634248': 0.027137042062415195, '7530019': 0.027137042062415195, '6263872': 0.027137042062415195, '3082326': 0.027137042062415195, '3141027': 0.027137042062415195, '9362124': 0.027137042062415195, '7577101': 0.027137042062415195, '4251180': 0.027137042062415195, '4225594': 0.027137042062415195, '1813355': 0.027137042062415195, '8234290': 0.027137042062415195, '8598623': 0.008141112618724558, '3663856': 0.005427408412483039, '9386047': 0.009497964721845317, '8881206': 0.0027137042062415195, '7831865': 0.028493894165535955, '4858190': 0.028493894165535955, '4702811': 0.028493894165535955, '4093507': 0.021709633649932156, '1447238': 0.021709633649932156, '2217078': 0.021709633649932156, '5598626': 0.021709633649932156, '7925569': 0.021709633649932156, '7561367': 0.021709633649932156, '2707537': 0.021709633649932156, '3365949': 0.021709633649932156, '9365679': 0.021709633649932156, '3440132': 0.021709633649932156, '5285583': 0.021709633649932156, '2914038': 0.021709633649932156, '4120780': 0.04070556309362279, '4698268': 0.021709633649932156, '2200974': 0.021709633649932156, '3099348': 0.006784260515603799, '1601444': 0.006784260515603799, '2040196': 0.006784260515603799, '2492718': 0.006784260515603799, '5644858': 0.006784260515603799, '8839757': 0.006784260515603799, '8553272': 0.006784260515603799, '7989758': 0.013568521031207597, '9002963': 0.004070556309362279, '4397174': 0.017639077340569877, '1370310': 0.017639077340569877, '3623451': 0.004070556309362279, '3500982': 0.0013568521031207597, '9108482': 0.020352781546811395, '2655742': 0.035278154681139755, '8777431': 0.035278154681139755, '7755028': 0.035278154681139755, '8923506': 0.035278154681139755, '9216834': 0.03934871099050203, '4043459': 0.03934871099050203, '3391909': 0.06512890094979647, '7127213': 0.061058344640434185, '2167961': 0.035278154681139755, '3939426': 0.035278154681139755, '3190456': 0.035278154681139755, '5907279': 0.035278154681139755, '2783071': 0.0027137042062415195, '3180404': 0.0027137042062415195, '6796337': 0.0027137042062415195, '1614462': 0.024423337856173677, '6294927': 0.024423337856173677, '3120419': 0.016282225237449117, '9644284': 0.016282225237449117, '9994449': 0.017639077340569877, '3688309': 0.017639077340569877, '5176750': 0.017639077340569877, '8690443': 0.017639077340569877, '7304224': 0.017639077340569877, '1111434': 0.004070556309362279, '6672326': 0.004070556309362279, '5312426': 0.004070556309362279, '5892897': 0.004070556309362279, '6122627': 0.020352781546811395, '1086236': 0.0027137042062415195, '9729681': 0.0027137042062415195, '4835987': 0.006784260515603799, '9531246': 0.006784260515603799, '8842819': 0.013568521031207597, '1871196': 0.010854816824966078, '1332198': 0.009497964721845317, '3548917': 0.027137042062415195, '5527429': 0.027137042062415195, '6572255': 0.027137042062415195, '5774961': 0.027137042062415195, '3889629': 0.020352781546811395, '2041234': 0.04206241519674355, '9129126': 0.033921302578018994, '2204064': 0.027137042062415195, '9265063': 0.027137042062415195, '5549384': 0.021709633649932156, '8023529': 0.033921302578018994, '1779908': 0.004070556309362279, '7442727': 0.0013568521031207597, '3189927': 0.014925373134328356, '6852335': 0.017639077340569877, '3076137': 0.014925373134328356, '1946725': 0.014925373134328356, '8041716': 0.014925373134328356, '2390965': 0.014925373134328356, '5628655': 0.014925373134328356, '4208442': 0.014925373134328356, '2386294': 0.004070556309362279, '1889962': 0.004070556309362279, '1423806': 0.0027137042062415195, '7154174': 0.0027137042062415195, '6302208': 0.009497964721845317, '3490914': 0.020352781546811395, '8377417': 0.018995929443690635, '3234808': 0.009497964721845317, '9732856': 0.009497964721845317, '6058605': 0.009497964721845317, '3382078': 0.008141112618724558, '5783052': 0.018995929443690635, '2823156': 0.013568521031207597, '3068885': 0.020352781546811395, '1755791': 0.013568521031207597, '6972791': 0.012211668928086838, '6516448': 0.012211668928086838, '2537746': 0.012211668928086838, '3858162': 0.012211668928086838, '3429229': 0.004070556309362279, '4362206': 0.0027137042062415195, '4061000': 0.0013568521031207597, '3039147': 0.0013568521031207597, '2989824': 0.005427408412483039, '7522793': 0.005427408412483039, '5745168': 0.005427408412483039, '6188539': 0.005427408412483039, '3944349': 0.0013568521031207597, '7597885': 0.0027137042062415195, '9664885': 0.0027137042062415195, '8224924': 0.0027137042062415195, '1484821': 0.0027137042062415195, '9268869': 0.006784260515603799, '1772920': 0.006784260515603799}\n"
     ]
    }
   ],
   "source": [
    "#Degree Centrality. This is based on the assumption that important nodes have many connections.\n",
    "deg_centrality = nx.degree_centrality(G_sub)\n",
    "print(deg_centrality)"
   ]
  },
  {
   "cell_type": "code",
   "execution_count": 57,
   "metadata": {},
   "outputs": [
    {
     "data": {
      "text/plain": [
       "[('1442662', 0.4789687924016282),\n",
       " ('9208595', 0.4219810040705563),\n",
       " ('9909304', 0.39077340569877883),\n",
       " ('8480716', 0.3541383989145183),\n",
       " ('1165624', 0.31478968792401624),\n",
       " ('5316813', 0.28765264586160105),\n",
       " ('6355372', 0.28493894165535955),\n",
       " ('9959855', 0.2727272727272727),\n",
       " ('1682770', 0.24423337856173674),\n",
       " ('5766515', 0.24016282225237448)]"
      ]
     },
     "execution_count": 57,
     "metadata": {},
     "output_type": "execute_result"
    }
   ],
   "source": [
    "deg_centrality_sort = sorted(deg_centrality.items(), key=lambda x:x[1], reverse=True)\n",
    "deg_centrality_sort[:10]"
   ]
  },
  {
   "cell_type": "code",
   "execution_count": 1,
   "metadata": {},
   "outputs": [
    {
     "data": {
      "text/plain": [
       "[('8183412', 0.0037117992580279935),\n",
       " ('9208595', 0.0034612123524907683),\n",
       " ('8314913', 0.0034459684781194327),\n",
       " ('7391163', 0.003330415134807757),\n",
       " ('9959855', 0.003272083894669367),\n",
       " ('3866212', 0.0032098939213521327),\n",
       " ('8072660', 0.0032004134677617027),\n",
       " ('6676235', 0.003130295754521763),\n",
       " ('6159135', 0.0030307198713720156),\n",
       " ('1682770', 0.0029901604429693183)]"
      ]
     },
     "execution_count": 1,
     "metadata": {},
     "output_type": "execute_result"
    }
   ],
   "source": [
    "##PageRank\n",
    "[('8183412', 0.0037117992580279935),\n",
    " ('9208595', 0.0034612123524907683),\n",
    " ('8314913', 0.0034459684781194327),\n",
    " ('7391163', 0.003330415134807757),\n",
    " ('9959855', 0.003272083894669367),\n",
    " ('3866212', 0.0032098939213521327),\n",
    " ('8072660', 0.0032004134677617027),\n",
    " ('6676235', 0.003130295754521763),\n",
    " ('6159135', 0.0030307198713720156),\n",
    " ('1682770', 0.0029901604429693183)]"
   ]
  },
  {
   "cell_type": "code",
   "execution_count": 58,
   "metadata": {},
   "outputs": [
    {
     "data": {
      "text/plain": [
       "list"
      ]
     },
     "execution_count": 58,
     "metadata": {},
     "output_type": "execute_result"
    }
   ],
   "source": [
    "type(sort_communities[0])"
   ]
  },
  {
   "cell_type": "markdown",
   "metadata": {},
   "source": [
    "#### PageRank"
   ]
  },
  {
   "cell_type": "code",
   "execution_count": 59,
   "metadata": {},
   "outputs": [
    {
     "data": {
      "text/plain": [
       "{'4594575': 0.0019938245870157,\n",
       " '9649581': 0.0018131785839178363,\n",
       " '3313879': 0.0009449476675566325,\n",
       " '6138079': 0.001214301525169034,\n",
       " '6524595': 0.001219695948422485,\n",
       " '6670222': 0.0012121212094753243,\n",
       " '6455997': 0.0014766921985122864,\n",
       " '9582575': 0.0017516952908883845,\n",
       " '4550719': 0.0013628928262915678,\n",
       " '1441624': 0.0016936629918101415,\n",
       " '6608661': 0.001583418757763127,\n",
       " '6159135': 0.0030307198713720156,\n",
       " '7690572': 0.0014547801825333308,\n",
       " '9087840': 0.0012442391892952187,\n",
       " '3803338': 0.0018135071423925253,\n",
       " '9972486': 0.00140306193446301,\n",
       " '7067231': 0.0010854693160786924,\n",
       " '1003825': 0.0016062967765741287,\n",
       " '6493517': 0.0019685575249709622,\n",
       " '8503467': 0.0016592746745062255,\n",
       " '1865518': 0.0015408246895944758,\n",
       " '5858806': 0.001705517249854649,\n",
       " '8546110': 0.0014249909876092512,\n",
       " '2399690': 0.0016801940592229955,\n",
       " '8139386': 0.0014235397783395462,\n",
       " '5163413': 0.0010464381447809238,\n",
       " '1112599': 0.0015124537925423013,\n",
       " '5577398': 0.0015907386299426121,\n",
       " '1146339': 0.0016812639445975104,\n",
       " '7423418': 0.0016195459135992143,\n",
       " '3202604': 0.0011830106167144139,\n",
       " '3866212': 0.0032098939213521327,\n",
       " '3267643': 0.0019069697048494346,\n",
       " '4253784': 0.0013721001697743643,\n",
       " '6218893': 0.0016683629318096215,\n",
       " '2998859': 0.0023588051971140823,\n",
       " '2032624': 0.0008657289379857791,\n",
       " '1673698': 0.0015653645995911372,\n",
       " '9404446': 0.0015990375486702399,\n",
       " '1106391': 0.002780196157689725,\n",
       " '5847548': 0.0013029083881111081,\n",
       " '9959855': 0.003272083894669367,\n",
       " '4320578': 0.0009783015315401658,\n",
       " '7871043': 0.0017949220326203435,\n",
       " '8317303': 0.0010210241022411335,\n",
       " '3069838': 0.0015662739602920962,\n",
       " '6020177': 0.0018587147403607508,\n",
       " '3216939': 0.0017211890786420223,\n",
       " '3577122': 0.0008657289379857789,\n",
       " '5387658': 0.0015593188442062688,\n",
       " '4589257': 0.0008657289379857789,\n",
       " '9050924': 0.0014771114300946705,\n",
       " '2551809': 0.0017706509737088164,\n",
       " '3932931': 0.0018720104260449937,\n",
       " '7793788': 0.0010063343932318505,\n",
       " '3667194': 0.001607810772536052,\n",
       " '5125270': 0.001731726863277798,\n",
       " '2726935': 0.0010905032604960662,\n",
       " '8442295': 0.001436759345365248,\n",
       " '7903662': 0.002366474213463374,\n",
       " '1481164': 0.001770580595430093,\n",
       " '6281912': 0.0009902934988101487,\n",
       " '8348725': 0.0009817746370156134,\n",
       " '2301132': 0.0010035360579393085,\n",
       " '9078686': 0.0015830017538100666,\n",
       " '9457825': 0.0014849218293138595,\n",
       " '5247021': 0.0011952972216855372,\n",
       " '6371101': 0.0008438451361831585,\n",
       " '6732139': 0.0013113045101969343,\n",
       " '1442662': 0.0023035714748545788,\n",
       " '9208595': 0.0034612123524907683,\n",
       " '9909304': 0.0023269517593663054,\n",
       " '4005967': 0.0012750247191804565,\n",
       " '5795253': 0.0015657885654440154,\n",
       " '3866777': 0.0018126601410937593,\n",
       " '1371145': 0.0013321180436180616,\n",
       " '3203462': 0.002173505796421156,\n",
       " '1165624': 0.0026969929695532776,\n",
       " '6426616': 0.0012079437730354151,\n",
       " '4127040': 0.001975258947015708,\n",
       " '5037732': 0.0008995782904626074,\n",
       " '6670518': 0.0011614009043787966,\n",
       " '6065696': 0.0017833237587835061,\n",
       " '7695380': 0.0011897773167123006,\n",
       " '1223484': 0.001234413992612662,\n",
       " '3126825': 0.0015208065959900522,\n",
       " '5337921': 0.001820060982807385,\n",
       " '3291499': 0.0012699775909701888,\n",
       " '7849397': 0.0012441290115673244,\n",
       " '5811293': 0.0018124784095278328,\n",
       " '9138329': 0.0010929288225469793,\n",
       " '5147462': 0.002073847235554407,\n",
       " '5766515': 0.0024345528863277286,\n",
       " '4236268': 0.0014508278180399487,\n",
       " '2654860': 0.001206421444011785,\n",
       " '3787271': 0.0023769728347662325,\n",
       " '1274638': 0.0018698207901136769,\n",
       " '8586032': 0.0013732731666237312,\n",
       " '3421528': 0.0013796238629482907,\n",
       " '9466115': 0.001082409970376848,\n",
       " '5825668': 0.0019757892079422436,\n",
       " '7421715': 0.001203795780618054,\n",
       " '2523144': 0.0014958748753870499,\n",
       " '5735979': 0.0015294174149509663,\n",
       " '8534792': 0.0018809573197155285,\n",
       " '3711749': 0.001353157664242164,\n",
       " '3810917': 0.0015503457738091325,\n",
       " '4929492': 0.001748706898027285,\n",
       " '1673992': 0.001628995537074064,\n",
       " '9417214': 0.0022745874379380164,\n",
       " '1439310': 0.0011508354466338577,\n",
       " '2446753': 0.0028610279529277982,\n",
       " '1772098': 0.0017986983298474517,\n",
       " '5115594': 0.002032851261350761,\n",
       " '9307243': 0.0018910272851248404,\n",
       " '4323369': 0.001264119979708701,\n",
       " '5316813': 0.0017795170828376885,\n",
       " '1964669': 0.0011439413140355563,\n",
       " '4045740': 0.0025942525085548614,\n",
       " '3445792': 0.0019081218974382683,\n",
       " '6570550': 0.0021428723578405585,\n",
       " '6961628': 0.0010079967038049,\n",
       " '4701360': 0.0009895501829324264,\n",
       " '9354800': 0.0017611252407115,\n",
       " '4305026': 0.0019327872574951548,\n",
       " '3937332': 0.002124421953079399,\n",
       " '5516737': 0.0010556774051915846,\n",
       " '1793245': 0.0017481891068199546,\n",
       " '9505769': 0.0019720792232395526,\n",
       " '2578648': 0.0015752052285856392,\n",
       " '2441703': 0.0018167093691188302,\n",
       " '7020981': 0.001058069359872217,\n",
       " '9896966': 0.0014161004689237611,\n",
       " '7677021': 0.0013142206941625287,\n",
       " '3766124': 0.0013142206941625287,\n",
       " '1478579': 0.0014140295050126207,\n",
       " '2015078': 0.001408225763778837,\n",
       " '6589515': 0.0012140951707517238,\n",
       " '7277798': 0.0010258813184813238,\n",
       " '7889755': 0.0015468673161614136,\n",
       " '1567926': 0.0015382865422639764,\n",
       " '3180976': 0.001384381414173017,\n",
       " '4688415': 0.0013556982468814632,\n",
       " '3660967': 0.0014045669268212958,\n",
       " '7032056': 0.0013276301950464087,\n",
       " '7856882': 0.0012232511486302688,\n",
       " '7005996': 0.0012321113560605974,\n",
       " '8440108': 0.0009372505951494806,\n",
       " '5800071': 0.0009469816927258409,\n",
       " '4024280': 0.0008144394706067277,\n",
       " '8462339': 0.000818835532970907,\n",
       " '6343786': 0.00113891307595039,\n",
       " '9014591': 0.001376871915655136,\n",
       " '4364848': 0.002201033213345671,\n",
       " '5543463': 0.0013871399139912658,\n",
       " '9439026': 0.0014002782170447227,\n",
       " '1151261': 0.000819522179861702,\n",
       " '6561192': 0.0025697150495695535,\n",
       " '6355372': 0.002942020779145878,\n",
       " '9805906': 0.0010380116424132965,\n",
       " '5240849': 0.0009745827438258418,\n",
       " '5353779': 0.0016296612869124605,\n",
       " '7165979': 0.0013837796934540348,\n",
       " '2897777': 0.0012614381620117017,\n",
       " '2265844': 0.0013026500768135078,\n",
       " '4616698': 0.0012910213902873873,\n",
       " '2592830': 0.002262572779160611,\n",
       " '7735771': 0.001961740859006984,\n",
       " '4757531': 0.0014507669703235592,\n",
       " '7609194': 0.0017476517332997868,\n",
       " '4841017': 0.0016959597287073474,\n",
       " '3369951': 0.0016186189485470654,\n",
       " '3509702': 0.0008285990554215826,\n",
       " '6856334': 0.0009128562672202205,\n",
       " '3636164': 0.0017067654364858796,\n",
       " '9404978': 0.0009592997115362783,\n",
       " '4397146': 0.0017607960014115417,\n",
       " '8473298': 0.0027265908426205134,\n",
       " '7721952': 0.0011285762633838608,\n",
       " '7567736': 0.002787768401863429,\n",
       " '6311554': 0.0011053446484050103,\n",
       " '9617858': 0.0011866406245615582,\n",
       " '1539700': 0.0022047580932347765,\n",
       " '7724108': 0.0026256202791634657,\n",
       " '1406975': 0.0011785379930150518,\n",
       " '6144515': 0.001287995381650654,\n",
       " '2098707': 0.0012868521913309248,\n",
       " '2978392': 0.0012870846530626885,\n",
       " '5850425': 0.0011746565853932409,\n",
       " '8998615': 0.0011356572043750082,\n",
       " '4213188': 0.001140188968945735,\n",
       " '6093075': 0.001140188968945735,\n",
       " '3326942': 0.0011480111711616057,\n",
       " '8585733': 0.0015532531782274112,\n",
       " '1548416': 0.0011183187177134274,\n",
       " '6599160': 0.0009238778453111873,\n",
       " '4257439': 0.0012804710335530222,\n",
       " '5558538': 0.0012409693137691528,\n",
       " '3923346': 0.0009317081624368053,\n",
       " '6270066': 0.001437511960612728,\n",
       " '8860879': 0.0016959866438237313,\n",
       " '2541098': 0.0010709399944471068,\n",
       " '4449011': 0.0018129261556001281,\n",
       " '4664490': 0.0008161675773638103,\n",
       " '4063666': 0.0010455246327584853,\n",
       " '1581691': 0.0008698721288013056,\n",
       " '2454859': 0.001081595707755863,\n",
       " '8962643': 0.001811511345671459,\n",
       " '4843564': 0.0017055261451959707,\n",
       " '1338626': 0.0015843335940834995,\n",
       " '5612616': 0.002545724888387738,\n",
       " '1373064': 0.0015503576422140398,\n",
       " '7658856': 0.0014814027018071412,\n",
       " '2065728': 0.0018801239087354177,\n",
       " '3304037': 0.002947073557485766,\n",
       " '8533862': 0.0015758224175993303,\n",
       " '5732888': 0.001209200887099849,\n",
       " '9010746': 0.0012704986824816397,\n",
       " '7391163': 0.003330415134807757,\n",
       " '3879610': 0.0008769657016416085,\n",
       " '5691668': 0.0016399777842152562,\n",
       " '9164524': 0.0015426375677281515,\n",
       " '5327212': 0.0010444263702386514,\n",
       " '9401989': 0.0008762611228234446,\n",
       " '1482658': 0.0018046155361468757,\n",
       " '9751098': 0.0013298478542475452,\n",
       " '2212542': 0.0009217929618102711,\n",
       " '8881147': 0.0017352575574341334,\n",
       " '6555428': 0.002208110368276943,\n",
       " '9200538': 0.0013286008650242125,\n",
       " '1604074': 0.0014233441748034426,\n",
       " '9263856': 0.0014859326633222406,\n",
       " '1669798': 0.001231334390056233,\n",
       " '1902870': 0.0009935353802693458,\n",
       " '8480716': 0.0021463618041635663,\n",
       " '1261945': 0.00166453949381284,\n",
       " '6063179': 0.0024757307099432945,\n",
       " '8072660': 0.0032004134677617027,\n",
       " '7206475': 0.0009965670148215746,\n",
       " '1716134': 0.0011313603383362105,\n",
       " '7269142': 0.0011441549105001584,\n",
       " '9753691': 0.0011675781168970418,\n",
       " '6919148': 0.0013592687220346895,\n",
       " '6548577': 0.001876630693143993,\n",
       " '3938423': 0.0015688967609821457,\n",
       " '4735423': 0.0013893486114929035,\n",
       " '4615722': 0.0011662018362146804,\n",
       " '8788229': 0.0016430648283514678,\n",
       " '6177946': 0.0008657250546309924,\n",
       " '2154724': 0.0018389764301707783,\n",
       " '5137910': 0.0026119990008258306,\n",
       " '9196253': 0.0008606375267984489,\n",
       " '7549028': 0.0011491293635781973,\n",
       " '6603497': 0.001008857781358475,\n",
       " '5506452': 0.0015650814684630555,\n",
       " '7646446': 0.0016609015792522302,\n",
       " '6401065': 0.001602852917155393,\n",
       " '5521884': 0.0014944967362132244,\n",
       " '5670389': 0.0014111455945389254,\n",
       " '8116815': 0.0013630561120810338,\n",
       " '9977818': 0.0012762973103655447,\n",
       " '2681667': 0.001127043404387173,\n",
       " '1682770': 0.0029901604429693183,\n",
       " '5550092': 0.001298428112266819,\n",
       " '8314913': 0.0034459684781194327,\n",
       " '1240052': 0.0015675333474884359,\n",
       " '9842858': 0.0015731214938672622,\n",
       " '9674423': 0.0018485759621348961,\n",
       " '6266138': 0.0008767854581647298,\n",
       " '4853294': 0.0008485149446066442,\n",
       " '2388443': 0.00177116037459889,\n",
       " '6375956': 0.0012036475394717244,\n",
       " '6060622': 0.0017051056524827668,\n",
       " '8360528': 0.002155912073862673,\n",
       " '6312773': 0.0015094007800556413,\n",
       " '2450089': 0.0015299189595293315,\n",
       " '4937216': 0.0022739631947593245,\n",
       " '6857831': 0.0014751282952585542,\n",
       " '5802591': 0.001490116516965557,\n",
       " '4859713': 0.001625992939724939,\n",
       " '3806946': 0.0018307540455768112,\n",
       " '4989332': 0.0015580047158568104,\n",
       " '3317272': 0.0013270221376845623,\n",
       " '3207163': 0.0013082004252598803,\n",
       " '7538853': 0.0014880292352988979,\n",
       " '6692800': 0.0009652427760316497,\n",
       " '1601009': 0.0018891018638802618,\n",
       " '8506843': 0.0014863035560977224,\n",
       " '1882463': 0.0013842160799219772,\n",
       " '3207118': 0.0013457822135436667,\n",
       " '1010447': 0.0013356142747943443,\n",
       " '4522049': 0.0014469350722566652,\n",
       " '7032663': 0.0014806293749623552,\n",
       " '6333011': 0.0011052174877004114,\n",
       " '8657818': 0.0013639652451299395,\n",
       " '4413106': 0.0012086288320427353,\n",
       " '3517320': 0.0016062487751236797,\n",
       " '9713335': 0.0013850438290067479,\n",
       " '2322857': 0.001664525076571524,\n",
       " '9380195': 0.0009743409840440767,\n",
       " '8583103': 0.001885028494977144,\n",
       " '9280279': 0.001048218837946835,\n",
       " '2422972': 0.0020481557783798418,\n",
       " '4694186': 0.0016682432152170595,\n",
       " '2757226': 0.001866903366631904,\n",
       " '4290555': 0.0013832093461228865,\n",
       " '3814713': 0.0015317412182126568,\n",
       " '6772048': 0.001970330701389495,\n",
       " '7365078': 0.0017626893309650182,\n",
       " '4194156': 0.0023223316807047464,\n",
       " '9613908': 0.0017303982338188644,\n",
       " '4582197': 0.0014400619055878305,\n",
       " '3071316': 0.001296630637494148,\n",
       " '7127649': 0.0009736465514687877,\n",
       " '9265778': 0.0015156368719298414,\n",
       " '2462595': 0.0014744981808992143,\n",
       " '8139113': 0.0010024033504377795,\n",
       " '8144821': 0.0014056297092107002,\n",
       " '3344258': 0.001662987689695091,\n",
       " '5157457': 0.0010661938280580555,\n",
       " '5944181': 0.0008600293595650975,\n",
       " '9876210': 0.0018074477837047621,\n",
       " '5947540': 0.0012833977816609098,\n",
       " '5817645': 0.0012320754422589068,\n",
       " '7622254': 0.0015544357434191195,\n",
       " '4041378': 0.0016496158544919478,\n",
       " '6084667': 0.0010516519480666942,\n",
       " '9552403': 0.0014500380536240094,\n",
       " '8035015': 0.001370504061830819,\n",
       " '3491603': 0.00152626917806046,\n",
       " '2011408': 0.0012087391447489911,\n",
       " '9516300': 0.0011231483250322273,\n",
       " '6769230': 0.0010914919349732887,\n",
       " '5256108': 0.001109475311238727,\n",
       " '8370257': 0.0015292503058760795,\n",
       " '4102683': 0.0011603052630696502,\n",
       " '4983027': 0.0009788159332705668,\n",
       " '5994341': 0.0019775820581327585,\n",
       " '8276042': 0.0029646514045160222,\n",
       " '5207072': 0.002142258543725208,\n",
       " '9084703': 0.0008985055968664116,\n",
       " '5720903': 0.0008197418447488073,\n",
       " '8250622': 0.0012081479630309665,\n",
       " '8286683': 0.0008152199764224991,\n",
       " '3473370': 0.002157848441893486,\n",
       " '2848137': 0.0011058611410204953,\n",
       " '2035679': 0.0010249426551052832,\n",
       " '7430171': 0.0010474364954881478,\n",
       " '8989174': 0.001036022569276585,\n",
       " '6950661': 0.0010077028680936944,\n",
       " '9915744': 0.0013005946835399225,\n",
       " '9833667': 0.0019432472757609045,\n",
       " '1144143': 0.0008745937649668675,\n",
       " '4932259': 0.0023182214826507333,\n",
       " '5408961': 0.001280661429558801,\n",
       " '6086120': 0.0022755705317693453,\n",
       " '2289871': 0.001952926663313754,\n",
       " '7916029': 0.0012798984889166034,\n",
       " '9348336': 0.0019805497750861097,\n",
       " '6676235': 0.003130295754521763,\n",
       " '4687815': 0.0013833504765071321,\n",
       " '8635645': 0.0012710090412594622,\n",
       " '5178651': 0.0014463032841540552,\n",
       " '5397075': 0.0010707074989300082,\n",
       " '9929352': 0.0012421744471097455,\n",
       " '4263776': 0.0023685551364604177,\n",
       " '4005577': 0.0023516171181776633,\n",
       " '8648325': 0.0010581938825038018,\n",
       " '3645646': 0.0011754403578435617,\n",
       " '8140278': 0.001519243224235829,\n",
       " '9538721': 0.0010799105698189042,\n",
       " '8382871': 0.002508107404978868,\n",
       " '4422525': 0.0011297574699358278,\n",
       " '2343081': 0.0016263079508520044,\n",
       " '8183412': 0.0037117992580279935,\n",
       " '1432420': 0.0017572081902415644,\n",
       " '2670588': 0.001861207644815851,\n",
       " '7584947': 0.0018013091680562701,\n",
       " '4470266': 0.0011671951231845006,\n",
       " '9325236': 0.0011225825426277823,\n",
       " '9872471': 0.0014268366409742985,\n",
       " '5443940': 0.0019031918402623994,\n",
       " '2629180': 0.0023917186206351936,\n",
       " '7809866': 0.001601569202166709,\n",
       " '6658589': 0.0016510609291248606,\n",
       " '1640739': 0.0026804268409363016,\n",
       " '6054812': 0.0012099554562844204,\n",
       " '4695871': 0.0008520920689454886,\n",
       " '8699714': 0.0008750032429854886,\n",
       " '2187296': 0.0015352309734856992,\n",
       " '1895083': 0.001321418738457188,\n",
       " '7394956': 0.0016425971759349302,\n",
       " '1357517': 0.001402544534648604,\n",
       " '8778169': 0.0009654023818783634,\n",
       " '1763712': 0.0012255811740335405,\n",
       " '5011163': 0.0010640552422672967,\n",
       " '9697658': 0.0009091086136364887,\n",
       " '5085316': 0.0008342884835414781,\n",
       " '8299568': 0.0012664699140095541,\n",
       " '1153561': 0.0010421583635536397,\n",
       " '3386962': 0.0011923292837607818,\n",
       " '8743531': 0.0010203893341454828,\n",
       " '1698569': 0.001197389724886544,\n",
       " '6040146': 0.001197389724886544,\n",
       " '9730008': 0.001197389724886544,\n",
       " '1380939': 0.001197389724886544,\n",
       " '3245825': 0.0011973897248865441,\n",
       " '2208282': 0.0010993875571284931,\n",
       " '2566564': 0.0012147736011142135,\n",
       " '2690989': 0.0010581203567068835,\n",
       " '4780550': 0.0008136853924754408,\n",
       " '4317599': 0.0010399543818329841,\n",
       " '2879757': 0.0011274223572262899,\n",
       " '6833039': 0.0019451122297378014,\n",
       " '4758198': 0.0012731386181221824,\n",
       " '5935727': 0.0008167023301386639,\n",
       " '2234701': 0.0008762063169755937,\n",
       " '1998223': 0.0008634499660071567,\n",
       " '3549989': 0.0010850894509212095,\n",
       " '2209337': 0.002077872036037674,\n",
       " '1419529': 0.0013060895057663037,\n",
       " '2170568': 0.0015384899287513726,\n",
       " '6147490': 0.0016402365860094512,\n",
       " '3161703': 0.0012849191718247942,\n",
       " '4378979': 0.0012925726777809254,\n",
       " '6482975': 0.0010996794558659137,\n",
       " '5124136': 0.000952307876129442,\n",
       " '4682713': 0.000952307876129442,\n",
       " '2716152': 0.0014272351290086547,\n",
       " '2770133': 0.002062558066453561,\n",
       " '1821182': 0.0014018888485343418,\n",
       " '5512420': 0.0011379687320343904,\n",
       " '2133568': 0.002585680359429592,\n",
       " '7107684': 0.0018237037656470376,\n",
       " '5385581': 0.0016305436403330955,\n",
       " '5600632': 0.0009366341764622404,\n",
       " '9439312': 0.0011707629147880408,\n",
       " '2193627': 0.0012503758880375467,\n",
       " '7016785': 0.0011707629147880408,\n",
       " '4678831': 0.0009571116428486653,\n",
       " '9893168': 0.0014065829701807504,\n",
       " '7764831': 0.0009571116428486653,\n",
       " '9721767': 0.00097133681977192,\n",
       " '6336152': 0.0010739008847223473,\n",
       " '6565505': 0.001170762914788041,\n",
       " '4839944': 0.001170762914788041,\n",
       " '2890135': 0.001170762914788041,\n",
       " '7889860': 0.001170762914788041,\n",
       " '2115814': 0.0014094465841953153,\n",
       " '4903506': 0.0013280482593293816,\n",
       " '7114194': 0.0013067267182556522,\n",
       " '3239429': 0.0012724233978906872,\n",
       " '8266898': 0.0013202921892437316,\n",
       " '3449908': 0.0011706838297043227,\n",
       " '9625349': 0.0010166222644437954,\n",
       " '9016426': 0.0010166222644437954,\n",
       " '2418926': 0.0010166222644437954,\n",
       " '8714809': 0.0013097769404595296,\n",
       " '6412869': 0.0010166222644437954,\n",
       " '8274751': 0.0010166222644437954,\n",
       " '3964253': 0.0010166222644437954,\n",
       " '2101618': 0.0010166222644437954,\n",
       " '9077507': 0.0010485046897967417,\n",
       " '2042940': 0.0010166222644437954,\n",
       " '7896636': 0.0008463434265908762,\n",
       " '7345768': 0.0015069024283179563,\n",
       " '3059888': 0.001129327104501461,\n",
       " '5518411': 0.001325058005427197,\n",
       " '5295020': 0.0013971444905539914,\n",
       " '1301170': 0.0009213895526615158,\n",
       " '3796675': 0.0011158822858691568,\n",
       " '1970296': 0.0011158822858691568,\n",
       " '3389944': 0.0011158822858691568,\n",
       " '6312519': 0.0008437161130027975,\n",
       " '9127816': 0.0014861310588730747,\n",
       " '1495225': 0.0012394963109451321,\n",
       " '6872874': 0.0009571516808778629,\n",
       " '9087721': 0.0012096747421901177,\n",
       " '8819988': 0.001146937311206218,\n",
       " '1823845': 0.0015785276256229212,\n",
       " '8054052': 0.0008286050510898727,\n",
       " '2067164': 0.0010785600393903962,\n",
       " '5799791': 0.0011167281310761937,\n",
       " '2184890': 0.0012910379642668028,\n",
       " '9980804': 0.0008204363353161474,\n",
       " '8290754': 0.0012652433900135372,\n",
       " '4419076': 0.0012010687611145466,\n",
       " '7973442': 0.0011083781057107886,\n",
       " '9400978': 0.0011125419580914888,\n",
       " '3253395': 0.0016752015825806977,\n",
       " '7312676': 0.00121579161447183,\n",
       " '5521504': 0.0009787564536403595,\n",
       " '7635273': 0.0009431396239636565,\n",
       " '6112796': 0.001381619427346125,\n",
       " '7218041': 0.0010989334022146347,\n",
       " '4091261': 0.0009044629827522102,\n",
       " '9812008': 0.0009044629827522102,\n",
       " '5330968': 0.0014980852480276528,\n",
       " '7333594': 0.0014394948882206434,\n",
       " '4470779': 0.002567017848187902,\n",
       " '8264110': 0.001034051716398346,\n",
       " '6302078': 0.001034051716398346,\n",
       " '6701602': 0.0014319808599035373,\n",
       " '7583147': 0.0008485480164294477,\n",
       " '3601215': 0.001266120432359624,\n",
       " '9005923': 0.0014399031739074143,\n",
       " '2146914': 0.000862957326606428,\n",
       " '9776065': 0.0012661204323596242,\n",
       " '4315312': 0.0012661204323596242,\n",
       " '5433690': 0.0011423535735179443,\n",
       " '7597459': 0.0009777855391729364,\n",
       " '6398117': 0.0013871053884943188,\n",
       " '6141129': 0.0010129459107528643,\n",
       " '4002124': 0.0012111904080617391,\n",
       " '2664733': 0.0009115865514038899,\n",
       " '2634051': 0.0009379269212002946,\n",
       " '5055812': 0.0009093477720441246,\n",
       " '9747852': 0.000926883053619056,\n",
       " '6309202': 0.000926883053619056,\n",
       " '7553286': 0.0008351230748353945,\n",
       " '9220276': 0.0010170944962241343,\n",
       " '6837176': 0.0010170944962241341,\n",
       " '2138234': 0.0009898856878291478,\n",
       " '2379322': 0.0009872110079587309,\n",
       " '4604437': 0.001099144755733007,\n",
       " '9259705': 0.0010570668218502144,\n",
       " '8063233': 0.0011129892408945428,\n",
       " '8667181': 0.0011727644257909177,\n",
       " '1990484': 0.0012348014951440382,\n",
       " '4921385': 0.0017362959314567844,\n",
       " '7440304': 0.0012167423645043768,\n",
       " '3488016': 0.0014166261727882195,\n",
       " '5658552': 0.0014068686490035368,\n",
       " '3497147': 0.0014679195581038754,\n",
       " '8061391': 0.0014065544908941124,\n",
       " '4616966': 0.0014079387036455356,\n",
       " '2623856': 0.0014134045025914704,\n",
       " '8136879': 0.0010780118827339329,\n",
       " '2978921': 0.001084424170435247,\n",
       " '4997809': 0.001308013456210207,\n",
       " '7369267': 0.0011616781970419006,\n",
       " '2031904': 0.0012379234164085493,\n",
       " '1243239': 0.0008939823965411513,\n",
       " '5975451': 0.0009282066533402002,\n",
       " '2746315': 0.0009184928981604409,\n",
       " '2238822': 0.0008621058940222918,\n",
       " '3921443': 0.0012686187206094796,\n",
       " '5321484': 0.001502907032072976,\n",
       " '1547754': 0.0012125776214120922,\n",
       " '5273869': 0.001247570902713181,\n",
       " '1623855': 0.0008190989629800004,\n",
       " '6093204': 0.0009433510020027754,\n",
       " '9192468': 0.0008222370954767805,\n",
       " '2665012': 0.0012438621449750024,\n",
       " '7801602': 0.0012473797245519701,\n",
       " '7358829': 0.0012574965914830044,\n",
       " '4373382': 0.000853386297006537,\n",
       " '7781617': 0.0012438621449750021,\n",
       " '2794736': 0.0009568985949868963,\n",
       " '7938161': 0.0009214246621741835,\n",
       " '6971888': 0.0009774922405980171,\n",
       " '8382088': 0.000817645049588791,\n",
       " '2570270': 0.0008139259684053472,\n",
       " '5804390': 0.0009365733461105403,\n",
       " '8336729': 0.001358375062882721,\n",
       " '5463452': 0.0010313371888001504,\n",
       " '2014577': 0.0008171964475285705,\n",
       " '4583448': 0.0008202107957474287,\n",
       " '6578669': 0.0009032577444825185,\n",
       " '2147332': 0.0012602635696357296,\n",
       " '2016960': 0.0012239354796566382,\n",
       " '4402851': 0.0009528543983806121,\n",
       " '5131882': 0.0008144448980189683,\n",
       " '6575560': 0.0011731945554554787,\n",
       " '7995389': 0.000824290861760292,\n",
       " '7603677': 0.0010415201336903199,\n",
       " '7284837': 0.000816640712414204,\n",
       " '5275676': 0.0010836887675765075,\n",
       " '2351228': 0.0009741212944823036,\n",
       " '7560062': 0.0009628753950175445,\n",
       " '3574808': 0.0008513443074565724,\n",
       " '4059502': 0.0008163460264789171,\n",
       " '4142678': 0.0012400097866468983,\n",
       " '8396640': 0.0012501897425323705,\n",
       " '6047831': 0.0012405416858054584,\n",
       " '5012353': 0.0009137080713281457,\n",
       " '5702574': 0.0009137080713281457,\n",
       " '2070408': 0.0008156493114834488,\n",
       " '5601892': 0.0008157118569104828,\n",
       " '5791258': 0.0012380583152965783,\n",
       " '2504088': 0.00107707538617554,\n",
       " '8186351': 0.001237734199839485,\n",
       " '6759501': 0.0009405079735952121,\n",
       " '2559082': 0.0010106088453782562,\n",
       " '3450215': 0.0010106088453782562,\n",
       " '3213152': 0.0008966061027085752,\n",
       " '2982735': 0.001117988483336464,\n",
       " '2826523': 0.0011041174150583086,\n",
       " '8992258': 0.0011041174150583086,\n",
       " '4279905': 0.0011041174150583086,\n",
       " '2634248': 0.0011041174150583084,\n",
       " '7530019': 0.0011041174150583084,\n",
       " '6263872': 0.0011041174150583084,\n",
       " '3082326': 0.0011041174150583084,\n",
       " '3141027': 0.0011041174150583084,\n",
       " '9362124': 0.0011041174150583084,\n",
       " '7577101': 0.0011041174150583086,\n",
       " '4251180': 0.0011041174150583086,\n",
       " '4225594': 0.0011041174150583088,\n",
       " '1813355': 0.0011041174150583088,\n",
       " '8234290': 0.001104117415058309,\n",
       " '8598623': 0.0008169684043142006,\n",
       " '3663856': 0.0008223300616847592,\n",
       " '9386047': 0.0012903253459463256,\n",
       " '8881206': 0.0008159956554481448,\n",
       " '7831865': 0.0014157552227572294,\n",
       " '4858190': 0.0014157552227572296,\n",
       " '4702811': 0.0014157552227572296,\n",
       " '4093507': 0.0012353273362109742,\n",
       " '1447238': 0.0012353273362109745,\n",
       " '2217078': 0.0012353273362109745,\n",
       " '5598626': 0.0012353273362109745,\n",
       " '7925569': 0.0012353273362109745,\n",
       " '7561367': 0.0012353273362109747,\n",
       " '2707537': 0.0012353273362109747,\n",
       " '3365949': 0.0012353273362109747,\n",
       " '9365679': 0.0012353273362109747,\n",
       " '3440132': 0.0012353273362109747,\n",
       " '5285583': 0.001235327336210975,\n",
       " '2914038': 0.001235327336210975,\n",
       " '4120780': 0.0016787032830036905,\n",
       " '4698268': 0.001235327336210975,\n",
       " '2200974': 0.001235327336210975,\n",
       " '3099348': 0.0012001512144457168,\n",
       " '1601444': 0.0012001512144457168,\n",
       " '2040196': 0.0012001512144457168,\n",
       " '2492718': 0.0012001512144457168,\n",
       " '5644858': 0.0012001512144457166,\n",
       " '8839757': 0.0008872567031783947,\n",
       " '8553272': 0.0008970727482527805,\n",
       " '7989758': 0.0009576186467127927,\n",
       " '9002963': 0.0008382274074029186,\n",
       " '4397174': 0.0010014418750866965,\n",
       " '1370310': 0.0010014418750866965,\n",
       " '3623451': 0.0008228599174794099,\n",
       " '3500982': 0.0008198623670457364,\n",
       " '9108482': 0.0008924632529450829,\n",
       " '2655742': 0.0010954169826881365,\n",
       " '8777431': 0.0010954169826881365,\n",
       " '7755028': 0.0010954169826881367,\n",
       " '8923506': 0.0010954169826881367,\n",
       " '9216834': 0.0011206867055658875,\n",
       " '4043459': 0.0011206867055658873,\n",
       " '3391909': 0.0015080476595817733,\n",
       " '7127213': 0.0014820546500531476,\n",
       " '2167961': 0.001095416982688137,\n",
       " '3939426': 0.0010954169826881367,\n",
       " '3190456': 0.0010954169826881367,\n",
       " '5907279': 0.0010954169826881367,\n",
       " '2783071': 0.000814978703079925,\n",
       " '3180404': 0.0010194307953973194,\n",
       " '6796337': 0.0010194307953973196,\n",
       " '1614462': 0.001367450070495091,\n",
       " '6294927': 0.001367450070495091,\n",
       " '3120419': 0.0010194358502538354,\n",
       " '9644284': 0.0010194358502538352,\n",
       " '9994449': 0.0009544756872528231,\n",
       " '3688309': 0.0009544756872528231,\n",
       " '5176750': 0.0009544756872528231,\n",
       " '8690443': 0.0009544756872528231,\n",
       " '7304224': 0.0009544756872528231,\n",
       " '1111434': 0.0011561021642450468,\n",
       " '6672326': 0.0011561021642450468,\n",
       " '5312426': 0.0009582580958736687,\n",
       " '5892897': 0.0009582580958736688,\n",
       " '6122627': 0.0008914789320258396,\n",
       " '1086236': 0.001070998782687401,\n",
       " '9729681': 0.001070998782687401,\n",
       " '4835987': 0.0009865849748002839,\n",
       " '9531246': 0.0009865849748002839,\n",
       " '8842819': 0.0012957263878767727,\n",
       " '1871196': 0.0009496491119513146,\n",
       " '1332198': 0.0009165597344549486,\n",
       " '3548917': 0.001180474609339393,\n",
       " '5527429': 0.0011804746093393931,\n",
       " '6572255': 0.0011804746093393931,\n",
       " '5774961': 0.0011804746093393931,\n",
       " '3889629': 0.0009705535471385942,\n",
       " '2041234': 0.002136669097077956,\n",
       " '9129126': 0.0016838978788241575,\n",
       " '2204064': 0.0011804746093393933,\n",
       " '9265063': 0.0011804746093393933,\n",
       " '5549384': 0.001002450392236272,\n",
       " '8023529': 0.0013388236060389142,\n",
       " '1779908': 0.0010943138617478146,\n",
       " '7442727': 0.0008275093531576924,\n",
       " '3189927': 0.0011221572906707008,\n",
       " '6852335': 0.0016233285089891163,\n",
       " '3076137': 0.0011221572906707008,\n",
       " '1946725': 0.0011221572906707008,\n",
       " '8041716': 0.0011221572906707008,\n",
       " '2390965': 0.0011221572906707008,\n",
       " '5628655': 0.001122157290670701,\n",
       " '4208442': 0.001122157290670701,\n",
       " '2386294': 0.0009631814475946955,\n",
       " '1889962': 0.0009631814475946954,\n",
       " '1423806': 0.0009018205552332464,\n",
       " '7154174': 0.0008229698573718224,\n",
       " '6302208': 0.0013644902672778883,\n",
       " '3490914': 0.00156223485321117,\n",
       " '8377417': 0.0012354873109879452,\n",
       " '3234808': 0.001319754684852968,\n",
       " '9732856': 0.0013197546848529678,\n",
       " '6058605': 0.0013197546848529678,\n",
       " '3382078': 0.001045922108852233,\n",
       " '5783052': 0.0012331502764532896,\n",
       " '2823156': 0.000977392269914511,\n",
       " '3068885': 0.0012646510980361867,\n",
       " '1755791': 0.0009773922699145112,\n",
       " '6972791': 0.0010355669419615495,\n",
       " '6516448': 0.0010355669419615495,\n",
       " '2537746': 0.0010355669419615495,\n",
       " '3858162': 0.0010355669419615495,\n",
       " '3429229': 0.0013515358641938207,\n",
       " '4362206': 0.0008225395073147003,\n",
       " '4061000': 0.0008200936171014052,\n",
       " '3039147': 0.0008144252274853217,\n",
       " '2989824': 0.0012234613270644585,\n",
       " '7522793': 0.0012234613270644588,\n",
       " '5745168': 0.0012234613270644588,\n",
       " '6188539': 0.0012234613270644588,\n",
       " '3944349': 0.0008561192825601502,\n",
       " '7597885': 0.0013445487224084322,\n",
       " '9664885': 0.0013445487224084324,\n",
       " '8224924': 0.0012226397661773874,\n",
       " '1484821': 0.0012226397661773874,\n",
       " '9268869': 0.0009310415620526713,\n",
       " '1772920': 0.0009310415620526713}"
      ]
     },
     "execution_count": 59,
     "metadata": {},
     "output_type": "execute_result"
    }
   ],
   "source": [
    "page_rank = nx.pagerank(G_sub,0.4)\n",
    "page_rank"
   ]
  },
  {
   "cell_type": "code",
   "execution_count": 60,
   "metadata": {},
   "outputs": [
    {
     "data": {
      "text/plain": [
       "[('8183412', 0.0037117992580279935),\n",
       " ('9208595', 0.0034612123524907683),\n",
       " ('8314913', 0.0034459684781194327),\n",
       " ('7391163', 0.003330415134807757),\n",
       " ('9959855', 0.003272083894669367),\n",
       " ('3866212', 0.0032098939213521327),\n",
       " ('8072660', 0.0032004134677617027),\n",
       " ('6676235', 0.003130295754521763),\n",
       " ('6159135', 0.0030307198713720156),\n",
       " ('1682770', 0.0029901604429693183)]"
      ]
     },
     "execution_count": 60,
     "metadata": {},
     "output_type": "execute_result"
    }
   ],
   "source": [
    "#sorted PageRank - top 10\n",
    "page_rank_sort = sorted(page_rank.items(), key=lambda x:x[1], reverse=True)\n",
    "page_rank_sort[:10]"
   ]
  },
  {
   "cell_type": "code",
   "execution_count": 61,
   "metadata": {},
   "outputs": [
    {
     "data": {
      "text/plain": [
       "[('4780550', 0.0008136853924754408),\n",
       " ('2570270', 0.0008139259684053472),\n",
       " ('3039147', 0.0008144252274853217),\n",
       " ('4024280', 0.0008144394706067277),\n",
       " ('5131882', 0.0008144448980189683),\n",
       " ('2783071', 0.000814978703079925),\n",
       " ('8286683', 0.0008152199764224991),\n",
       " ('2070408', 0.0008156493114834488),\n",
       " ('5601892', 0.0008157118569104828),\n",
       " ('8881206', 0.0008159956554481448)]"
      ]
     },
     "execution_count": 61,
     "metadata": {},
     "output_type": "execute_result"
    }
   ],
   "source": [
    "#less important\n",
    "page_rank_sort_less = sorted(page_rank.items(), key=lambda x:x[1])\n",
    "page_rank_sort_less[:10]"
   ]
  },
  {
   "cell_type": "markdown",
   "metadata": {},
   "source": [
    "#### Closeness Centrality"
   ]
  },
  {
   "cell_type": "code",
   "execution_count": 62,
   "metadata": {},
   "outputs": [
    {
     "name": "stdout",
     "output_type": "stream",
     "text": [
      "{'4594575': 0.5, '9649581': 0.4776409591704472, '3313879': 0.3451990632318501, '6138079': 0.44829683698296835, '6524595': 0.3501187648456057, '6670222': 0.3499525166191833, '6455997': 0.4274941995359629, '9582575': 0.48423127463863336, '4550719': 0.4776409591704472, '1441624': 0.4745653573728268, '6608661': 0.47919375812743825, '6159135': 0.5298346513299784, '7690572': 0.49663072776280326, '9087840': 0.48013029315960915, '3803338': 0.4936369725385131, '9972486': 0.48327868852459016, '7067231': 0.44966442953020136, '1003825': 0.48423127463863336, '6493517': 0.48905109489051096, '8503467': 0.47425997425997424, '1865518': 0.4936369725385131, '5858806': 0.4745653573728268, '8546110': 0.4724358974358974, '2399690': 0.4798177083333333, '8139386': 0.4724358974358974, '5163413': 0.3779487179487179, '1112599': 0.4745653573728268, '5577398': 0.4736503856041131, '1146339': 0.4785714285714286, '7423418': 0.4736503856041131, '3202604': 0.4355791962174941, '3866212': 0.5253029223093372, '3267643': 0.4858272907053395, '4253784': 0.4670468948035488, '6218893': 0.49696561024949426, '2998859': 0.5023858214042263, '2032624': 0.42799070847851334, '1673698': 0.48169934640522877, '9404446': 0.4933065595716198, '1106391': 0.5279369627507163, '5847548': 0.43921334922526817, '9959855': 0.5391367959034382, '4320578': 0.4302393461762989, '7871043': 0.5003394433129668, '8317303': 0.4302393461762989, '3069838': 0.4887267904509284, '6020177': 0.49297658862876254, '3216939': 0.4962962962962963, '3577122': 0.42799070847851334, '5387658': 0.4700255102040816, '4589257': 0.42799070847851334, '9050924': 0.4949630624580255, '2551809': 0.49562878278412914, '3932931': 0.49663072776280326, '7793788': 0.3826583592938733, '3667194': 0.5168302945301543, '5125270': 0.4916611074049366, '2726935': 0.39687668282175553, '8442295': 0.48454963839579224, '7903662': 0.5182841068917018, '1481164': 0.5096818810511756, '6281912': 0.44290865384615385, '8348725': 0.3423130515559684, '2301132': 0.38932910723718966, '9078686': 0.4855072463768116, '9457825': 0.44939024390243903, '5247021': 0.49264705882352944, '6371101': 0.42699884125144844, '6732139': 0.4538177339901478, '1442662': 0.6464912280701754, '9208595': 0.6219409282700422, '9909304': 0.6075845012366035, '4005967': 0.48075668623613826, '5795253': 0.4916611074049366, '3866777': 0.49264705882352944, '1371145': 0.4813847158719791, '3203462': 0.5395314787701317, '1165624': 0.5766823161189358, '6426616': 0.470926517571885, '4127040': 0.49966101694915255, '5037732': 0.4706257982120051, '6670518': 0.4893758300132802, '6065696': 0.49696561024949426, '7695380': 0.470926517571885, '1223484': 0.4730423620025674, '3126825': 0.5118055555555555, '5337921': 0.4900265957446808, '3291499': 0.4871116986120291, '7849397': 0.470926517571885, '5811293': 0.4936369725385131, '9138329': 0.4835958005249344, '5147462': 0.5161064425770309, '5766515': 0.534833091436865, '4236268': 0.4887267904509284, '2654860': 0.4706257982120051, '3787271': 0.5230660042583393, '1274638': 0.5017018379850239, '8586032': 0.48970099667774086, '3421528': 0.48518762343647137, '9466115': 0.49198931909212285, '5825668': 0.4949630624580255, '7421715': 0.47122762148337594, '2523144': 0.48232984293193715, '5735979': 0.48391332895600786, '8534792': 0.48486842105263156, '3711749': 0.4855072463768116, '3810917': 0.49663072776280326, '4929492': 0.49100599600266487, '1673992': 0.494299128101945, '9417214': 0.5114503816793893, '1439310': 0.4694267515923567, '2446753': 0.5479553903345725, '1772098': 0.5175561797752809, '5115594': 0.5186488388458832, '9307243': 0.48264571054354943, '4323369': 0.4962962962962963, '5316813': 0.5660522273425499, '1964669': 0.4560643564356436, '4045740': 0.5157452764170749, '3445792': 0.48201438848920863, '6570550': 0.45353846153846156, '6961628': 0.4189880613985219, '4701360': 0.38048528652555497, '9354800': 0.4923179692718771, '4305026': 0.5075757575757576, '3937332': 0.4973009446693657, '5516737': 0.40119760479041916, '1793245': 0.4893758300132802, '9505769': 0.4989844278943805, '2578648': 0.4813847158719791, '2441703': 0.4861477572559367, '7020981': 0.40119760479041916, '9896966': 0.4142776840921866, '7677021': 0.41196198993851313, '3766124': 0.41196198993851313, '1478579': 0.4142776840921866, '2015078': 0.4235632183908046, '6589515': 0.44237695078031214, '7277798': 0.3812726332126229, '7889755': 0.41035634743875277, '1567926': 0.4124230554001119, '3180976': 0.4147439504783343, '4688415': 0.41035634743875277, '3660967': 0.4149774774774775, '7032056': 0.41150195421552205, '7856882': 0.4149774774774775, '7005996': 0.39644970414201186, '8440108': 0.41661955907292253, '5800071': 0.4168552036199095, '4024280': 0.3401015228426396, '8462339': 0.3507853403141361, '6343786': 0.37165910237014627, '9014591': 0.40295243302351014, '4364848': 0.4952956989247312, '5543463': 0.39967462039045554, '9439026': 0.40185387131952016, '1151261': 0.2867704280155642, '6561192': 0.5143056524773203, '6355372': 0.5660522273425499, '9805906': 0.41265397536394177, '5240849': 0.4080841638981174, '5353779': 0.40583700440528636, '7165979': 0.39730458221024256, '2897777': 0.39730458221024256, '2265844': 0.3990254466702761, '4616698': 0.4051676745464541, '2592830': 0.5089779005524862, '7735771': 0.4612015018773467, '4757531': 0.45353846153846156, '7609194': 0.4959623149394347, '4841017': 0.49696561024949426, '3369951': 0.49264705882352944, '3509702': 0.3639506172839506, '6856334': 0.3235294117647059, '3636164': 0.47733160621761656, '9404978': 0.34326967862133206, '4397146': 0.4959623149394347, '8473298': 0.5352214960058097, '7721952': 0.4074074074074074, '7567736': 0.5061813186813187, '6311554': 0.40185387131952016, '9617858': 0.40185387131952016, '1539700': 0.5234375, '7724108': 0.49463087248322146, '1406975': 0.4014161220043573, '6144515': 0.3822614107883817, '2098707': 0.3822614107883817, '2978392': 0.3822614107883817, '5850425': 0.4014161220043573, '8998615': 0.4045005488474204, '4213188': 0.344392523364486, '6093075': 0.344392523364486, '3326942': 0.344392523364486, '8585733': 0.48201438848920863, '1548416': 0.4629396984924623, '6599160': 0.3544973544973545, '4257439': 0.39077412513255566, '5558538': 0.40628445424476295, '3923346': 0.37184661957618564, '6270066': 0.48075668623613826, '8860879': 0.5027285129604365, '2541098': 0.344392523364486, '4449011': 0.5132311977715878, '4664490': 0.3474776049033475, '4063666': 0.4078583287216381, '1581691': 0.3737322515212982, '2454859': 0.4652777777777778, '8962643': 0.5058339052848319, '4843564': 0.5100346020761246, '1338626': 0.42650462962962965, '5612616': 0.5279369627507163, '1373064': 0.48454963839579224, '7658856': 0.48169934640522877, '2065728': 0.5107415107415108, '3304037': 0.5253029223093372, '8533862': 0.4389517569982132, '5732888': 0.47733160621761656, '9010746': 0.475177304964539, '7391163': 0.5118055555555555, '3879610': 0.43609467455621304, '5691668': 0.43099415204678365, '9164524': 0.43099415204678365, '5327212': 0.3793103448275862, '9401989': 0.40606060606060607, '1482658': 0.4952956989247312, '9751098': 0.501360544217687, '2212542': 0.48201438848920863, '8881147': 0.44290865384615385, '6555428': 0.49100599600266487, '9200538': 0.4445114595898673, '1604074': 0.48232984293193715, '9263856': 0.44504830917874394, '1669798': 0.42186605609616484, '1902870': 0.4754838709677419, '8480716': 0.591018444266239, '1261945': 0.5226950354609929, '6063179': 0.5190140845070422, '8072660': 0.5271816881258942, '7206475': 0.4480243161094225, '1716134': 0.43480825958702063, '7269142': 0.43790849673202614, '9753691': 0.45021380574221137, '6919148': 0.45747982619491, '6548577': 0.5146648044692738, '3938423': 0.45493827160493827, '4735423': 0.397733405288721, '4615722': 0.4733461785484907, '8788229': 0.5309798270893372, '6177946': 0.43842950624628196, '2154724': 0.48905109489051096, '5137910': 0.5153846153846153, '9196253': 0.35707364341085274, '7549028': 0.4455864570737606, '6603497': 0.37872559095580677, '5506452': 0.4327657075748679, '7646446': 0.4455864570737606, '6401065': 0.4455864570737606, '5521884': 0.4453172205438066, '5670389': 0.44720873786407767, '8116815': 0.4453172205438066, '9977818': 0.5268048606147248, '2681667': 0.4445114595898673, '1682770': 0.5186488388458832, '5550092': 0.44693753790175866, '8314913': 0.5164681149264191, '1240052': 0.4445114595898673, '9842858': 0.4447797223898612, '9674423': 0.44504830917874394, '6266138': 0.3663021868787276, '4853294': 0.3526315789473684, '2388443': 0.5079255685733977, '6375956': 0.45747982619491, '6060622': 0.5010197144799456, '8360528': 0.5030716723549488, '6312773': 0.49067909454061254, '2450089': 0.44424352019288726, '4937216': 0.4638137193203272, '6857831': 0.44424352019288726, '5802591': 0.44693753790175866, '4859713': 0.4455864570737606, '3806946': 0.451316595223515, '4989332': 0.4455864570737606, '3317272': 0.4434416365824308, '3207163': 0.4274941995359629, '7538853': 0.44424352019288726, '6692800': 0.44264264264264264, '1601009': 0.4373887240356083, '8506843': 0.460625, '1882463': 0.4434416365824308, '3207118': 0.44370860927152317, '1010447': 0.4447797223898612, '4522049': 0.4458560193587417, '7032663': 0.4453172205438066, '6333011': 0.44237695078031214, '8657818': 0.44424352019288726, '4413106': 0.44424352019288726, '3517320': 0.4577639751552795, '9713335': 0.4586185438705663, '2322857': 0.510387811634349, '9380195': 0.44264264264264264, '8583103': 0.42873763816172195, '9280279': 0.44317498496692725, '2422972': 0.45521927115503397, '4694186': 0.44720873786407767, '2757226': 0.44720873786407767, '4290555': 0.43378457916421426, '3814713': 0.4623588456712672, '6772048': 0.46912794398472313, '7365078': 0.4474802671523983, '4194156': 0.46912794398472313, '9613908': 0.451316595223515, '4582197': 0.4458560193587417, '3071316': 0.44775212636695016, '7127649': 0.44264264264264264, '9265778': 0.45804847731510256, '2462595': 0.44911639244363194, '8139113': 0.44211157768446313, '8144821': 0.45919003115264795, '3344258': 0.5313626532083634, '5157457': 0.4434416365824308, '5944181': 0.44052600119545726, '9876210': 0.5006793478260869, '5947540': 0.5245551601423487, '5817645': 0.44370860927152317, '7622254': 0.42948717948717946, '4041378': 0.4485696895922094, '6084667': 0.41994301994301997, '9552403': 0.4521472392638037, '8035015': 0.44993894993894995, '3491603': 0.43074225599064875, '2011408': 0.44290865384615385, '9516300': 0.4277423099245502, '6769230': 0.4277423099245502, '5256108': 0.41081382385730214, '8370257': 0.4402628434886499, '4102683': 0.5079255685733977, '4983027': 0.4733461785484907, '5994341': 0.5128740431454419, '8276042': 0.4923179692718771, '5207072': 0.4877564526803441, '9084703': 0.4804432855280313, '5720903': 0.38285714285714284, '8250622': 0.41827468785471056, '8286683': 0.3354574419663177, '3473370': 0.4887267904509284, '2848137': 0.39880952380952384, '2035679': 0.397733405288721, '7430171': 0.3985938345051379, '8989174': 0.3985938345051379, '6950661': 0.40989988876529476, '9915744': 0.4027322404371585, '9833667': 0.4989844278943805, '1144143': 0.47183098591549294, '4932259': 0.49264705882352944, '5408961': 0.4724358974358974, '6086120': 0.4949630624580255, '2289871': 0.5058339052848319, '7916029': 0.47213324791800126, '9348336': 0.4949630624580255, '6676235': 0.5212164073550212, '4687815': 0.47273893521488136, '8635645': 0.47950553025374104, '5178651': 0.4877564526803441, '5397075': 0.47183098591549294, '9929352': 0.48391332895600786, '4263776': 0.5128740431454419, '4005577': 0.48423127463863336, '8648325': 0.4798177083333333, '3645646': 0.47183098591549294, '8140278': 0.475177304964539, '9538721': 0.47702265372168284, '8382871': 0.4864686468646865, '4422525': 0.47183098591549294, '2343081': 0.5023858214042263, '8183412': 0.5139470013947002, '1432420': 0.4933065595716198, '2670588': 0.5, '7584947': 0.4933065595716198, '4470266': 0.48518762343647137, '9325236': 0.47183098591549294, '9872471': 0.4788823911630929, '5443940': 0.5058339052848319, '2629180': 0.4973009446693657, '7809866': 0.4858272907053395, '6658589': 0.4754838709677419, '1640739': 0.5047945205479452, '6054812': 0.47213324791800126, '4695871': 0.39118895966029726, '8699714': 0.4332745443856555, '2187296': 0.34536082474226804, '1895083': 0.34326967862133206, '7394956': 0.34342963653308484, '1357517': 0.3450374531835206, '8778169': 0.3374542124542125, '1763712': 0.3431098696461825, '5011163': 0.3427906976744186, '9697658': 0.355866731047803, '5085316': 0.3401015228426396, '8299568': 0.344392523364486, '1153561': 0.3442316674451191, '3386962': 0.344392523364486, '8743531': 0.3419953596287703, '1698569': 0.3460093896713615, '6040146': 0.3460093896713615, '9730008': 0.3460093896713615, '1380939': 0.3460093896713615, '3245825': 0.3460093896713615, '2208282': 0.3448759943846514, '2566564': 0.3445535296867695, '2690989': 0.3442316674451191, '4780550': 0.3301971326164875, '4317599': 0.3442316674451191, '2879757': 0.3442316674451191, '6833039': 0.34568480300187615, '4758198': 0.3442316674451191, '5935727': 0.35246293639406984, '2234701': 0.35061845861084684, '1998223': 0.3507853403141361, '3549989': 0.4583333333333333, '2209337': 0.47122762148337594, '1419529': 0.43099415204678365, '2170568': 0.4623588456712672, '6147490': 0.42948717948717946, '3161703': 0.4652777777777778, '4378979': 0.42823939570017433, '6482975': 0.44884287454323996, '5124136': 0.4235632183908046, '4682713': 0.4235632183908046, '2716152': 0.419226393629124, '2770133': 0.43074225599064875, '1821182': 0.4051676745464541, '5512420': 0.3543269230769231, '2133568': 0.4455864570737606, '7107684': 0.4652777777777778, '5385581': 0.42823939570017433, '5600632': 0.4235632183908046, '9439312': 0.43378457916421426, '2193627': 0.4327657075748679, '7016785': 0.43378457916421426, '4678831': 0.4260115606936416, '9893168': 0.4504889975550122, '7764831': 0.4260115606936416, '9721767': 0.4335294117647059, '6336152': 0.42973760932944605, '6565505': 0.43378457916421426, '4839944': 0.43378457916421426, '2890135': 0.43378457916421426, '7889860': 0.43378457916421426, '2115814': 0.4510403916768666, '4903506': 0.42380678550891315, '7114194': 0.4189880613985219, '3239429': 0.4204221334854535, '8266898': 0.4201824401368301, '3449908': 0.4272463768115942, '9625349': 0.4173272933182333, '9016426': 0.4173272933182333, '2418926': 0.4173272933182333, '8714809': 0.4277423099245502, '6412869': 0.4173272933182333, '8274751': 0.4173272933182333, '3964253': 0.4173272933182333, '2101618': 0.4173272933182333, '9077507': 0.41803743618831535, '2042940': 0.4173272933182333, '7896636': 0.3281389136242208, '7345768': 0.41994301994301997, '3059888': 0.419226393629124, '5518411': 0.4124230554001119, '5295020': 0.34666039510818436, '1301170': 0.3471502590673575, '3796675': 0.30862646566164154, '1970296': 0.30862646566164154, '3389944': 0.30862646566164154, '6312519': 0.41827468785471056, '9127816': 0.42186605609616484, '1495225': 0.41827468785471056, '6872874': 0.3998914812805209, '9087721': 0.4480243161094225, '8819988': 0.3735428281804359, '1823845': 0.4463961235614779, '8054052': 0.35672797676669893, '2067164': 0.4147439504783343, '5799791': 0.38891820580474934, '2184890': 0.38891820580474934, '9980804': 0.35898684851436924, '8290754': 0.4302393461762989, '4419076': 0.4302393461762989, '7973442': 0.43074225599064875, '9400978': 0.4302393461762989, '3253395': 0.4583333333333333, '7312676': 0.46091307066916826, '5521504': 0.4480243161094225, '7635273': 0.35776699029126213, '6112796': 0.3874868559411146, '7218041': 0.3806818181818182, '4091261': 0.3502851711026616, '9812008': 0.3502851711026616, '5330968': 0.43764845605700714, '7333594': 0.4373887240356083, '4470779': 0.44184652278177455, '8264110': 0.34215413184772514, '6302078': 0.34215413184772514, '6701602': 0.43973747016706444, '7583147': 0.4133482893998878, '3601215': 0.3448759943846514, '9005923': 0.36868434217108553, '2146914': 0.3724103082364831, '9776065': 0.3448759943846514, '4315312': 0.3448759943846514, '5433690': 0.3994579945799458, '7597459': 0.37970118495620814, '6398117': 0.45437731196054254, '6141129': 0.3336351290176551, '4002124': 0.38932910723718966, '2664733': 0.36813186813186816, '2634051': 0.3401015228426396, '5055812': 0.3401015228426396, '9747852': 0.33760879523591386, '6309202': 0.33760879523591386, '7553286': 0.38048528652555497, '9220276': 0.33138489208633093, '6837176': 0.33138489208633093, '2138234': 0.40119760479041916, '2379322': 0.40119760479041916, '4604437': 0.40119760479041916, '9259705': 0.40119760479041916, '8063233': 0.4178004535147392, '8667181': 0.3862683438155136, '1990484': 0.3762123532414497, '4921385': 0.39730458221024256, '7440304': 0.39602364320257927, '3488016': 0.3511195807527394, '5658552': 0.29095933675483615, '3497147': 0.3586374695863747, '8061391': 0.3541566554541086, '4616966': 0.3541566554541086, '2623856': 0.29095933675483615, '8136879': 0.39602364320257927, '2978921': 0.39602364320257927, '4997809': 0.394962486602358, '7369267': 0.3947509373326192, '2031904': 0.394962486602358, '1243239': 0.4065085493656922, '5975451': 0.40032590983161326, '2746315': 0.40032590983161326, '2238822': 0.43506493506493504, '3921443': 0.4363528715216104, '5321484': 0.4373887240356083, '1547754': 0.44829683698296835, '5273869': 0.45719602977667495, '1623855': 0.37184661957618564, '6093204': 0.4577639751552795, '9192468': 0.34057301293900183, '2665012': 0.34104581212401663, '7801602': 0.3643104300543747, '7358829': 0.3643104300543747, '4373382': 0.34104581212401663, '7781617': 0.34104581212401663, '2794736': 0.37970118495620814, '7938161': 0.39644970414201186, '6971888': 0.37970118495620814, '8382088': 0.32524271844660196, '2570270': 0.34057301293900183, '5804390': 0.40229257641921395, '8336729': 0.41012799109627157, '5463452': 0.4335294117647059, '2014577': 0.40339354132457583, '4583448': 0.42186605609616484, '6578669': 0.3602150537634409, '2147332': 0.37091092098641165, '2016960': 0.36868434217108553, '4402851': 0.3621621621621622, '5131882': 0.34471468662301213, '6575560': 0.3802889576883385, '7995389': 0.33714547118023785, '7603677': 0.37678936605316976, '7284837': 0.3511195807527394, '5275676': 0.3572467280659234, '2351228': 0.36039119804400976, '7560062': 0.3810754912099276, '3574808': 0.3442316674451191, '4059502': 0.36180657830142365, '4142678': 0.29004329004329005, '8396640': 0.29004329004329005, '6047831': 0.3474776049033475, '5012353': 0.3621621621621622, '5702574': 0.3621621621621622, '2070408': 0.35280038295835325, '5601892': 0.35655539429124333, '5791258': 0.3727870510875063, '2504088': 0.3712846347607053, '8186351': 0.3696088264794383, '6759501': 0.3511195807527394, '2559082': 0.3460093896713615, '3450215': 0.3460093896713615, '3213152': 0.4025122883670126, '2982735': 0.42823939570017433, '2826523': 0.3945396145610278, '8992258': 0.3945396145610278, '4279905': 0.3945396145610278, '2634248': 0.3945396145610278, '7530019': 0.3945396145610278, '6263872': 0.3945396145610278, '3082326': 0.3945396145610278, '3141027': 0.3945396145610278, '9362124': 0.3945396145610278, '7577101': 0.3945396145610278, '4251180': 0.3945396145610278, '4225594': 0.3945396145610278, '1813355': 0.3945396145610278, '8234290': 0.3945396145610278, '8598623': 0.37335359675785207, '3663856': 0.3471502590673575, '9386047': 0.3041683862979777, '8881206': 0.3178094006037085, '7831865': 0.3822614107883817, '4858190': 0.3822614107883817, '4702811': 0.3822614107883817, '4093507': 0.391812865497076, '1447238': 0.391812865497076, '2217078': 0.391812865497076, '5598626': 0.391812865497076, '7925569': 0.391812865497076, '7561367': 0.391812865497076, '2707537': 0.391812865497076, '3365949': 0.391812865497076, '9365679': 0.391812865497076, '3440132': 0.391812865497076, '5285583': 0.391812865497076, '2914038': 0.391812865497076, '4120780': 0.3992416034669556, '4698268': 0.391812865497076, '2200974': 0.391812865497076, '3099348': 0.3393186003683241, '1601444': 0.3393186003683241, '2040196': 0.3393186003683241, '2492718': 0.3393186003683241, '5644858': 0.3393186003683241, '8839757': 0.36162904808635915, '8553272': 0.36162904808635915, '7989758': 0.3712846347607053, '9002963': 0.29539078156312626, '4397174': 0.3854602510460251, '1370310': 0.3854602510460251, '3623451': 0.34375, '3500982': 0.34536082474226804, '9108482': 0.40628445424476295, '2655742': 0.41035634743875277, '8777431': 0.41035634743875277, '7755028': 0.41035634743875277, '8923506': 0.41035634743875277, '9216834': 0.4110429447852761, '4043459': 0.4110429447852761, '3391909': 0.4474802671523983, '7127213': 0.44666666666666666, '2167961': 0.41035634743875277, '3939426': 0.41035634743875277, '3190456': 0.41035634743875277, '5907279': 0.41035634743875277, '2783071': 0.3427906976744186, '3180404': 0.34666039510818436, '6796337': 0.34666039510818436, '1614462': 0.36109750122488976, '6294927': 0.36109750122488976, '3120419': 0.3553519768563163, '9644284': 0.3553519768563163, '9994449': 0.3602150537634409, '3688309': 0.3602150537634409, '5176750': 0.3602150537634409, '8690443': 0.3602150537634409, '7304224': 0.3602150537634409, '1111434': 0.3091442953020134, '6672326': 0.3091442953020134, '5312426': 0.355009633911368, '5892897': 0.355009633911368, '6122627': 0.408763172490294, '1086236': 0.325530035335689, '9729681': 0.325530035335689, '4835987': 0.29838056680161945, '9531246': 0.29838056680161945, '8842819': 0.3455227379278012, '1871196': 0.3451990632318501, '1332198': 0.3423130515559684, '3548917': 0.43378457916421426, '5527429': 0.43378457916421426, '6572255': 0.43378457916421426, '5774961': 0.43378457916421426, '3889629': 0.4302393461762989, '2041234': 0.43816884661117717, '9129126': 0.43609467455621304, '2204064': 0.43378457916421426, '9265063': 0.43378457916421426, '5549384': 0.41994301994301997, '8023529': 0.4245391705069124, '1779908': 0.3056822895064289, '7442727': 0.30479735318444995, '3189927': 0.3885081707959937, '6852335': 0.38891820580474934, '3076137': 0.3885081707959937, '1946725': 0.3885081707959937, '8041716': 0.3885081707959937, '2390965': 0.3885081707959937, '5628655': 0.3885081707959937, '4208442': 0.3885081707959937, '2386294': 0.31388415672913117, '1889962': 0.31388415672913117, '1423806': 0.30391752577319586, '7154174': 0.3287243532560214, '6302208': 0.3073394495412844, '3490914': 0.3553519768563163, '8377417': 0.35518072289156627, '3234808': 0.3073394495412844, '9732856': 0.3073394495412844, '6058605': 0.3073394495412844, '3382078': 0.307211338057524, '5783052': 0.35518072289156627, '2823156': 0.3544973544973545, '3068885': 0.3553519768563163, '1755791': 0.3544973544973545, '6972791': 0.3543269230769231, '6516448': 0.3543269230769231, '2537746': 0.3543269230769231, '3858162': 0.3543269230769231, '3429229': 0.32901785714285714, '4362206': 0.3664843361511686, '4061000': 0.3345438039037676, '3039147': 0.3345438039037676, '2989824': 0.25724258289703317, '7522793': 0.25724258289703317, '5745168': 0.25724258289703317, '6188539': 0.25724258289703317, '3944349': 0.2569735006973501, '7597885': 0.2477310924369748, '9664885': 0.2477310924369748, '8224924': 0.2802281368821293, '1484821': 0.2802281368821293, '9268869': 0.3536468330134357, '1772920': 0.3536468330134357}\n"
     ]
    }
   ],
   "source": [
    "#Closeness Centrality : This is based on the assumption that important nodes are close to other nodes.\n",
    "close_centrality = nx.closeness_centrality(G_sub)\n",
    "print(close_centrality)"
   ]
  },
  {
   "cell_type": "code",
   "execution_count": 63,
   "metadata": {},
   "outputs": [
    {
     "data": {
      "text/plain": [
       "[('1442662', 0.6464912280701754),\n",
       " ('9208595', 0.6219409282700422),\n",
       " ('9909304', 0.6075845012366035),\n",
       " ('8480716', 0.591018444266239),\n",
       " ('1165624', 0.5766823161189358),\n",
       " ('5316813', 0.5660522273425499),\n",
       " ('6355372', 0.5660522273425499),\n",
       " ('2446753', 0.5479553903345725),\n",
       " ('3203462', 0.5395314787701317),\n",
       " ('9959855', 0.5391367959034382)]"
      ]
     },
     "execution_count": 63,
     "metadata": {},
     "output_type": "execute_result"
    }
   ],
   "source": [
    "close_centrality_sort = sorted(close_centrality.items(), key=lambda x:x[1], reverse=True)\n",
    "close_centrality_sort[:10]"
   ]
  },
  {
   "cell_type": "markdown",
   "metadata": {},
   "source": [
    "#### Betweenness Centrality"
   ]
  },
  {
   "cell_type": "code",
   "execution_count": 64,
   "metadata": {},
   "outputs": [
    {
     "name": "stdout",
     "output_type": "stream",
     "text": [
      "{'4594575': 0.004126751925457062, '9649581': 0.0016674039903506867, '3313879': 0.0, '6138079': 0.000832180828395297, '6524595': 1.8951827141203775e-05, '6670222': 1.5947924683829054e-05, '6455997': 0.002672567430733187, '9582575': 0.002325539334202359, '4550719': 0.0005820802801097377, '1441624': 0.00129111520276552, '6608661': 0.0008892669571426078, '6159135': 0.013835227771744792, '7690572': 0.0036113536952805227, '9087840': 0.0008917810928677603, '3803338': 0.002089974352522594, '9972486': 0.0012830775410125463, '7067231': 0.0004743166528790723, '1003825': 0.002260450565759271, '6493517': 0.005939584361196965, '8503467': 0.0005441809204193607, '1865518': 0.004487429127536392, '5858806': 0.00129111520276552, '8546110': 0.00021809890527413293, '2399690': 0.0015595320756976153, '8139386': 0.00021809890527413293, '5163413': 4.525907517410776e-06, '1112599': 0.0005992201556313817, '5577398': 0.0004908811047945548, '1146339': 0.0012650114754578256, '7423418': 0.0004908811047945548, '3202604': 0.00013895666825050262, '3866212': 0.018350650240063937, '3267643': 0.005317194107413489, '4253784': 0.0005060946708139723, '6218893': 0.005149971077670345, '2998859': 0.016444816797466923, '2032624': 0.0, '1673698': 0.004217579352318178, '9404446': 0.0027646183723080454, '1106391': 0.00965245440927304, '5847548': 0.00040401754159010935, '9959855': 0.02743594528702309, '4320578': 4.6313710528260094e-06, '7871043': 0.0055085724358900955, '8317303': 4.6313710528260094e-06, '3069838': 0.0018291543098562756, '6020177': 0.005673622404084353, '3216939': 0.0036025432093906404, '3577122': 0.0, '5387658': 0.0016532516226375978, '4589257': 0.0, '9050924': 0.003597818775743926, '2551809': 0.005087191654311208, '3932931': 0.003711338758127077, '7793788': 9.889308630339154e-07, '3667194': 0.0024814051734607964, '5125270': 0.0042506752736015336, '2726935': 3.2121954711213785e-05, '8442295': 0.0013657924576851543, '7903662': 0.005520246206374235, '1481164': 0.004941797685325586, '6281912': 5.9405041635509356e-05, '8348725': 0.0, '2301132': 0.00010235395866891407, '9078686': 0.002379553819857206, '9457825': 0.0017382159021944908, '5247021': 0.0007414992846357414, '6371101': 3.687656649417042e-05, '6732139': 0.0019391826640474624, '1442662': 0.0675156981132638, '9208595': 0.09583329453420684, '9909304': 0.03211652460695476, '4005967': 0.0004665552092992369, '5795253': 0.0008955251738875144, '3866777': 0.004334342288210912, '1371145': 0.0004161843435467864, '3203462': 0.008887786845880383, '1165624': 0.027497099980471288, '6426616': 2.6197446948330746e-05, '4127040': 0.003135565903831471, '5037732': 8.0796500679018e-05, '6670518': 0.0024594993849354424, '6065696': 0.002061067928622874, '7695380': 0.00013692062039390924, '1223484': 9.211463937238597e-05, '3126825': 0.002938193355329141, '5337921': 0.003538256685529885, '3291499': 0.0036788964307306036, '7849397': 0.00013692062039390924, '5811293': 0.009250105193850139, '9138329': 0.0005302600315050554, '5147462': 0.006412706988715368, '5766515': 0.01109765233907014, '4236268': 0.009615219536599509, '2654860': 1.3849537082772324e-05, '3787271': 0.007591236993315549, '1274638': 0.001542547140344947, '8586032': 0.0013450721342762085, '3421528': 0.0007485326278869089, '9466115': 0.0007618715792483951, '5825668': 0.010173934176115848, '7421715': 0.0003989655392631943, '2523144': 0.0015294044089250484, '5735979': 0.0011885555290536945, '8534792': 0.006896397045177444, '3711749': 0.0032316041529663543, '3810917': 0.001709738373145996, '4929492': 0.006144775388368825, '1673992': 0.005775213622219648, '9417214': 0.007423669583482638, '1439310': 0.0, '2446753': 0.01015280201791013, '1772098': 0.005887474757865297, '5115594': 0.013192011262494021, '9307243': 0.0012148139909200057, '4323369': 0.003551701744299134, '5316813': 0.017707043134769382, '1964669': 0.00028120666530208615, '4045740': 0.007205078641909168, '3445792': 0.006305333810568403, '6570550': 0.002316325851488481, '6961628': 0.00020364628572620263, '4701360': 6.079339605063141e-07, '9354800': 0.0031889957807885796, '4305026': 0.0067587698951459664, '3937332': 0.0016704937192855765, '5516737': 5.970620039409889e-05, '1793245': 0.0011869255055321317, '9505769': 0.0018773031423708522, '2578648': 0.0008852995942979677, '2441703': 0.0018566795411410933, '7020981': 5.970620039409889e-05, '9896966': 0.00017944245109065458, '7677021': 0.0001627817809431488, '3766124': 0.0001627817809431488, '1478579': 0.00017944245109065458, '2015078': 0.0012311950902769932, '6589515': 0.0004325677687449929, '7277798': 0.00011555119371267157, '7889755': 0.00020684047422443171, '1567926': 0.0004129968718245729, '3180976': 0.0003939480493067233, '4688415': 0.00020684047422443171, '3660967': 0.00027214276937475624, '7032056': 0.00025391041826239606, '7856882': 0.00027214276937475624, '7005996': 9.601776999250235e-05, '8440108': 0.00037021338645314795, '5800071': 0.0004002687088379285, '4024280': 0.0, '8462339': 0.0, '6343786': 2.5722337196173478e-05, '9014591': 0.0004614273359875856, '4364848': 0.002682460391469204, '5543463': 0.00025453818691075576, '9439026': 0.0028920495013439688, '1151261': 0.0, '6561192': 0.005957300897608264, '6355372': 0.032902476696140805, '9805906': 0.00038278099223947596, '5240849': 0.00022823002129164225, '5353779': 0.0014071486534108209, '7165979': 9.138619418873036e-05, '2897777': 9.138619418873036e-05, '2265844': 0.00010242276745853103, '4616698': 0.0002101683312718004, '2592830': 0.005965578291135079, '7735771': 0.006974935300324988, '4757531': 0.0021433701088359723, '7609194': 0.0029806511609508472, '4841017': 0.006671428328353971, '3369951': 0.003915789748220301, '3509702': 0.0, '6856334': 0.0, '3636164': 0.0043844206230329395, '9404978': 2.718037998827711e-05, '4397146': 0.003888164601357943, '8473298': 0.013252559436929446, '7721952': 0.00019319721753603602, '7567736': 0.009717633003848406, '6311554': 0.00019150085793664083, '9617858': 0.00019150085793664083, '1539700': 0.013684056790635215, '7724108': 0.008854993247456526, '1406975': 0.0001351724357033018, '6144515': 9.443864330180457e-05, '2098707': 9.443864330180457e-05, '2978392': 9.443864330180457e-05, '5850425': 0.0001351724357033018, '8998615': 0.00027707951939320765, '4213188': 0.0, '6093075': 0.0, '3326942': 0.0, '8585733': 0.0072554301087373735, '1548416': 0.0015093908086595926, '6599160': 2.055902098894258e-07, '4257439': 0.0008681250533770662, '5558538': 0.0001987481146788263, '3923346': 0.0, '6270066': 0.0009243332117501609, '8860879': 0.0031689886330993787, '2541098': 0.0, '4449011': 0.005687022483517342, '4664490': 0.0, '4063666': 0.00047495894273355625, '1581691': 0.0, '2454859': 0.0008802995110158158, '8962643': 0.00527857808439342, '4843564': 0.005621242979399324, '1338626': 0.0002402033532965358, '5612616': 0.00912929445813772, '1373064': 0.0023854006296304964, '7658856': 0.0013074659868383312, '2065728': 0.004220892555789486, '3304037': 0.01516805205722395, '8533862': 0.0007801449287557406, '5732888': 0.0007256578614362313, '9010746': 0.0018601439823403966, '7391163': 0.02565245496132463, '3879610': 0.00016142912988414103, '5691668': 0.0001357628138479782, '9164524': 0.0001357628138479782, '5327212': 0.0001139518253249397, '9401989': 7.429747742097328e-05, '1482658': 0.003591997431506178, '9751098': 0.0024870806116193598, '2212542': 0.00026569582282313855, '8881147': 0.0003745886277014662, '6555428': 0.0037520584357718357, '9200538': 0.0008027286045601541, '1604074': 0.0014795812697101778, '9263856': 0.0005153756087621391, '1669798': 4.257390979924959e-06, '1902870': 0.0005880587463895138, '8480716': 0.03277587141448449, '1261945': 0.00404146972211532, '6063179': 0.006984609969523223, '8072660': 0.029491965199991102, '7206475': 0.00020191470454548207, '1716134': 7.693979399068367e-05, '7269142': 9.659587590138169e-05, '9753691': 0.00025249910583111345, '6919148': 0.0007624497142937855, '6548577': 0.004541501298753753, '3938423': 0.0007877264579369707, '4735423': 0.0001361581900806505, '4615722': 0.0005540297757187257, '8788229': 0.01747114086905078, '6177946': 0.0003419475889881681, '2154724': 0.003766541093032246, '5137910': 0.025915199613469924, '9196253': 0.0, '7549028': 0.0003068232036539832, '6603497': 3.7921402675528106e-05, '5506452': 0.00020997166997239713, '7646446': 0.00033439505760868976, '6401065': 0.00033439505760868976, '5521884': 0.00032794676267078305, '5670389': 0.0003547688892526187, '8116815': 0.0002453760757250564, '9977818': 0.006565723610341017, '2681667': 7.918380981612935e-05, '1682770': 0.011869809001815244, '5550092': 0.00044316277500621685, '8314913': 0.0076664212819926025, '1240052': 0.00018314665265219712, '9842858': 0.0002142868786047854, '9674423': 0.00025095248945733206, '6266138': 7.153718209019781e-06, '4853294': 0.0, '2388443': 0.005031019175626665, '6375956': 0.0011825347294637108, '6060622': 0.003887248691440159, '8360528': 0.0038607338098436304, '6312773': 0.0016752188270186417, '2450089': 0.00017512616535783008, '4937216': 0.002829176811825249, '6857831': 9.978543802895537e-05, '5802591': 0.0001762139870045458, '4859713': 0.00021135051265995256, '3806946': 0.0008523711653449495, '4989332': 0.0002025869491181345, '3317272': 2.5243716917763082e-05, '3207163': 2.5343622221534512e-06, '7538853': 0.00011849504453331582, '6692800': 1.6898516645027795e-05, '1601009': 0.0002868079672001097, '8506843': 0.0009419612986785387, '1882463': 0.00010013167030452396, '3207118': 0.0001251441875701616, '1010447': 0.00019233600445338762, '4522049': 0.00017963039615556513, '7032663': 0.0001615946620035858, '6333011': 8.845430424730465e-05, '8657818': 0.00014032791810841523, '4413106': 0.00014032791810841523, '3517320': 0.0015269944657312516, '9713335': 0.000995786742002371, '2322857': 0.004817912197511727, '9380195': 1.6898516645027795e-05, '8583103': 9.643878613689353e-05, '9280279': 7.327312787165184e-05, '2422972': 0.0013400259744974076, '4694186': 0.00018227078440747905, '2757226': 0.0003154942806596088, '4290555': 0.00032362322437327575, '3814713': 0.0007535978166464343, '6772048': 0.0018584543399165394, '7365078': 0.000254947276788315, '4194156': 0.0043104313941098255, '9613908': 0.0007818122625625487, '4582197': 0.0001576379113032236, '3071316': 0.0005221424567905813, '7127649': 4.3556501905825645e-05, '9265778': 0.0011843656091547763, '2462595': 0.006676642788594691, '8139113': 1.893306660926353e-05, '8144821': 0.0012126353287370047, '3344258': 0.006307678129106818, '5157457': 0.0001178673897257821, '5944181': 0.0, '9876210': 0.004452940376881436, '5947540': 0.004492230035800894, '5817645': 0.00012020629779643254, '7622254': 0.0001316342917157141, '4041378': 0.0018858801895000545, '6084667': 0.0001318156863675599, '9552403': 0.0008356547479721407, '8035015': 0.0005071307003686461, '3491603': 0.00012975454030906395, '2011408': 0.0002282000686677572, '9516300': 5.30811535076817e-06, '6769230': 5.30811535076817e-06, '5256108': 9.873075727791479e-05, '8370257': 0.0007744629033727255, '4102683': 0.0028910842578066046, '4983027': 0.0010106738866239393, '5994341': 0.006510395135196776, '8276042': 0.009926687275704579, '5207072': 0.006988195285413721, '9084703': 0.0004468082982648382, '5720903': 0.0, '8250622': 4.7699825299611114e-05, '8286683': 0.0, '3473370': 0.0029717228136956603, '2848137': 0.00022367127386224678, '2035679': 0.00018250357953310332, '7430171': 9.19845132471514e-05, '8989174': 9.19845132471514e-05, '6950661': 0.00021105801751293207, '9915744': 0.00017910424968191094, '9833667': 0.003060834223510637, '1144143': 0.0, '4932259': 0.00887488974441314, '5408961': 0.00028786751455419675, '6086120': 0.009808137854565701, '2289871': 0.004016016342226648, '7916029': 5.475269108500677e-06, '9348336': 0.01081799806378574, '6676235': 0.0133243787011286, '4687815': 0.000661295222036393, '8635645': 0.0005650161487371917, '5178651': 0.00026206697709316824, '5397075': 0.0, '9929352': 0.00082128744647851, '4263776': 0.00709131167734802, '4005577': 0.006062657095363364, '8648325': 0.0007249498043460014, '3645646': 0.0, '8140278': 0.000749432401052434, '9538721': 0.003695279482753326, '8382871': 0.009825178419062532, '4422525': 0.0, '2343081': 0.0012198038723940864, '8183412': 0.03372926067425677, '1432420': 0.0020401138142691565, '2670588': 0.004175334039936703, '7584947': 0.006347133519506339, '4470266': 0.004621430139992365, '9325236': 0.0, '9872471': 0.0005317789599801832, '5443940': 0.008777139745928763, '2629180': 0.011014858216931553, '7809866': 0.0018579730596299056, '6658589': 0.0008657255651756511, '1640739': 0.009133926625849336, '6054812': 0.0003511884971613257, '4695871': 0.0, '8699714': 1.8257369850067985e-07, '2187296': 8.357632010411487e-05, '1895083': 3.0505926039646773e-05, '7394956': 2.9042259821688765e-05, '1357517': 5.030664428016496e-05, '8778169': 7.374196212612825e-07, '1763712': 1.5171823754524732e-05, '5011163': 1.1976338729059172e-05, '9697658': 3.781944295636951e-05, '5085316': 0.0, '8299568': 8.460711461271897e-06, '1153561': 5.396570864684842e-06, '3386962': 8.460711461271897e-06, '8743531': 2.63364150450458e-07, '1698569': 0.0, '6040146': 0.0, '9730008': 0.0, '1380939': 0.0, '3245825': 0.0, '2208282': 4.922021654339022e-05, '2566564': 2.1854882757471665e-05, '2690989': 1.3404802208308054e-05, '4780550': 0.0, '4317599': 1.3404802208308054e-05, '2879757': 1.3404802208308054e-05, '6833039': 0.01355599806585368, '4758198': 1.3404802208308054e-05, '5935727': 0.0, '2234701': 0.0, '1998223': 9.868503765549252e-06, '3549989': 0.0011280294551003994, '2209337': 0.0026123291959180895, '1419529': 0.00026856470615478655, '2170568': 0.001689005357454756, '6147490': 0.0002612953449446346, '3161703': 0.0019673817107741663, '4378979': 0.00034601423936081634, '6482975': 0.0006927784898661253, '5124136': 0.0, '4682713': 0.0, '2716152': 4.314367885713347e-05, '2770133': 0.004279114893946318, '1821182': 0.0021337561155618267, '5512420': 1.005836384800078e-05, '2133568': 0.00930861285565559, '7107684': 0.001968544568522959, '5385581': 0.000300636538455228, '5600632': 0.0, '9439312': 0.00012475709044513388, '2193627': 0.00031177226707417884, '7016785': 0.00012475709044513388, '4678831': 0.0, '9893168': 0.0011157682614382487, '7764831': 0.0, '9721767': 0.00016396595215790031, '6336152': 0.0004052834650009967, '6565505': 0.00012475709044513388, '4839944': 0.00012475709044513388, '2890135': 0.00012475709044513388, '7889860': 0.00012475709044513388, '2115814': 0.0017477350377884235, '4903506': 0.00014941433285215123, '7114194': 5.9383013744784964e-05, '3239429': 7.351519788559989e-05, '8266898': 0.00038269668305890075, '3449908': 0.00032901681607547196, '9625349': 0.0, '9016426': 0.0, '2418926': 0.0, '8714809': 0.0005650635092700446, '6412869': 0.0, '8274751': 0.0, '3964253': 0.0, '2101618': 0.0, '9077507': 7.527548195025775e-05, '2042940': 0.0, '7896636': 0.0, '7345768': 0.0039976625558814415, '3059888': 9.199458181318036e-05, '5518411': 0.0006912138758384236, '5295020': 0.0005235210756489243, '1301170': 1.0439807574839303e-05, '3796675': 0.0, '1970296': 0.0, '3389944': 0.0, '6312519': 2.5946245933267346e-07, '9127816': 9.141028178007553e-05, '1495225': 3.095194182307459e-05, '6872874': 9.137288933297458e-05, '9087721': 0.0021129238347475906, '8819988': 8.533260845776646e-05, '1823845': 0.0008330484137767732, '8054052': 0.0, '2067164': 1.0134699067316473e-05, '5799791': 1.737684048835326e-05, '2184890': 1.737684048835326e-05, '9980804': 0.0, '8290754': 1.4612317139340807e-05, '4419076': 1.4612317139340807e-05, '7973442': 1.968300761947427e-05, '9400978': 1.4612317139340807e-05, '3253395': 0.0007643950355778271, '7312676': 0.0004196038966943067, '5521504': 0.00013693192769856848, '7635273': 1.9431455240770267e-06, '6112796': 8.842588153751186e-05, '7218041': 8.919635886145237e-05, '4091261': 0.0, '9812008': 0.0, '5330968': 0.0006447226386096825, '7333594': 0.00039088028172468153, '4470779': 0.01625941471559962, '8264110': 0.0, '6302078': 0.0, '6701602': 0.0009780385761138687, '7583147': 6.265849376333422e-06, '3601215': 0.00044910088439893334, '9005923': 0.0006649973342217351, '2146914': 0.0002650442769537724, '9776065': 0.00044910088439893334, '4315312': 0.00044910088439893334, '5433690': 5.353786906917969e-05, '7597459': 0.0001960603572181318, '6398117': 0.0002953871795583635, '6141129': 2.577591706638418e-06, '4002124': 7.735162856296277e-05, '2664733': 4.982645176579005e-06, '2634051': 0.0, '5055812': 0.0, '9747852': 0.0, '6309202': 0.0, '7553286': 0.0, '9220276': 0.0, '6837176': 0.0, '2138234': 0.0008203405542843579, '2379322': 0.0008203405542843579, '4604437': 0.0008203405542843579, '9259705': 0.0008203405542843579, '8063233': 8.821246503968725e-05, '8667181': 9.702052937853755e-06, '1990484': 1.0035474865552296e-05, '4921385': 0.004408850081867029, '7440304': 0.0007699897025454548, '3488016': 0.000557776356879173, '5658552': 1.882453135576713e-05, '3497147': 0.0008090002810581514, '8061391': 0.00035739291866931596, '4616966': 0.00035739291866931596, '2623856': 1.882453135576713e-05, '8136879': 0.0007699897025454548, '2978921': 0.0007699897025454548, '4997809': 0.0008879963200264116, '7369267': 8.994903765464025e-05, '2031904': 0.0008879963200264116, '1243239': 0.00029239122932553336, '5975451': 9.2571989703012e-05, '2746315': 9.2571989703012e-05, '2238822': 0.0, '3921443': 0.0039987166445499996, '5321484': 0.0005437600870468262, '1547754': 0.00019355542797372873, '5273869': 0.0016637591234370326, '1623855': 0.0, '6093204': 0.00024342624166957168, '9192468': 0.0, '2665012': 0.0, '7801602': 0.00012684811384308593, '7358829': 0.00012684811384308593, '4373382': 0.0, '7781617': 0.0, '2794736': 1.4532790746696093e-05, '7938161': 3.578857250954648e-05, '6971888': 1.4532790746696093e-05, '8382088': 0.0, '2570270': 0.0, '5804390': 0.00011619038931072867, '8336729': 0.0016103568452027382, '5463452': 8.761906523803438e-05, '2014577': 0.0, '4583448': 0.0, '6578669': 7.3160982229385555e-06, '2147332': 0.00014197261840450586, '2016960': 0.00014646261713246802, '4402851': 0.0, '5131882': 0.0, '6575560': 4.6190928928799926e-05, '7995389': 0.0, '7603677': 3.413979728061493e-07, '7284837': 0.0, '5275676': 6.461055202486327e-05, '2351228': 8.642906355538152e-06, '7560062': 1.350754919384329e-05, '3574808': 0.0, '4059502': 0.0, '4142678': 0.0, '8396640': 0.0, '6047831': 0.0002409910724197656, '5012353': 0.0, '5702574': 0.0, '2070408': 0.0, '5601892': 0.0, '5791258': 7.056370360733535e-05, '2504088': 0.0, '8186351': 0.00012518189119883763, '6759501': 0.0, '2559082': 0.0, '3450215': 0.0, '3213152': 0.0, '2982735': 0.00024025442999721846, '2826523': 0.0, '8992258': 0.0, '4279905': 0.0, '2634248': 0.0, '7530019': 0.0, '6263872': 0.0, '3082326': 0.0, '3141027': 0.0, '9362124': 0.0, '7577101': 0.0, '4251180': 0.0, '4225594': 0.0, '1813355': 0.0, '8234290': 0.0, '8598623': 0.0, '3663856': 0.0, '9386047': 1.6633879600280756e-05, '8881206': 0.0, '7831865': 0.0001617394775687459, '4858190': 0.0001617394775687459, '4702811': 0.0001617394775687459, '4093507': 0.0, '1447238': 0.0, '2217078': 0.0, '5598626': 0.0, '7925569': 0.0, '7561367': 0.0, '2707537': 0.0, '3365949': 0.0, '9365679': 0.0, '3440132': 0.0, '5285583': 0.0, '2914038': 0.0, '4120780': 0.0014059876196598532, '4698268': 0.0, '2200974': 0.0, '3099348': 0.0, '1601444': 0.0, '2040196': 0.0, '2492718': 0.0, '5644858': 0.0, '8839757': 0.0, '8553272': 0.0, '7989758': 6.062627736865245e-07, '9002963': 0.0, '4397174': 0.0, '1370310': 0.0, '3623451': 0.0, '3500982': 0.0, '9108482': 3.6219021881215703e-06, '2655742': 0.0, '8777431': 0.0, '7755028': 0.0, '8923506': 0.0, '9216834': 1.1714665021308817e-05, '4043459': 1.1714665021308817e-05, '3391909': 0.000956572884996327, '7127213': 0.000884647531484433, '2167961': 0.0, '3939426': 0.0, '3190456': 0.0, '5907279': 0.0, '2783071': 0.0, '3180404': 0.0, '6796337': 0.0, '1614462': 1.3514049134566385e-05, '6294927': 1.3514049134566385e-05, '3120419': 0.0, '9644284': 0.0, '9994449': 0.0, '3688309': 0.0, '5176750': 0.0, '8690443': 0.0, '7304224': 0.0, '1111434': 0.0, '6672326': 0.0, '5312426': 0.0, '5892897': 0.0, '6122627': 5.014677222378924e-06, '1086236': 0.0, '9729681': 0.0, '4835987': 0.0, '9531246': 0.0, '8842819': 4.610307593063101e-05, '1871196': 1.31682075225229e-07, '1332198': 0.0, '3548917': 1.8054065415018936e-05, '5527429': 1.8054065415018936e-05, '6572255': 1.8054065415018936e-05, '5774961': 1.8054065415018936e-05, '3889629': 0.0, '2041234': 0.004943174613234253, '9129126': 0.006609272120916627, '2204064': 1.8054065415018936e-05, '9265063': 1.8054065415018936e-05, '5549384': 0.0, '8023529': 0.0005953521046708224, '1779908': 1.3414172239610265e-05, '7442727': 0.0, '3189927': 0.0, '6852335': 0.005420034216270426, '3076137': 0.0, '1946725': 0.0, '8041716': 0.0, '2390965': 0.0, '5628655': 0.0, '4208442': 0.0, '2386294': 0.0, '1889962': 0.0, '1423806': 0.0, '7154174': 0.0, '6302208': 6.145163510510687e-07, '3490914': 0.00050434339918551, '8377417': 0.00038839950293828736, '3234808': 6.145163510510687e-07, '9732856': 6.145163510510687e-07, '6058605': 6.145163510510687e-07, '3382078': 0.0, '5783052': 1.2290327021021373e-05, '2823156': 0.0, '3068885': 2.279855662399465e-05, '1755791': 0.0, '6972791': 0.0, '6516448': 0.0, '2537746': 0.0, '3858162': 0.0, '3429229': 0.005420034216270426, '4362206': 0.0, '4061000': 0.0, '3039147': 0.0, '2989824': 0.0, '7522793': 0.0, '5745168': 0.0, '6188539': 0.0, '3944349': 0.0, '7597885': 0.0, '9664885': 0.0, '8224924': 0.0, '1484821': 0.0, '9268869': 0.0, '1772920': 0.0}\n"
     ]
    }
   ],
   "source": [
    "#Betweenness Centrality: It assumes that important nodes connect other nodes.\n",
    "bet_centrality = nx.betweenness_centrality(G_sub, normalized = True, \n",
    "                                              endpoints = False)\n",
    "print(bet_centrality)"
   ]
  },
  {
   "cell_type": "code",
   "execution_count": 65,
   "metadata": {},
   "outputs": [
    {
     "data": {
      "text/plain": [
       "[('9208595', 0.09583329453420684),\n",
       " ('1442662', 0.0675156981132638),\n",
       " ('8183412', 0.03372926067425677),\n",
       " ('6355372', 0.032902476696140805),\n",
       " ('8480716', 0.03277587141448449),\n",
       " ('9909304', 0.03211652460695476),\n",
       " ('8072660', 0.029491965199991102),\n",
       " ('1165624', 0.027497099980471288),\n",
       " ('9959855', 0.02743594528702309),\n",
       " ('5137910', 0.025915199613469924)]"
      ]
     },
     "execution_count": 65,
     "metadata": {},
     "output_type": "execute_result"
    }
   ],
   "source": [
    "bet_centrality_sort = sorted(bet_centrality.items(), key=lambda x:x[1], reverse=True)\n",
    "bet_centrality_sort[:10]"
   ]
  },
  {
   "cell_type": "code",
   "execution_count": null,
   "metadata": {},
   "outputs": [],
   "source": [
    "###"
   ]
  },
  {
   "cell_type": "code",
   "execution_count": 66,
   "metadata": {},
   "outputs": [],
   "source": [
    "degrees = sorted(G_sub.degree, key=lambda x: x[1], reverse=True)"
   ]
  },
  {
   "cell_type": "code",
   "execution_count": 68,
   "metadata": {},
   "outputs": [
    {
     "data": {
      "text/plain": [
       "(-0.9182608872652054,\n",
       " 1.015493169426918,\n",
       " -1.0806127876043319,\n",
       " 0.6928685396909714)"
      ]
     },
     "execution_count": 68,
     "metadata": {},
     "output_type": "execute_result"
    },
    {
     "data": {
      "image/png": "[encoded data removed]",
      "text/plain": [
       "<Figure size 1440x1440 with 1 Axes>"
      ]
     },
     "metadata": {
      "needs_background": "light"
     },
     "output_type": "display_data"
    }
   ],
   "source": [
    "node_size =  [v * 10000 for v in bet_centrality.values()]\n",
    "plt.figure(figsize=(20,20))\n",
    "nx.draw_networkx(G_sub, pos=pos, with_labels=False,\n",
    "                 node_size=node_size )\n",
    "plt.axis('off')"
   ]
  },
  {
   "cell_type": "code",
   "execution_count": 72,
   "metadata": {},
   "outputs": [
    {
     "data": {
      "text/plain": [
       "[('1442662', 0.1611762476611693),\n",
       " ('9909304', 0.14924078699932244),\n",
       " ('9208595', 0.13143364672662905),\n",
       " ('8480716', 0.12912185909551527),\n",
       " ('1165624', 0.11150892151370052),\n",
       " ('5316813', 0.10578665457189033),\n",
       " ('6355372', 0.09106775816039248),\n",
       " ('1682770', 0.08950009833421202),\n",
       " ('9977818', 0.08867608961635928),\n",
       " ('5947540', 0.08656153200234548)]"
      ]
     },
     "execution_count": 72,
     "metadata": {},
     "output_type": "execute_result"
    }
   ],
   "source": [
    "#Eigenvector Centrality\n",
    "eigen_centr = nx.eigenvector_centrality(G_sub)\n",
    "eigen_centr_sort = sorted(eigen_centr.items(), key=lambda x:x[1], reverse=True)\n",
    "eigen_centr_sort[:10]"
   ]
  },
  {
   "cell_type": "markdown",
   "metadata": {},
   "source": [
    "### Shapely Betweeness"
   ]
  },
  {
   "cell_type": "code",
   "execution_count": 73,
   "metadata": {},
   "outputs": [],
   "source": [
    "#code borrowed from\n",
    "#https://medium.com/analytics-vidhya/who-is-the-most-important-person-in-a-social-network-dfcfbb9c3f36 \n",
    "def ShapelyBetweeness(G):\n",
    "    #Distance between nodes\n",
    "    d = np.zeros((G.number_of_nodes(), G.number_of_nodes()))\n",
    "    #list of predecessors on all node pairs\n",
    "    Pred_s = [[] for i in range(G.number_of_nodes()) ]\n",
    "    #Length of shortest path on each pair\n",
    "    sigma = np.zeros((G.number_of_nodes(), G.number_of_nodes()))\n",
    "    #One-side dependency of source node on target node\n",
    "    delta = np.zeros((G.number_of_nodes(), G.number_of_nodes()))\n",
    "    cSh = np.zeros(G.number_of_nodes()) \n",
    "    #Sructs\n",
    "    Q = queue.Queue()\n",
    "    S = []\n",
    "    #Create node list\n",
    "    nodes = []\n",
    "    for n in G.nodes.data():\n",
    "        nodes.append(n[0])\n",
    "    for s in range(0, G.number_of_nodes()):\n",
    "        for v in range(0, G.number_of_nodes()):\n",
    "            Pred_s[v] = []; d[s,v] = float(\"inf\") ;sigma[s,v] = 0\n",
    "        d[s,s] = 1; sigma[s,s] = 1;  \n",
    "        Q.put(s)\n",
    "        while Q.empty() == False:\n",
    "            v = Q.get()\n",
    "            S.append(v)\n",
    "            w = list(G.edges(nodes[v], data=True))\n",
    "            for i in range(0,len(w)):\n",
    "                if d[s, nodes.index(w[i][1])] == float(\"inf\"):\n",
    "                    d[s, nodes.index(w[i][1])] = d[s, v] + 1\n",
    "                    Q.put(nodes.index(w[i][1]))\n",
    "                if d[s, nodes.index(w[i][1])] == d[s, v] + 1:\n",
    "                    sigma[s,nodes.index(w[i][1])] += sigma[s,v]\n",
    "                    Pred_s[nodes.index(w[i][1])].append(v)\n",
    "\n",
    "    for v in range(0, G.number_of_nodes()-1):\n",
    "        delta[s,v] = 0\n",
    "\n",
    "    while len(S) > 0:\n",
    "        w = S.pop()\n",
    "        for v in Pred_s[w]:\n",
    "            delta[s,v] += (sigma[s,v]/sigma[s,w])*(1/d[s,w] + delta[s,w])\n",
    "        if w != s:\n",
    "            cSh[w] += delta[s,w] + (2-d[s,w])/d[s,w]\n",
    "\n",
    "    for v in range(0, G.number_of_nodes()):\n",
    "        cSh[v] = cSh[v]/2\n",
    "\n",
    "    return cSh"
   ]
  },
  {
   "cell_type": "code",
   "execution_count": 74,
   "metadata": {},
   "outputs": [],
   "source": [
    "Shaply_result = ShapelyBetweeness(G_sub)"
   ]
  },
  {
   "cell_type": "code",
   "execution_count": 75,
   "metadata": {},
   "outputs": [
    {
     "data": {
      "text/plain": [
       "numpy.ndarray"
      ]
     },
     "execution_count": 75,
     "metadata": {},
     "output_type": "execute_result"
    }
   ],
   "source": [
    "type(Shaply_result)"
   ]
  },
  {
   "cell_type": "code",
   "execution_count": 76,
   "metadata": {},
   "outputs": [
    {
     "name": "stdout",
     "output_type": "stream",
     "text": [
      "[ 2.41325571e+04  1.21361423e+04 -2.21400000e+02  5.56200826e+03\n",
      " -2.21400000e+02 -2.21400000e+02  1.26247647e+04  1.63369416e+04\n",
      "  1.93193087e+03  9.71925138e+03 -1.84500000e+02  3.27205609e+07\n",
      "  1.76660257e+04 -1.84500000e+02  1.96116727e+06 -1.84500000e+02\n",
      " -1.84500000e+02  1.47000654e+04  4.86681014e+04 -1.84500000e+02\n",
      " -1.84500000e+02  9.71925138e+03 -1.84500000e+02  4.11898759e+03\n",
      " -1.84500000e+02 -1.84500000e+02 -1.84500000e+02 -1.84500000e+02\n",
      "  4.11897180e+03 -1.84500000e+02 -1.84500000e+02  4.80769439e+06\n",
      "  4.09925661e+04 -1.84500000e+02  8.31084231e+03  8.36935633e+04\n",
      " -1.84500000e+02 -1.84500000e+02 -1.84500000e+02  2.08698961e+06\n",
      " -1.84500000e+02  6.63866950e+06 -1.84500000e+02  6.11876698e+06\n",
      " -1.84500000e+02  2.65848469e+06 -1.84500000e+02  4.14187363e+06\n",
      " -1.84500000e+02 -1.84500000e+02 -1.84500000e+02 -1.84500000e+02\n",
      "  2.94841720e+04  1.73200052e+04 -1.84500000e+02  6.36886975e+07\n",
      "  9.48931315e+05 -1.84500000e+02 -1.84500000e+02  9.39993461e+06\n",
      "  5.88400178e+06 -1.84500000e+02 -2.21400000e+02  9.08245127e+02\n",
      " -1.84500000e+02 -1.84500000e+02 -1.84500000e+02 -1.84500000e+02\n",
      " -1.84500000e+02  1.41580607e+08  1.23791881e+08  1.33446239e+08\n",
      " -1.84500000e+02  3.18875138e+07 -1.84500000e+02  3.15441033e+07\n",
      "  6.38182473e+07  1.27591077e+08 -1.84500000e+02 -1.84500000e+02\n",
      " -1.84500000e+02  2.09598678e+04  3.16769488e+07 -1.84500000e+02\n",
      " -1.84500000e+02  6.31008450e+07 -1.84500000e+02 -1.84500000e+02\n",
      " -1.84500000e+02  2.36419078e+04 -1.84500000e+02  3.16066358e+07\n",
      "  3.28658242e+07  1.12375879e+07 -1.84500000e+02  3.30700550e+07\n",
      "  3.18940464e+07 -1.84500000e+02  3.15749362e+07 -1.84500000e+02\n",
      "  4.06853107e+04 -1.84500000e+02  1.23959409e+04 -1.84500000e+02\n",
      "  3.92040556e+04  6.31558957e+07 -1.84500000e+02  9.24688346e+03\n",
      " -1.84500000e+02 -1.84500000e+02 -1.84500000e+02  9.69460507e+07\n",
      "  3.18825617e+07  3.09178877e+06  1.02635291e+06 -1.84500000e+02\n",
      "  6.66662836e+07 -1.84500000e+02  1.22919151e+08  5.72986832e+05\n",
      " -1.84500000e+02 -1.84500000e+02 -1.84500000e+02  7.12706644e+05\n",
      "  1.19995504e+08  5.04861667e+05 -1.84500000e+02  7.55360000e+05\n",
      "  1.19214959e+08  5.04803074e+05  5.17577856e+05 -1.84500000e+02\n",
      " -1.84500000e+02 -1.84500000e+02 -1.84500000e+02 -1.84500000e+02\n",
      " -1.84500000e+02 -1.84500000e+02 -1.84500000e+02 -1.84500000e+02\n",
      " -1.84500000e+02 -1.84500000e+02 -1.84500000e+02 -1.84500000e+02\n",
      " -1.84500000e+02 -1.84500000e+02 -1.84500000e+02 -1.84500000e+02\n",
      " -1.84500000e+02 -2.21400000e+02 -1.84500000e+02 -1.84500000e+02\n",
      " -1.84500000e+02  1.56339217e+06 -1.84500000e+02  2.70845000e+04\n",
      " -2.21400000e+02  1.46619039e+06  1.02646158e+07 -1.84500000e+02\n",
      " -1.84500000e+02  7.33798276e+03 -1.84500000e+02 -1.84500000e+02\n",
      " -1.84500000e+02 -1.84500000e+02  6.76712944e+06  2.05197407e+04\n",
      "  1.19350556e+04  3.15652954e+07  6.94739231e+03  3.04393565e+06\n",
      " -1.84500000e+02 -1.84500000e+02  1.18928864e+08 -1.84500000e+02\n",
      "  1.45823014e+06  3.69187994e+06 -1.84500000e+02  1.86365427e+05\n",
      " -1.84500000e+02 -1.84500000e+02  3.49504712e+05  2.37014456e+05\n",
      " -1.84500000e+02 -1.84500000e+02 -1.84500000e+02 -1.84500000e+02\n",
      " -1.84500000e+02 -1.84500000e+02 -2.21400000e+02 -2.21400000e+02\n",
      " -2.21400000e+02  5.01105489e+04 -1.84500000e+02 -1.84500000e+02\n",
      "  1.91935622e+04 -1.84500000e+02 -1.84500000e+02  1.22573640e+06\n",
      "  3.77823454e+06 -2.21400000e+02  1.29655106e+06 -1.84500000e+02\n",
      " -1.84500000e+02 -1.84500000e+02 -1.84500000e+02  3.74541088e+06\n",
      "  2.88814104e+06 -1.84500000e+02  1.19487811e+08 -1.84500000e+02\n",
      "  1.78478043e+06  6.31355399e+07  2.52013877e+06 -1.84500000e+02\n",
      "  2.38064939e+05  1.22410877e+05  1.72659644e+06 -1.84500000e+02\n",
      " -1.84500000e+02 -1.84500000e+02 -1.84500000e+02 -1.84500000e+02\n",
      "  3.89945467e+05  6.48335217e+05  6.00208362e+05 -1.84500000e+02\n",
      "  5.10458570e+05 -1.84500000e+02  3.15837426e+07 -1.84500000e+02\n",
      " -1.84500000e+02  1.12390833e+04  1.64921927e+07  1.18659059e+08\n",
      "  1.19184010e+08  1.42010113e+11  1.49409667e+06 -1.84500000e+02\n",
      " -1.84500000e+02 -1.84500000e+02 -1.84500000e+02  1.66949063e+06\n",
      " -1.84500000e+02 -1.84500000e+02  1.12390833e+04  1.08947704e+07\n",
      " -1.84500000e+02 -1.84500000e+02  5.17278792e+06 -1.84500000e+02\n",
      " -1.84500000e+02 -1.84500000e+02 -1.84500000e+02 -1.84500000e+02\n",
      " -1.84500000e+02 -1.84500000e+02 -1.84500000e+02 -1.84500000e+02\n",
      "  9.84296987e+05 -1.84500000e+02  4.01793576e+05 -1.84500000e+02\n",
      "  2.09417959e+06 -1.84500000e+02 -1.84500000e+02 -1.84500000e+02\n",
      " -1.84500000e+02 -1.84500000e+02  1.03612691e+06 -1.84500000e+02\n",
      "  2.36261211e+05  2.35038562e+05  1.91603148e+05 -1.84500000e+02\n",
      " -1.84500000e+02 -1.84500000e+02 -1.84500000e+02 -1.84500000e+02\n",
      " -1.84500000e+02 -1.84500000e+02 -1.84500000e+02 -1.84500000e+02\n",
      " -1.84500000e+02 -1.84500000e+02 -1.84500000e+02 -1.84500000e+02\n",
      " -1.84500000e+02 -1.84500000e+02 -1.84500000e+02 -1.84500000e+02\n",
      " -1.84500000e+02 -1.84500000e+02 -1.84500000e+02 -1.84500000e+02\n",
      " -1.84500000e+02 -1.84500000e+02  3.63638974e+05 -1.84500000e+02\n",
      " -1.84500000e+02 -1.84500000e+02 -1.84500000e+02 -1.84500000e+02\n",
      " -1.84500000e+02 -1.84500000e+02 -1.84500000e+02 -1.84500000e+02\n",
      " -1.84500000e+02  2.46848280e+04 -1.84500000e+02 -1.84500000e+02\n",
      " -1.84500000e+02 -1.84500000e+02 -1.84500000e+02 -1.84500000e+02\n",
      " -1.84500000e+02 -1.84500000e+02  3.88674753e+06 -1.84500000e+02\n",
      " -1.84500000e+02  8.22219906e+05  3.09603800e+05 -1.84500000e+02\n",
      " -1.84500000e+02 -1.84500000e+02 -1.84500000e+02 -1.84500000e+02\n",
      " -1.84500000e+02 -1.84500000e+02 -1.84500000e+02 -1.84500000e+02\n",
      " -1.84500000e+02 -1.84500000e+02 -1.84500000e+02  4.53514278e+06\n",
      "  3.79246415e+04  9.11008607e+05  7.66025654e+06  3.88370380e+06\n",
      "  1.49403816e+06 -1.84500000e+02  3.04907721e+03 -1.84500000e+02\n",
      "  3.21785255e+05 -1.84500000e+02 -1.84500000e+02 -1.84500000e+02\n",
      " -1.84500000e+02 -1.84500000e+02 -1.84500000e+02  3.02882200e+06\n",
      " -1.23000000e+02  3.39632500e+04  6.07450000e+03  3.15120379e+06\n",
      "  4.64802960e+06 -1.23000000e+02 -1.23000000e+02  1.04347592e+07\n",
      "  1.45960313e+04  5.19074138e+05  1.32747872e+03 -1.23000000e+02\n",
      "  5.96420141e+05  4.69196044e+06  6.77792203e+10  1.30015312e+04\n",
      " -1.23000000e+02  1.45960313e+04 -1.23000000e+02 -1.23000000e+02\n",
      " -1.23000000e+02  5.23356213e+05  9.56082940e+10  6.26369506e+05\n",
      "  4.66738758e+06 -1.23000000e+02  5.66610606e+05 -1.23000000e+02\n",
      "  1.89806629e+04  5.34507840e+06  7.03473309e+10  4.84120453e+05\n",
      "  1.44960928e+05  4.15343374e+06  2.58432757e+05 -1.84500000e+02\n",
      " -1.23000000e+02 -1.23000000e+02 -1.23000000e+02 -1.23000000e+02\n",
      " -1.23000000e+02 -1.23000000e+02 -1.23000000e+02 -1.23000000e+02\n",
      " -1.23000000e+02 -1.23000000e+02 -1.23000000e+02 -1.23000000e+02\n",
      " -1.23000000e+02 -1.23000000e+02 -1.23000000e+02 -1.23000000e+02\n",
      " -1.23000000e+02 -1.23000000e+02 -1.23000000e+02 -1.23000000e+02\n",
      " -1.23000000e+02 -1.23000000e+02 -1.84500000e+02 -1.23000000e+02\n",
      " -1.23000000e+02  1.70308250e+05 -1.23000000e+02 -1.23000000e+02\n",
      " -1.84500000e+02 -1.84500000e+02 -1.84500000e+02 -1.84500000e+02\n",
      " -1.84500000e+02 -1.84500000e+02 -1.84500000e+02 -1.84500000e+02\n",
      " -1.84500000e+02 -1.84500000e+02 -1.84500000e+02 -1.84500000e+02\n",
      " -1.84500000e+02  3.75278702e+04  1.51114574e+04 -1.84500000e+02\n",
      "  8.16225000e+04 -1.84500000e+02 -1.84500000e+02 -1.84500000e+02\n",
      " -1.84500000e+02 -1.84500000e+02 -1.84500000e+02 -1.84500000e+02\n",
      " -1.84500000e+02 -1.84500000e+02 -1.84500000e+02 -1.84500000e+02\n",
      " -1.84500000e+02 -1.84500000e+02 -1.84500000e+02 -1.84500000e+02\n",
      " -1.84500000e+02 -1.84500000e+02 -1.84500000e+02 -1.84500000e+02\n",
      " -1.84500000e+02  2.87362889e+06 -1.84500000e+02 -1.84500000e+02\n",
      " -1.84500000e+02 -1.84500000e+02 -1.84500000e+02 -1.84500000e+02\n",
      " -1.84500000e+02 -1.84500000e+02 -1.84500000e+02 -1.84500000e+02\n",
      " -1.84500000e+02  4.26440238e+04 -1.84500000e+02  3.87679574e+03\n",
      "  8.99304081e+03 -1.84500000e+02 -2.21400000e+02 -2.21400000e+02\n",
      " -2.21400000e+02 -1.84500000e+02 -1.84500000e+02 -1.84500000e+02\n",
      " -1.84500000e+02  1.49649444e+04 -1.84500000e+02 -1.84500000e+02\n",
      " -1.84500000e+02 -1.84500000e+02 -1.84500000e+02 -1.84500000e+02\n",
      " -1.84500000e+02 -1.84500000e+02 -1.84500000e+02 -1.84500000e+02\n",
      " -1.84500000e+02 -1.84500000e+02 -1.84500000e+02 -1.84500000e+02\n",
      " -1.84500000e+02 -1.84500000e+02 -1.84500000e+02 -1.84500000e+02\n",
      " -1.84500000e+02 -1.84500000e+02 -1.84500000e+02  1.29507028e+05\n",
      " -1.23000000e+02 -1.23000000e+02 -1.84500000e+02  1.91870370e+02\n",
      " -2.21400000e+02  3.10411929e+03  2.99036214e+03 -2.21400000e+02\n",
      " -2.21400000e+02 -1.84500000e+02 -1.84500000e+02 -1.84500000e+02\n",
      " -1.84500000e+02 -1.84500000e+02 -1.84500000e+02 -2.21400000e+02\n",
      " -2.21400000e+02 -1.84500000e+02 -1.84500000e+02 -1.84500000e+02\n",
      " -1.84500000e+02 -1.84500000e+02  5.48565690e+03  5.48565690e+03\n",
      "  5.48565690e+03  5.48565690e+03 -1.84500000e+02 -1.84500000e+02\n",
      " -1.84500000e+02  5.16104383e+04  6.31033554e+03  1.29650322e+04\n",
      " -2.21400000e+02  1.54308217e+04  5.56829337e+03  5.56825253e+03\n",
      " -2.21400000e+02  6.31009735e+03  6.31009735e+03  9.68875862e+03\n",
      " -1.84500000e+02  9.68875862e+03 -1.84500000e+02 -1.84500000e+02\n",
      " -1.84500000e+02 -1.84500000e+02  3.84465833e+04 -1.84500000e+02\n",
      " -1.84500000e+02  1.06899870e+04 -1.84500000e+02  1.41904480e+05\n",
      " -1.23000000e+02 -1.23000000e+02  2.42729205e+05  2.42729201e+05\n",
      " -1.23000000e+02 -1.23000000e+02 -1.84500000e+02 -1.84500000e+02\n",
      " -1.84500000e+02 -2.21400000e+02 -1.84500000e+02 -1.84500000e+02\n",
      "  1.57224167e+04 -1.84500000e+02 -1.84500000e+02 -1.23000000e+02\n",
      " -1.84500000e+02 -1.84500000e+02 -1.84500000e+02 -1.84500000e+02\n",
      " -1.84500000e+02  4.05100000e+02 -2.21400000e+02 -1.84500000e+02\n",
      " -2.21400000e+02 -1.84500000e+02 -1.84500000e+02 -1.84500000e+02\n",
      " -1.84500000e+02 -1.84500000e+02 -2.21400000e+02 -2.21400000e+02\n",
      "  3.10264904e+03 -1.84500000e+02 -1.84500000e+02 -1.84500000e+02\n",
      " -1.84500000e+02 -1.84500000e+02 -1.84500000e+02  9.30987500e+03\n",
      " -1.84500000e+02 -1.23000000e+02 -1.23000000e+02 -1.84500000e+02\n",
      " -1.84500000e+02 -1.84500000e+02 -1.84500000e+02 -1.84500000e+02\n",
      " -1.84500000e+02 -1.84500000e+02 -1.84500000e+02 -1.84500000e+02\n",
      " -1.84500000e+02 -1.84500000e+02 -1.84500000e+02 -1.84500000e+02\n",
      " -1.84500000e+02 -1.84500000e+02 -1.84500000e+02 -1.84500000e+02\n",
      " -1.84500000e+02 -2.21400000e+02 -2.21400000e+02 -1.84500000e+02\n",
      " -1.84500000e+02 -1.84500000e+02 -1.84500000e+02 -1.84500000e+02\n",
      " -1.84500000e+02 -1.84500000e+02 -1.84500000e+02 -1.84500000e+02\n",
      " -1.84500000e+02 -1.84500000e+02 -1.84500000e+02 -1.84500000e+02\n",
      " -1.84500000e+02 -1.84500000e+02 -1.84500000e+02 -1.84500000e+02\n",
      " -1.84500000e+02 -1.84500000e+02 -1.84500000e+02 -1.84500000e+02\n",
      " -1.84500000e+02 -1.84500000e+02 -1.84500000e+02 -1.84500000e+02\n",
      " -1.84500000e+02 -2.21400000e+02 -1.84500000e+02 -1.84500000e+02\n",
      " -1.84500000e+02 -1.23000000e+02 -1.84500000e+02 -1.84500000e+02\n",
      " -1.84500000e+02 -1.84500000e+02 -1.84500000e+02 -1.84500000e+02\n",
      " -1.84500000e+02 -1.84500000e+02 -1.84500000e+02 -1.84500000e+02\n",
      " -1.84500000e+02 -1.84500000e+02 -1.84500000e+02 -1.84500000e+02\n",
      " -1.84500000e+02 -1.84500000e+02 -1.84500000e+02 -1.84500000e+02\n",
      " -1.84500000e+02 -1.84500000e+02 -1.84500000e+02 -1.84500000e+02\n",
      " -1.84500000e+02 -1.84500000e+02 -1.84500000e+02 -2.21400000e+02\n",
      " -2.21400000e+02 -2.21400000e+02 -2.21400000e+02 -1.84500000e+02\n",
      " -1.84500000e+02 -1.84500000e+02 -2.21400000e+02 -2.21400000e+02\n",
      " -2.21400000e+02 -2.21400000e+02 -2.21400000e+02 -1.84500000e+02\n",
      " -1.84500000e+02 -1.84500000e+02 -1.84500000e+02 -1.84500000e+02\n",
      "  4.10874486e+04  6.76189000e+04 -1.84500000e+02 -1.84500000e+02\n",
      " -1.84500000e+02 -1.84500000e+02 -2.21400000e+02 -2.21400000e+02\n",
      " -1.84500000e+02  5.43535000e+04 -1.84500000e+02 -1.84500000e+02\n",
      " -1.84500000e+02 -1.84500000e+02 -1.84500000e+02 -1.84500000e+02\n",
      " -2.21400000e+02 -2.21400000e+02 -2.21400000e+02 -2.21400000e+02\n",
      " -2.21400000e+02  3.52094790e+03  2.76347838e+03 -2.21400000e+02\n",
      " -2.21400000e+02 -2.21400000e+02 -2.21400000e+02 -1.84500000e+02\n",
      " -1.84500000e+02 -1.84500000e+02 -1.84500000e+02 -1.84500000e+02\n",
      " -1.84500000e+02 -1.84500000e+02 -1.84500000e+02  4.52269333e+04\n",
      " -1.84500000e+02 -2.21400000e+02 -2.21400000e+02 -1.84500000e+02\n",
      " -1.84500000e+02 -1.84500000e+02 -1.84500000e+02 -1.84500000e+02\n",
      " -2.46000000e+02 -2.46000000e+02 -2.21400000e+02 -2.21400000e+02\n",
      "  0.00000000e+00  0.00000000e+00]\n"
     ]
    }
   ],
   "source": [
    "print(Shaply_result)"
   ]
  },
  {
   "cell_type": "code",
   "execution_count": 77,
   "metadata": {},
   "outputs": [],
   "source": [
    "#print(ShapelyBetweeness(G_sub))"
   ]
  },
  {
   "cell_type": "markdown",
   "metadata": {},
   "source": [
    "### Adding Attributes"
   ]
  },
  {
   "cell_type": "code",
   "execution_count": 78,
   "metadata": {},
   "outputs": [],
   "source": [
    "#G_sub.nodes"
   ]
  },
  {
   "cell_type": "code",
   "execution_count": 79,
   "metadata": {},
   "outputs": [
    {
     "data": {
      "text/plain": [
       "0"
      ]
     },
     "execution_count": 79,
     "metadata": {},
     "output_type": "execute_result"
    }
   ],
   "source": [
    "nx.set_node_attributes(G_sub, partition, \"community\")\n",
    "G_sub.nodes['4594575'][\"community\"]"
   ]
  },
  {
   "cell_type": "code",
   "execution_count": 80,
   "metadata": {},
   "outputs": [
    {
     "data": {
      "text/plain": [
       "0.1587516960651289"
      ]
     },
     "execution_count": 80,
     "metadata": {},
     "output_type": "execute_result"
    }
   ],
   "source": [
    "nx.set_node_attributes(G_sub, deg_centrality, \"degree\")\n",
    "G_sub.nodes['4594575'][\"degree\"]"
   ]
  },
  {
   "cell_type": "code",
   "execution_count": 81,
   "metadata": {},
   "outputs": [
    {
     "data": {
      "text/plain": [
       "0.5"
      ]
     },
     "execution_count": 81,
     "metadata": {},
     "output_type": "execute_result"
    }
   ],
   "source": [
    "nx.set_node_attributes(G_sub, close_centrality, \"closeness\")\n",
    "G_sub.nodes['4594575'][\"closeness\"]"
   ]
  },
  {
   "cell_type": "code",
   "execution_count": 82,
   "metadata": {},
   "outputs": [
    {
     "data": {
      "text/plain": [
       "0.004126751925457062"
      ]
     },
     "execution_count": 82,
     "metadata": {},
     "output_type": "execute_result"
    }
   ],
   "source": [
    "nx.set_node_attributes(G_sub, bet_centrality, \"betweenness\")\n",
    "G_sub.nodes['4594575'][\"betweenness\"]"
   ]
  },
  {
   "cell_type": "code",
   "execution_count": 83,
   "metadata": {},
   "outputs": [
    {
     "data": {
      "text/plain": [
       "0.0019938245870157"
      ]
     },
     "execution_count": 83,
     "metadata": {},
     "output_type": "execute_result"
    }
   ],
   "source": [
    "nx.set_node_attributes(G_sub, page_rank, \"page_rank\")\n",
    "G_sub.nodes['4594575'][\"page_rank\"]"
   ]
  },
  {
   "cell_type": "code",
   "execution_count": 84,
   "metadata": {},
   "outputs": [
    {
     "data": {
      "text/plain": [
       "{'4594575': 0.004126751925457062,\n",
       " '9649581': 0.0016674039903506867,\n",
       " '3313879': 0.0,\n",
       " '6138079': 0.000832180828395297,\n",
       " '6524595': 1.8951827141203775e-05,\n",
       " '6670222': 1.5947924683829054e-05,\n",
       " '6455997': 0.002672567430733187,\n",
       " '9582575': 0.002325539334202359,\n",
       " '4550719': 0.0005820802801097377,\n",
       " '1441624': 0.00129111520276552,\n",
       " '6608661': 0.0008892669571426078,\n",
       " '6159135': 0.013835227771744792,\n",
       " '7690572': 0.0036113536952805227,\n",
       " '9087840': 0.0008917810928677603,\n",
       " '3803338': 0.002089974352522594,\n",
       " '9972486': 0.0012830775410125463,\n",
       " '7067231': 0.0004743166528790723,\n",
       " '1003825': 0.002260450565759271,\n",
       " '6493517': 0.005939584361196965,\n",
       " '8503467': 0.0005441809204193607,\n",
       " '1865518': 0.004487429127536392,\n",
       " '5858806': 0.00129111520276552,\n",
       " '8546110': 0.00021809890527413293,\n",
       " '2399690': 0.0015595320756976153,\n",
       " '8139386': 0.00021809890527413293,\n",
       " '5163413': 4.525907517410776e-06,\n",
       " '1112599': 0.0005992201556313817,\n",
       " '5577398': 0.0004908811047945548,\n",
       " '1146339': 0.0012650114754578256,\n",
       " '7423418': 0.0004908811047945548,\n",
       " '3202604': 0.00013895666825050262,\n",
       " '3866212': 0.018350650240063937,\n",
       " '3267643': 0.005317194107413489,\n",
       " '4253784': 0.0005060946708139723,\n",
       " '6218893': 0.005149971077670345,\n",
       " '2998859': 0.016444816797466923,\n",
       " '2032624': 0.0,\n",
       " '1673698': 0.004217579352318178,\n",
       " '9404446': 0.0027646183723080454,\n",
       " '1106391': 0.00965245440927304,\n",
       " '5847548': 0.00040401754159010935,\n",
       " '9959855': 0.02743594528702309,\n",
       " '4320578': 4.6313710528260094e-06,\n",
       " '7871043': 0.0055085724358900955,\n",
       " '8317303': 4.6313710528260094e-06,\n",
       " '3069838': 0.0018291543098562756,\n",
       " '6020177': 0.005673622404084353,\n",
       " '3216939': 0.0036025432093906404,\n",
       " '3577122': 0.0,\n",
       " '5387658': 0.0016532516226375978,\n",
       " '4589257': 0.0,\n",
       " '9050924': 0.003597818775743926,\n",
       " '2551809': 0.005087191654311208,\n",
       " '3932931': 0.003711338758127077,\n",
       " '7793788': 9.889308630339154e-07,\n",
       " '3667194': 0.0024814051734607964,\n",
       " '5125270': 0.0042506752736015336,\n",
       " '2726935': 3.2121954711213785e-05,\n",
       " '8442295': 0.0013657924576851543,\n",
       " '7903662': 0.005520246206374235,\n",
       " '1481164': 0.004941797685325586,\n",
       " '6281912': 5.9405041635509356e-05,\n",
       " '8348725': 0.0,\n",
       " '2301132': 0.00010235395866891407,\n",
       " '9078686': 0.002379553819857206,\n",
       " '9457825': 0.0017382159021944908,\n",
       " '5247021': 0.0007414992846357414,\n",
       " '6371101': 3.687656649417042e-05,\n",
       " '6732139': 0.0019391826640474624,\n",
       " '1442662': 0.0675156981132638,\n",
       " '9208595': 0.09583329453420684,\n",
       " '9909304': 0.03211652460695476,\n",
       " '4005967': 0.0004665552092992369,\n",
       " '5795253': 0.0008955251738875144,\n",
       " '3866777': 0.004334342288210912,\n",
       " '1371145': 0.0004161843435467864,\n",
       " '3203462': 0.008887786845880383,\n",
       " '1165624': 0.027497099980471288,\n",
       " '6426616': 2.6197446948330746e-05,\n",
       " '4127040': 0.003135565903831471,\n",
       " '5037732': 8.0796500679018e-05,\n",
       " '6670518': 0.0024594993849354424,\n",
       " '6065696': 0.002061067928622874,\n",
       " '7695380': 0.00013692062039390924,\n",
       " '1223484': 9.211463937238597e-05,\n",
       " '3126825': 0.002938193355329141,\n",
       " '5337921': 0.003538256685529885,\n",
       " '3291499': 0.0036788964307306036,\n",
       " '7849397': 0.00013692062039390924,\n",
       " '5811293': 0.009250105193850139,\n",
       " '9138329': 0.0005302600315050554,\n",
       " '5147462': 0.006412706988715368,\n",
       " '5766515': 0.01109765233907014,\n",
       " '4236268': 0.009615219536599509,\n",
       " '2654860': 1.3849537082772324e-05,\n",
       " '3787271': 0.007591236993315549,\n",
       " '1274638': 0.001542547140344947,\n",
       " '8586032': 0.0013450721342762085,\n",
       " '3421528': 0.0007485326278869089,\n",
       " '9466115': 0.0007618715792483951,\n",
       " '5825668': 0.010173934176115848,\n",
       " '7421715': 0.0003989655392631943,\n",
       " '2523144': 0.0015294044089250484,\n",
       " '5735979': 0.0011885555290536945,\n",
       " '8534792': 0.006896397045177444,\n",
       " '3711749': 0.0032316041529663543,\n",
       " '3810917': 0.001709738373145996,\n",
       " '4929492': 0.006144775388368825,\n",
       " '1673992': 0.005775213622219648,\n",
       " '9417214': 0.007423669583482638,\n",
       " '1439310': 0.0,\n",
       " '2446753': 0.01015280201791013,\n",
       " '1772098': 0.005887474757865297,\n",
       " '5115594': 0.013192011262494021,\n",
       " '9307243': 0.0012148139909200057,\n",
       " '4323369': 0.003551701744299134,\n",
       " '5316813': 0.017707043134769382,\n",
       " '1964669': 0.00028120666530208615,\n",
       " '4045740': 0.007205078641909168,\n",
       " '3445792': 0.006305333810568403,\n",
       " '6570550': 0.002316325851488481,\n",
       " '6961628': 0.00020364628572620263,\n",
       " '4701360': 6.079339605063141e-07,\n",
       " '9354800': 0.0031889957807885796,\n",
       " '4305026': 0.0067587698951459664,\n",
       " '3937332': 0.0016704937192855765,\n",
       " '5516737': 5.970620039409889e-05,\n",
       " '1793245': 0.0011869255055321317,\n",
       " '9505769': 0.0018773031423708522,\n",
       " '2578648': 0.0008852995942979677,\n",
       " '2441703': 0.0018566795411410933,\n",
       " '7020981': 5.970620039409889e-05,\n",
       " '9896966': 0.00017944245109065458,\n",
       " '7677021': 0.0001627817809431488,\n",
       " '3766124': 0.0001627817809431488,\n",
       " '1478579': 0.00017944245109065458,\n",
       " '2015078': 0.0012311950902769932,\n",
       " '6589515': 0.0004325677687449929,\n",
       " '7277798': 0.00011555119371267157,\n",
       " '7889755': 0.00020684047422443171,\n",
       " '1567926': 0.0004129968718245729,\n",
       " '3180976': 0.0003939480493067233,\n",
       " '4688415': 0.00020684047422443171,\n",
       " '3660967': 0.00027214276937475624,\n",
       " '7032056': 0.00025391041826239606,\n",
       " '7856882': 0.00027214276937475624,\n",
       " '7005996': 9.601776999250235e-05,\n",
       " '8440108': 0.00037021338645314795,\n",
       " '5800071': 0.0004002687088379285,\n",
       " '4024280': 0.0,\n",
       " '8462339': 0.0,\n",
       " '6343786': 2.5722337196173478e-05,\n",
       " '9014591': 0.0004614273359875856,\n",
       " '4364848': 0.002682460391469204,\n",
       " '5543463': 0.00025453818691075576,\n",
       " '9439026': 0.0028920495013439688,\n",
       " '1151261': 0.0,\n",
       " '6561192': 0.005957300897608264,\n",
       " '6355372': 0.032902476696140805,\n",
       " '9805906': 0.00038278099223947596,\n",
       " '5240849': 0.00022823002129164225,\n",
       " '5353779': 0.0014071486534108209,\n",
       " '7165979': 9.138619418873036e-05,\n",
       " '2897777': 9.138619418873036e-05,\n",
       " '2265844': 0.00010242276745853103,\n",
       " '4616698': 0.0002101683312718004,\n",
       " '2592830': 0.005965578291135079,\n",
       " '7735771': 0.006974935300324988,\n",
       " '4757531': 0.0021433701088359723,\n",
       " '7609194': 0.0029806511609508472,\n",
       " '4841017': 0.006671428328353971,\n",
       " '3369951': 0.003915789748220301,\n",
       " '3509702': 0.0,\n",
       " '6856334': 0.0,\n",
       " '3636164': 0.0043844206230329395,\n",
       " '9404978': 2.718037998827711e-05,\n",
       " '4397146': 0.003888164601357943,\n",
       " '8473298': 0.013252559436929446,\n",
       " '7721952': 0.00019319721753603602,\n",
       " '7567736': 0.009717633003848406,\n",
       " '6311554': 0.00019150085793664083,\n",
       " '9617858': 0.00019150085793664083,\n",
       " '1539700': 0.013684056790635215,\n",
       " '7724108': 0.008854993247456526,\n",
       " '1406975': 0.0001351724357033018,\n",
       " '6144515': 9.443864330180457e-05,\n",
       " '2098707': 9.443864330180457e-05,\n",
       " '2978392': 9.443864330180457e-05,\n",
       " '5850425': 0.0001351724357033018,\n",
       " '8998615': 0.00027707951939320765,\n",
       " '4213188': 0.0,\n",
       " '6093075': 0.0,\n",
       " '3326942': 0.0,\n",
       " '8585733': 0.0072554301087373735,\n",
       " '1548416': 0.0015093908086595926,\n",
       " '6599160': 2.055902098894258e-07,\n",
       " '4257439': 0.0008681250533770662,\n",
       " '5558538': 0.0001987481146788263,\n",
       " '3923346': 0.0,\n",
       " '6270066': 0.0009243332117501609,\n",
       " '8860879': 0.0031689886330993787,\n",
       " '2541098': 0.0,\n",
       " '4449011': 0.005687022483517342,\n",
       " '4664490': 0.0,\n",
       " '4063666': 0.00047495894273355625,\n",
       " '1581691': 0.0,\n",
       " '2454859': 0.0008802995110158158,\n",
       " '8962643': 0.00527857808439342,\n",
       " '4843564': 0.005621242979399324,\n",
       " '1338626': 0.0002402033532965358,\n",
       " '5612616': 0.00912929445813772,\n",
       " '1373064': 0.0023854006296304964,\n",
       " '7658856': 0.0013074659868383312,\n",
       " '2065728': 0.004220892555789486,\n",
       " '3304037': 0.01516805205722395,\n",
       " '8533862': 0.0007801449287557406,\n",
       " '5732888': 0.0007256578614362313,\n",
       " '9010746': 0.0018601439823403966,\n",
       " '7391163': 0.02565245496132463,\n",
       " '3879610': 0.00016142912988414103,\n",
       " '5691668': 0.0001357628138479782,\n",
       " '9164524': 0.0001357628138479782,\n",
       " '5327212': 0.0001139518253249397,\n",
       " '9401989': 7.429747742097328e-05,\n",
       " '1482658': 0.003591997431506178,\n",
       " '9751098': 0.0024870806116193598,\n",
       " '2212542': 0.00026569582282313855,\n",
       " '8881147': 0.0003745886277014662,\n",
       " '6555428': 0.0037520584357718357,\n",
       " '9200538': 0.0008027286045601541,\n",
       " '1604074': 0.0014795812697101778,\n",
       " '9263856': 0.0005153756087621391,\n",
       " '1669798': 4.257390979924959e-06,\n",
       " '1902870': 0.0005880587463895138,\n",
       " '8480716': 0.03277587141448449,\n",
       " '1261945': 0.00404146972211532,\n",
       " '6063179': 0.006984609969523223,\n",
       " '8072660': 0.029491965199991102,\n",
       " '7206475': 0.00020191470454548207,\n",
       " '1716134': 7.693979399068367e-05,\n",
       " '7269142': 9.659587590138169e-05,\n",
       " '9753691': 0.00025249910583111345,\n",
       " '6919148': 0.0007624497142937855,\n",
       " '6548577': 0.004541501298753753,\n",
       " '3938423': 0.0007877264579369707,\n",
       " '4735423': 0.0001361581900806505,\n",
       " '4615722': 0.0005540297757187257,\n",
       " '8788229': 0.01747114086905078,\n",
       " '6177946': 0.0003419475889881681,\n",
       " '2154724': 0.003766541093032246,\n",
       " '5137910': 0.025915199613469924,\n",
       " '9196253': 0.0,\n",
       " '7549028': 0.0003068232036539832,\n",
       " '6603497': 3.7921402675528106e-05,\n",
       " '5506452': 0.00020997166997239713,\n",
       " '7646446': 0.00033439505760868976,\n",
       " '6401065': 0.00033439505760868976,\n",
       " '5521884': 0.00032794676267078305,\n",
       " '5670389': 0.0003547688892526187,\n",
       " '8116815': 0.0002453760757250564,\n",
       " '9977818': 0.006565723610341017,\n",
       " '2681667': 7.918380981612935e-05,\n",
       " '1682770': 0.011869809001815244,\n",
       " '5550092': 0.00044316277500621685,\n",
       " '8314913': 0.0076664212819926025,\n",
       " '1240052': 0.00018314665265219712,\n",
       " '9842858': 0.0002142868786047854,\n",
       " '9674423': 0.00025095248945733206,\n",
       " '6266138': 7.153718209019781e-06,\n",
       " '4853294': 0.0,\n",
       " '2388443': 0.005031019175626665,\n",
       " '6375956': 0.0011825347294637108,\n",
       " '6060622': 0.003887248691440159,\n",
       " '8360528': 0.0038607338098436304,\n",
       " '6312773': 0.0016752188270186417,\n",
       " '2450089': 0.00017512616535783008,\n",
       " '4937216': 0.002829176811825249,\n",
       " '6857831': 9.978543802895537e-05,\n",
       " '5802591': 0.0001762139870045458,\n",
       " '4859713': 0.00021135051265995256,\n",
       " '3806946': 0.0008523711653449495,\n",
       " '4989332': 0.0002025869491181345,\n",
       " '3317272': 2.5243716917763082e-05,\n",
       " '3207163': 2.5343622221534512e-06,\n",
       " '7538853': 0.00011849504453331582,\n",
       " '6692800': 1.6898516645027795e-05,\n",
       " '1601009': 0.0002868079672001097,\n",
       " '8506843': 0.0009419612986785387,\n",
       " '1882463': 0.00010013167030452396,\n",
       " '3207118': 0.0001251441875701616,\n",
       " '1010447': 0.00019233600445338762,\n",
       " '4522049': 0.00017963039615556513,\n",
       " '7032663': 0.0001615946620035858,\n",
       " '6333011': 8.845430424730465e-05,\n",
       " '8657818': 0.00014032791810841523,\n",
       " '4413106': 0.00014032791810841523,\n",
       " '3517320': 0.0015269944657312516,\n",
       " '9713335': 0.000995786742002371,\n",
       " '2322857': 0.004817912197511727,\n",
       " '9380195': 1.6898516645027795e-05,\n",
       " '8583103': 9.643878613689353e-05,\n",
       " '9280279': 7.327312787165184e-05,\n",
       " '2422972': 0.0013400259744974076,\n",
       " '4694186': 0.00018227078440747905,\n",
       " '2757226': 0.0003154942806596088,\n",
       " '4290555': 0.00032362322437327575,\n",
       " '3814713': 0.0007535978166464343,\n",
       " '6772048': 0.0018584543399165394,\n",
       " '7365078': 0.000254947276788315,\n",
       " '4194156': 0.0043104313941098255,\n",
       " '9613908': 0.0007818122625625487,\n",
       " '4582197': 0.0001576379113032236,\n",
       " '3071316': 0.0005221424567905813,\n",
       " '7127649': 4.3556501905825645e-05,\n",
       " '9265778': 0.0011843656091547763,\n",
       " '2462595': 0.006676642788594691,\n",
       " '8139113': 1.893306660926353e-05,\n",
       " '8144821': 0.0012126353287370047,\n",
       " '3344258': 0.006307678129106818,\n",
       " '5157457': 0.0001178673897257821,\n",
       " '5944181': 0.0,\n",
       " '9876210': 0.004452940376881436,\n",
       " '5947540': 0.004492230035800894,\n",
       " '5817645': 0.00012020629779643254,\n",
       " '7622254': 0.0001316342917157141,\n",
       " '4041378': 0.0018858801895000545,\n",
       " '6084667': 0.0001318156863675599,\n",
       " '9552403': 0.0008356547479721407,\n",
       " '8035015': 0.0005071307003686461,\n",
       " '3491603': 0.00012975454030906395,\n",
       " '2011408': 0.0002282000686677572,\n",
       " '9516300': 5.30811535076817e-06,\n",
       " '6769230': 5.30811535076817e-06,\n",
       " '5256108': 9.873075727791479e-05,\n",
       " '8370257': 0.0007744629033727255,\n",
       " '4102683': 0.0028910842578066046,\n",
       " '4983027': 0.0010106738866239393,\n",
       " '5994341': 0.006510395135196776,\n",
       " '8276042': 0.009926687275704579,\n",
       " '5207072': 0.006988195285413721,\n",
       " '9084703': 0.0004468082982648382,\n",
       " '5720903': 0.0,\n",
       " '8250622': 4.7699825299611114e-05,\n",
       " '8286683': 0.0,\n",
       " '3473370': 0.0029717228136956603,\n",
       " '2848137': 0.00022367127386224678,\n",
       " '2035679': 0.00018250357953310332,\n",
       " '7430171': 9.19845132471514e-05,\n",
       " '8989174': 9.19845132471514e-05,\n",
       " '6950661': 0.00021105801751293207,\n",
       " '9915744': 0.00017910424968191094,\n",
       " '9833667': 0.003060834223510637,\n",
       " '1144143': 0.0,\n",
       " '4932259': 0.00887488974441314,\n",
       " '5408961': 0.00028786751455419675,\n",
       " '6086120': 0.009808137854565701,\n",
       " '2289871': 0.004016016342226648,\n",
       " '7916029': 5.475269108500677e-06,\n",
       " '9348336': 0.01081799806378574,\n",
       " '6676235': 0.0133243787011286,\n",
       " '4687815': 0.000661295222036393,\n",
       " '8635645': 0.0005650161487371917,\n",
       " '5178651': 0.00026206697709316824,\n",
       " '5397075': 0.0,\n",
       " '9929352': 0.00082128744647851,\n",
       " '4263776': 0.00709131167734802,\n",
       " '4005577': 0.006062657095363364,\n",
       " '8648325': 0.0007249498043460014,\n",
       " '3645646': 0.0,\n",
       " '8140278': 0.000749432401052434,\n",
       " '9538721': 0.003695279482753326,\n",
       " '8382871': 0.009825178419062532,\n",
       " '4422525': 0.0,\n",
       " '2343081': 0.0012198038723940864,\n",
       " '8183412': 0.03372926067425677,\n",
       " '1432420': 0.0020401138142691565,\n",
       " '2670588': 0.004175334039936703,\n",
       " '7584947': 0.006347133519506339,\n",
       " '4470266': 0.004621430139992365,\n",
       " '9325236': 0.0,\n",
       " '9872471': 0.0005317789599801832,\n",
       " '5443940': 0.008777139745928763,\n",
       " '2629180': 0.011014858216931553,\n",
       " '7809866': 0.0018579730596299056,\n",
       " '6658589': 0.0008657255651756511,\n",
       " '1640739': 0.009133926625849336,\n",
       " '6054812': 0.0003511884971613257,\n",
       " '4695871': 0.0,\n",
       " '8699714': 1.8257369850067985e-07,\n",
       " '2187296': 8.357632010411487e-05,\n",
       " '1895083': 3.0505926039646773e-05,\n",
       " '7394956': 2.9042259821688765e-05,\n",
       " '1357517': 5.030664428016496e-05,\n",
       " '8778169': 7.374196212612825e-07,\n",
       " '1763712': 1.5171823754524732e-05,\n",
       " '5011163': 1.1976338729059172e-05,\n",
       " '9697658': 3.781944295636951e-05,\n",
       " '5085316': 0.0,\n",
       " '8299568': 8.460711461271897e-06,\n",
       " '1153561': 5.396570864684842e-06,\n",
       " '3386962': 8.460711461271897e-06,\n",
       " '8743531': 2.63364150450458e-07,\n",
       " '1698569': 0.0,\n",
       " '6040146': 0.0,\n",
       " '9730008': 0.0,\n",
       " '1380939': 0.0,\n",
       " '3245825': 0.0,\n",
       " '2208282': 4.922021654339022e-05,\n",
       " '2566564': 2.1854882757471665e-05,\n",
       " '2690989': 1.3404802208308054e-05,\n",
       " '4780550': 0.0,\n",
       " '4317599': 1.3404802208308054e-05,\n",
       " '2879757': 1.3404802208308054e-05,\n",
       " '6833039': 0.01355599806585368,\n",
       " '4758198': 1.3404802208308054e-05,\n",
       " '5935727': 0.0,\n",
       " '2234701': 0.0,\n",
       " '1998223': 9.868503765549252e-06,\n",
       " '3549989': 0.0011280294551003994,\n",
       " '2209337': 0.0026123291959180895,\n",
       " '1419529': 0.00026856470615478655,\n",
       " '2170568': 0.001689005357454756,\n",
       " '6147490': 0.0002612953449446346,\n",
       " '3161703': 0.0019673817107741663,\n",
       " '4378979': 0.00034601423936081634,\n",
       " '6482975': 0.0006927784898661253,\n",
       " '5124136': 0.0,\n",
       " '4682713': 0.0,\n",
       " '2716152': 4.314367885713347e-05,\n",
       " '2770133': 0.004279114893946318,\n",
       " '1821182': 0.0021337561155618267,\n",
       " '5512420': 1.005836384800078e-05,\n",
       " '2133568': 0.00930861285565559,\n",
       " '7107684': 0.001968544568522959,\n",
       " '5385581': 0.000300636538455228,\n",
       " '5600632': 0.0,\n",
       " '9439312': 0.00012475709044513388,\n",
       " '2193627': 0.00031177226707417884,\n",
       " '7016785': 0.00012475709044513388,\n",
       " '4678831': 0.0,\n",
       " '9893168': 0.0011157682614382487,\n",
       " '7764831': 0.0,\n",
       " '9721767': 0.00016396595215790031,\n",
       " '6336152': 0.0004052834650009967,\n",
       " '6565505': 0.00012475709044513388,\n",
       " '4839944': 0.00012475709044513388,\n",
       " '2890135': 0.00012475709044513388,\n",
       " '7889860': 0.00012475709044513388,\n",
       " '2115814': 0.0017477350377884235,\n",
       " '4903506': 0.00014941433285215123,\n",
       " '7114194': 5.9383013744784964e-05,\n",
       " '3239429': 7.351519788559989e-05,\n",
       " '8266898': 0.00038269668305890075,\n",
       " '3449908': 0.00032901681607547196,\n",
       " '9625349': 0.0,\n",
       " '9016426': 0.0,\n",
       " '2418926': 0.0,\n",
       " '8714809': 0.0005650635092700446,\n",
       " '6412869': 0.0,\n",
       " '8274751': 0.0,\n",
       " '3964253': 0.0,\n",
       " '2101618': 0.0,\n",
       " '9077507': 7.527548195025775e-05,\n",
       " '2042940': 0.0,\n",
       " '7896636': 0.0,\n",
       " '7345768': 0.0039976625558814415,\n",
       " '3059888': 9.199458181318036e-05,\n",
       " '5518411': 0.0006912138758384236,\n",
       " '5295020': 0.0005235210756489243,\n",
       " '1301170': 1.0439807574839303e-05,\n",
       " '3796675': 0.0,\n",
       " '1970296': 0.0,\n",
       " '3389944': 0.0,\n",
       " '6312519': 2.5946245933267346e-07,\n",
       " '9127816': 9.141028178007553e-05,\n",
       " '1495225': 3.095194182307459e-05,\n",
       " '6872874': 9.137288933297458e-05,\n",
       " '9087721': 0.0021129238347475906,\n",
       " '8819988': 8.533260845776646e-05,\n",
       " '1823845': 0.0008330484137767732,\n",
       " '8054052': 0.0,\n",
       " '2067164': 1.0134699067316473e-05,\n",
       " '5799791': 1.737684048835326e-05,\n",
       " '2184890': 1.737684048835326e-05,\n",
       " '9980804': 0.0,\n",
       " '8290754': 1.4612317139340807e-05,\n",
       " '4419076': 1.4612317139340807e-05,\n",
       " '7973442': 1.968300761947427e-05,\n",
       " '9400978': 1.4612317139340807e-05,\n",
       " '3253395': 0.0007643950355778271,\n",
       " '7312676': 0.0004196038966943067,\n",
       " '5521504': 0.00013693192769856848,\n",
       " '7635273': 1.9431455240770267e-06,\n",
       " '6112796': 8.842588153751186e-05,\n",
       " '7218041': 8.919635886145237e-05,\n",
       " '4091261': 0.0,\n",
       " '9812008': 0.0,\n",
       " '5330968': 0.0006447226386096825,\n",
       " '7333594': 0.00039088028172468153,\n",
       " '4470779': 0.01625941471559962,\n",
       " '8264110': 0.0,\n",
       " '6302078': 0.0,\n",
       " '6701602': 0.0009780385761138687,\n",
       " '7583147': 6.265849376333422e-06,\n",
       " '3601215': 0.00044910088439893334,\n",
       " '9005923': 0.0006649973342217351,\n",
       " '2146914': 0.0002650442769537724,\n",
       " '9776065': 0.00044910088439893334,\n",
       " '4315312': 0.00044910088439893334,\n",
       " '5433690': 5.353786906917969e-05,\n",
       " '7597459': 0.0001960603572181318,\n",
       " '6398117': 0.0002953871795583635,\n",
       " '6141129': 2.577591706638418e-06,\n",
       " '4002124': 7.735162856296277e-05,\n",
       " '2664733': 4.982645176579005e-06,\n",
       " '2634051': 0.0,\n",
       " '5055812': 0.0,\n",
       " '9747852': 0.0,\n",
       " '6309202': 0.0,\n",
       " '7553286': 0.0,\n",
       " '9220276': 0.0,\n",
       " '6837176': 0.0,\n",
       " '2138234': 0.0008203405542843579,\n",
       " '2379322': 0.0008203405542843579,\n",
       " '4604437': 0.0008203405542843579,\n",
       " '9259705': 0.0008203405542843579,\n",
       " '8063233': 8.821246503968725e-05,\n",
       " '8667181': 9.702052937853755e-06,\n",
       " '1990484': 1.0035474865552296e-05,\n",
       " '4921385': 0.004408850081867029,\n",
       " '7440304': 0.0007699897025454548,\n",
       " '3488016': 0.000557776356879173,\n",
       " '5658552': 1.882453135576713e-05,\n",
       " '3497147': 0.0008090002810581514,\n",
       " '8061391': 0.00035739291866931596,\n",
       " '4616966': 0.00035739291866931596,\n",
       " '2623856': 1.882453135576713e-05,\n",
       " '8136879': 0.0007699897025454548,\n",
       " '2978921': 0.0007699897025454548,\n",
       " '4997809': 0.0008879963200264116,\n",
       " '7369267': 8.994903765464025e-05,\n",
       " '2031904': 0.0008879963200264116,\n",
       " '1243239': 0.00029239122932553336,\n",
       " '5975451': 9.2571989703012e-05,\n",
       " '2746315': 9.2571989703012e-05,\n",
       " '2238822': 0.0,\n",
       " '3921443': 0.0039987166445499996,\n",
       " '5321484': 0.0005437600870468262,\n",
       " '1547754': 0.00019355542797372873,\n",
       " '5273869': 0.0016637591234370326,\n",
       " '1623855': 0.0,\n",
       " '6093204': 0.00024342624166957168,\n",
       " '9192468': 0.0,\n",
       " '2665012': 0.0,\n",
       " '7801602': 0.00012684811384308593,\n",
       " '7358829': 0.00012684811384308593,\n",
       " '4373382': 0.0,\n",
       " '7781617': 0.0,\n",
       " '2794736': 1.4532790746696093e-05,\n",
       " '7938161': 3.578857250954648e-05,\n",
       " '6971888': 1.4532790746696093e-05,\n",
       " '8382088': 0.0,\n",
       " '2570270': 0.0,\n",
       " '5804390': 0.00011619038931072867,\n",
       " '8336729': 0.0016103568452027382,\n",
       " '5463452': 8.761906523803438e-05,\n",
       " '2014577': 0.0,\n",
       " '4583448': 0.0,\n",
       " '6578669': 7.3160982229385555e-06,\n",
       " '2147332': 0.00014197261840450586,\n",
       " '2016960': 0.00014646261713246802,\n",
       " '4402851': 0.0,\n",
       " '5131882': 0.0,\n",
       " '6575560': 4.6190928928799926e-05,\n",
       " '7995389': 0.0,\n",
       " '7603677': 3.413979728061493e-07,\n",
       " '7284837': 0.0,\n",
       " '5275676': 6.461055202486327e-05,\n",
       " '2351228': 8.642906355538152e-06,\n",
       " '7560062': 1.350754919384329e-05,\n",
       " '3574808': 0.0,\n",
       " '4059502': 0.0,\n",
       " '4142678': 0.0,\n",
       " '8396640': 0.0,\n",
       " '6047831': 0.0002409910724197656,\n",
       " '5012353': 0.0,\n",
       " '5702574': 0.0,\n",
       " '2070408': 0.0,\n",
       " '5601892': 0.0,\n",
       " '5791258': 7.056370360733535e-05,\n",
       " '2504088': 0.0,\n",
       " '8186351': 0.00012518189119883763,\n",
       " '6759501': 0.0,\n",
       " '2559082': 0.0,\n",
       " '3450215': 0.0,\n",
       " '3213152': 0.0,\n",
       " '2982735': 0.00024025442999721846,\n",
       " '2826523': 0.0,\n",
       " '8992258': 0.0,\n",
       " '4279905': 0.0,\n",
       " '2634248': 0.0,\n",
       " '7530019': 0.0,\n",
       " '6263872': 0.0,\n",
       " '3082326': 0.0,\n",
       " '3141027': 0.0,\n",
       " '9362124': 0.0,\n",
       " '7577101': 0.0,\n",
       " '4251180': 0.0,\n",
       " '4225594': 0.0,\n",
       " '1813355': 0.0,\n",
       " '8234290': 0.0,\n",
       " '8598623': 0.0,\n",
       " '3663856': 0.0,\n",
       " '9386047': 1.6633879600280756e-05,\n",
       " '8881206': 0.0,\n",
       " '7831865': 0.0001617394775687459,\n",
       " '4858190': 0.0001617394775687459,\n",
       " '4702811': 0.0001617394775687459,\n",
       " '4093507': 0.0,\n",
       " '1447238': 0.0,\n",
       " '2217078': 0.0,\n",
       " '5598626': 0.0,\n",
       " '7925569': 0.0,\n",
       " '7561367': 0.0,\n",
       " '2707537': 0.0,\n",
       " '3365949': 0.0,\n",
       " '9365679': 0.0,\n",
       " '3440132': 0.0,\n",
       " '5285583': 0.0,\n",
       " '2914038': 0.0,\n",
       " '4120780': 0.0014059876196598532,\n",
       " '4698268': 0.0,\n",
       " '2200974': 0.0,\n",
       " '3099348': 0.0,\n",
       " '1601444': 0.0,\n",
       " '2040196': 0.0,\n",
       " '2492718': 0.0,\n",
       " '5644858': 0.0,\n",
       " '8839757': 0.0,\n",
       " '8553272': 0.0,\n",
       " '7989758': 6.062627736865245e-07,\n",
       " '9002963': 0.0,\n",
       " '4397174': 0.0,\n",
       " '1370310': 0.0,\n",
       " '3623451': 0.0,\n",
       " '3500982': 0.0,\n",
       " '9108482': 3.6219021881215703e-06,\n",
       " '2655742': 0.0,\n",
       " '8777431': 0.0,\n",
       " '7755028': 0.0,\n",
       " '8923506': 0.0,\n",
       " '9216834': 1.1714665021308817e-05,\n",
       " '4043459': 1.1714665021308817e-05,\n",
       " '3391909': 0.000956572884996327,\n",
       " '7127213': 0.000884647531484433,\n",
       " '2167961': 0.0,\n",
       " '3939426': 0.0,\n",
       " '3190456': 0.0,\n",
       " '5907279': 0.0,\n",
       " '2783071': 0.0,\n",
       " '3180404': 0.0,\n",
       " '6796337': 0.0,\n",
       " '1614462': 1.3514049134566385e-05,\n",
       " '6294927': 1.3514049134566385e-05,\n",
       " '3120419': 0.0,\n",
       " '9644284': 0.0,\n",
       " '9994449': 0.0,\n",
       " '3688309': 0.0,\n",
       " '5176750': 0.0,\n",
       " '8690443': 0.0,\n",
       " '7304224': 0.0,\n",
       " '1111434': 0.0,\n",
       " '6672326': 0.0,\n",
       " '5312426': 0.0,\n",
       " '5892897': 0.0,\n",
       " '6122627': 5.014677222378924e-06,\n",
       " '1086236': 0.0,\n",
       " '9729681': 0.0,\n",
       " '4835987': 0.0,\n",
       " '9531246': 0.0,\n",
       " '8842819': 4.610307593063101e-05,\n",
       " '1871196': 1.31682075225229e-07,\n",
       " '1332198': 0.0,\n",
       " '3548917': 1.8054065415018936e-05,\n",
       " '5527429': 1.8054065415018936e-05,\n",
       " '6572255': 1.8054065415018936e-05,\n",
       " '5774961': 1.8054065415018936e-05,\n",
       " '3889629': 0.0,\n",
       " '2041234': 0.004943174613234253,\n",
       " '9129126': 0.006609272120916627,\n",
       " '2204064': 1.8054065415018936e-05,\n",
       " '9265063': 1.8054065415018936e-05,\n",
       " '5549384': 0.0,\n",
       " '8023529': 0.0005953521046708224,\n",
       " '1779908': 1.3414172239610265e-05,\n",
       " '7442727': 0.0,\n",
       " '3189927': 0.0,\n",
       " '6852335': 0.005420034216270426,\n",
       " '3076137': 0.0,\n",
       " '1946725': 0.0,\n",
       " '8041716': 0.0,\n",
       " '2390965': 0.0,\n",
       " '5628655': 0.0,\n",
       " '4208442': 0.0,\n",
       " '2386294': 0.0,\n",
       " '1889962': 0.0,\n",
       " '1423806': 0.0,\n",
       " '7154174': 0.0,\n",
       " '6302208': 6.145163510510687e-07,\n",
       " '3490914': 0.00050434339918551,\n",
       " '8377417': 0.00038839950293828736,\n",
       " '3234808': 6.145163510510687e-07,\n",
       " '9732856': 6.145163510510687e-07,\n",
       " '6058605': 6.145163510510687e-07,\n",
       " '3382078': 0.0,\n",
       " '5783052': 1.2290327021021373e-05,\n",
       " '2823156': 0.0,\n",
       " '3068885': 2.279855662399465e-05,\n",
       " '1755791': 0.0,\n",
       " '6972791': 0.0,\n",
       " '6516448': 0.0,\n",
       " '2537746': 0.0,\n",
       " '3858162': 0.0,\n",
       " '3429229': 0.005420034216270426,\n",
       " '4362206': 0.0,\n",
       " '4061000': 0.0,\n",
       " '3039147': 0.0,\n",
       " '2989824': 0.0,\n",
       " '7522793': 0.0,\n",
       " '5745168': 0.0,\n",
       " '6188539': 0.0,\n",
       " '3944349': 0.0,\n",
       " '7597885': 0.0,\n",
       " '9664885': 0.0,\n",
       " '8224924': 0.0,\n",
       " '1484821': 0.0,\n",
       " '9268869': 0.0,\n",
       " '1772920': 0.0}"
      ]
     },
     "execution_count": 84,
     "metadata": {},
     "output_type": "execute_result"
    }
   ],
   "source": [
    "nx.get_node_attributes(G_sub,\"betweenness\" )"
   ]
  },
  {
   "cell_type": "markdown",
   "metadata": {},
   "source": [
    "### Plotting "
   ]
  },
  {
   "cell_type": "code",
   "execution_count": null,
   "metadata": {},
   "outputs": [],
   "source": [
    "import networkx as nx\n",
    "import matplotlib.pyplot as plt\n",
    "\n",
    "sw0 = nx.watts_strogatz_graph(300,3,0.05)\n",
    "dcent = nx.degree_centrality(sw0)\n",
    "dcent_color = [dcent[i] for i in range(len(dcent))]\n",
    "ecent = nx.degree_centrality(sw0)\n",
    "bcent = nx.betweenness_centrality(sw0)\n",
    "ccent = nx.closeness_centrality(sw0)\n",
    "\n",
    "plt.figure(1)\n",
    "nx.draw(sw0,pos=None,with_labels=False,node_size=5,node_color=dcent_color,width=0.05)\n",
    "plt.savefig(\"sw0.png\",dpi=500)\n"
   ]
  },
  {
   "cell_type": "code",
   "execution_count": 119,
   "metadata": {},
   "outputs": [
    {
     "data": {
      "text/plain": [
       "dict"
      ]
     },
     "execution_count": 119,
     "metadata": {},
     "output_type": "execute_result"
    }
   ],
   "source": [
    "type(deg_centrality)"
   ]
  },
  {
   "cell_type": "code",
   "execution_count": 117,
   "metadata": {},
   "outputs": [
    {
     "ename": "NameError",
     "evalue": "name 'labels' is not defined",
     "output_type": "error",
     "traceback": [
      "\u001b[0;31m---------------------------------------------------------------------------\u001b[0m",
      "\u001b[0;31mNameError\u001b[0m                                 Traceback (most recent call last)",
      "\u001b[0;32m<ipython-input-117-8c60f3a5c385>\u001b[0m in \u001b[0;36m<module>\u001b[0;34m\u001b[0m\n\u001b[1;32m     11\u001b[0m \u001b[0mnx\u001b[0m\u001b[0;34m.\u001b[0m\u001b[0mdraw_networkx_nodes\u001b[0m\u001b[0;34m(\u001b[0m\u001b[0mG_sub\u001b[0m\u001b[0;34m,\u001b[0m \u001b[0mlayout\u001b[0m\u001b[0;34m,\u001b[0m \u001b[0mnodelist\u001b[0m\u001b[0;34m=\u001b[0m\u001b[0mlarge\u001b[0m\u001b[0;34m,\u001b[0m \u001b[0mnode_size\u001b[0m\u001b[0;34m=\u001b[0m\u001b[0;36m100\u001b[0m\u001b[0;34m)\u001b[0m\u001b[0;34m\u001b[0m\u001b[0;34m\u001b[0m\u001b[0m\n\u001b[1;32m     12\u001b[0m \u001b[0mnx\u001b[0m\u001b[0;34m.\u001b[0m\u001b[0mdraw_networkx_nodes\u001b[0m\u001b[0;34m(\u001b[0m\u001b[0mG_sub\u001b[0m\u001b[0;34m,\u001b[0m \u001b[0mlayout\u001b[0m\u001b[0;34m,\u001b[0m \u001b[0mnodelist\u001b[0m\u001b[0;34m=\u001b[0m\u001b[0msmall\u001b[0m\u001b[0;34m,\u001b[0m \u001b[0mnode_size\u001b[0m\u001b[0;34m=\u001b[0m\u001b[0;36m1500\u001b[0m\u001b[0;34m)\u001b[0m\u001b[0;34m\u001b[0m\u001b[0;34m\u001b[0m\u001b[0m\n\u001b[0;32m---> 13\u001b[0;31m \u001b[0mnx\u001b[0m\u001b[0;34m.\u001b[0m\u001b[0mdraw_networkx_edge_labels\u001b[0m\u001b[0;34m(\u001b[0m\u001b[0mG_sub\u001b[0m\u001b[0;34m,\u001b[0m \u001b[0mlayout\u001b[0m\u001b[0;34m,\u001b[0m \u001b[0medge_labels\u001b[0m\u001b[0;34m=\u001b[0m\u001b[0mlabels\u001b[0m\u001b[0;34m)\u001b[0m\u001b[0;34m\u001b[0m\u001b[0;34m\u001b[0m\u001b[0m\n\u001b[0m\u001b[1;32m     14\u001b[0m \u001b[0mnx\u001b[0m\u001b[0;34m.\u001b[0m\u001b[0mdraw_networkx_labels\u001b[0m\u001b[0;34m(\u001b[0m\u001b[0mG_sub\u001b[0m\u001b[0;34m,\u001b[0m \u001b[0mlayout\u001b[0m\u001b[0;34m,\u001b[0m \u001b[0mlabels\u001b[0m\u001b[0;34m=\u001b[0m\u001b[0mlab_node\u001b[0m\u001b[0;34m,\u001b[0m \u001b[0mfont_size\u001b[0m\u001b[0;34m=\u001b[0m\u001b[0;36m10\u001b[0m\u001b[0;34m,\u001b[0m \u001b[0mfont_family\u001b[0m\u001b[0;34m=\u001b[0m\u001b[0;34m'sans-serif'\u001b[0m\u001b[0;34m)\u001b[0m\u001b[0;34m\u001b[0m\u001b[0;34m\u001b[0m\u001b[0m\n\u001b[1;32m     15\u001b[0m \u001b[0mplt\u001b[0m\u001b[0;34m.\u001b[0m\u001b[0maxis\u001b[0m\u001b[0;34m(\u001b[0m\u001b[0;34m\"off\"\u001b[0m\u001b[0;34m)\u001b[0m\u001b[0;34m\u001b[0m\u001b[0;34m\u001b[0m\u001b[0m\n",
      "\u001b[0;31mNameError\u001b[0m: name 'labels' is not defined"
     ]
    },
    {
     "data": {
      "image/png": "[encoded data removed]",
      "text/plain": [
       "<Figure size 432x288 with 1 Axes>"
      ]
     },
     "metadata": {
      "needs_background": "light"
     },
     "output_type": "display_data"
    }
   ],
   "source": [
    "layout = nx.spring_layout(G_sub)\n",
    "large = []\n",
    "small = []\n",
    "d = G.degree(weight='weight')\n",
    "for node in G_sub:\n",
    "    if d[node] > 4: \n",
    "        large.append(node)\n",
    "    else:\n",
    "        small.append(node)\n",
    "nx.draw_networkx_edges(G_sub, layout)\n",
    "nx.draw_networkx_nodes(G_sub, layout, nodelist=large, node_size=100)\n",
    "nx.draw_networkx_nodes(G_sub, layout, nodelist=small, node_size=1500)\n",
    "nx.draw_networkx_edge_labels(G_sub, layout, edge_labels=labels)\n",
    "nx.draw_networkx_labels(G_sub, layout, labels=lab_node, font_size=10, font_family='sans-serif')\n",
    "plt.axis(\"off\")\n",
    "plt.show()\n"
   ]
  },
  {
   "cell_type": "markdown",
   "metadata": {},
   "source": [
    "### Gephi"
   ]
  },
  {
   "cell_type": "code",
   "execution_count": 86,
   "metadata": {},
   "outputs": [],
   "source": [
    "nx.write_gexf(G_sub, \"gephi_updated.gexf\")"
   ]
  },
  {
   "cell_type": "code",
   "execution_count": 87,
   "metadata": {},
   "outputs": [],
   "source": [
    "G_sub_removed = G_sub\n",
    "G_sub_removed.remove_node('1442662')\n",
    "G_sub_removed.remove_node('9208595')\n",
    "G_sub_removed.remove_node('9909304')\n",
    "G_sub_removed.remove_node('1682770')"
   ]
  },
  {
   "cell_type": "code",
   "execution_count": 88,
   "metadata": {},
   "outputs": [],
   "source": [
    "nx.write_gexf(G_sub_removed, \"gephi_removed.gexf\")"
   ]
  },
  {
   "cell_type": "code",
   "execution_count": 123,
   "metadata": {},
   "outputs": [],
   "source": [
    "G_sub_removed_3 = G_sub_removed\n",
    "#G_sub_removed_3.remove_node('8480716')\n",
    "G_sub_removed_3.remove_node('1165624')\n",
    "G_sub_removed_3.remove_node('6355372')\n",
    "G_sub_removed_3.remove_node('5316813')"
   ]
  },
  {
   "cell_type": "code",
   "execution_count": 124,
   "metadata": {},
   "outputs": [],
   "source": [
    "nx.write_gexf(G_sub_removed_3, \"gephi_removed_3.gexf\")"
   ]
  },
  {
   "cell_type": "code",
   "execution_count": null,
   "metadata": {},
   "outputs": [],
   "source": [
    "#building gephi graph with page rank\n",
    "#nx.write_gexf(G_sub, \"updated_version.gexf\")"
   ]
  },
  {
   "cell_type": "code",
   "execution_count": 128,
   "metadata": {},
   "outputs": [
    {
     "data": {
      "image/png": "[encoded data removed]",
      "text/plain": [
       "<Figure size 432x288 with 1 Axes>"
      ]
     },
     "metadata": {
      "needs_background": "light"
     },
     "output_type": "display_data"
    }
   ],
   "source": [
    "#G = nx.DiGraph(adjacency_matrix)\n",
    "#start_pos = nx.spring_layout(G_mat, seed = 100)\n",
    "labels = nx.get_edge_attributes(G_sub_removed_3,'weight')\n",
    "nx.draw_networkx_edge_labels(G_sub_removed_3,pos=start_pos,edge_labels=labels)\n",
    "nx.draw_networkx(G_sub_removed_3, pos=start_pos)\n",
    "\n"
   ]
  },
  {
   "cell_type": "markdown",
   "metadata": {},
   "source": [
    "### Closeness Centrality for Communities #0, 1, 3, 6"
   ]
  },
  {
   "cell_type": "code",
   "execution_count": 89,
   "metadata": {},
   "outputs": [],
   "source": [
    "#Closeness Centrality for community #0 (121)\n",
    "sort_communities_0 = {}\n",
    "for i in sort_communities[0]:\n",
    "    if i in close_centrality.keys():\n",
    "        sort_communities_0[i] = close_centrality[i]"
   ]
  },
  {
   "cell_type": "code",
   "execution_count": 90,
   "metadata": {},
   "outputs": [
    {
     "data": {
      "text/plain": [
       "[('5316813', 0.5660522273425499),\n",
       " ('2446753', 0.5479553903345725),\n",
       " ('3203462', 0.5395314787701317),\n",
       " ('5766515', 0.534833091436865)]"
      ]
     },
     "execution_count": 90,
     "metadata": {},
     "output_type": "execute_result"
    }
   ],
   "source": [
    "sorted(sort_communities_0.items(), key=lambda x:x[1], reverse=True)[:4]"
   ]
  },
  {
   "cell_type": "code",
   "execution_count": 91,
   "metadata": {},
   "outputs": [
    {
     "data": {
      "text/plain": [
       "[('9208595', 0.6219409282700422),\n",
       " ('3344258', 0.5313626532083634),\n",
       " ('3304037', 0.5253029223093372),\n",
       " ('5137910', 0.5153846153846153)]"
      ]
     },
     "execution_count": 91,
     "metadata": {},
     "output_type": "execute_result"
    }
   ],
   "source": [
    "#Closeness Centrality for community #1 (116)\n",
    "sort_communities_1 = {}\n",
    "for i in sort_communities[1]:\n",
    "    if i in close_centrality.keys():\n",
    "        sort_communities_1[i] = close_centrality[i]\n",
    "sorted(sort_communities_1.items(), key=lambda x:x[1], reverse=True)[:4]"
   ]
  },
  {
   "cell_type": "code",
   "execution_count": 92,
   "metadata": {},
   "outputs": [
    {
     "data": {
      "text/plain": [
       "[('8480716', 0.591018444266239),\n",
       " ('8788229', 0.5309798270893372),\n",
       " ('8962643', 0.5058339052848319),\n",
       " ('7609194', 0.4959623149394347)]"
      ]
     },
     "execution_count": 92,
     "metadata": {},
     "output_type": "execute_result"
    }
   ],
   "source": [
    "#Closeness Centrality for community #3 (143) \n",
    "sort_communities_3 = {}\n",
    "for i in sort_communities[3]:\n",
    "    if i in close_centrality.keys():\n",
    "        sort_communities_3[i] = close_centrality[i]\n",
    "sorted(sort_communities_3.items(), key=lambda x:x[1], reverse=True)[:4]"
   ]
  },
  {
   "cell_type": "code",
   "execution_count": 93,
   "metadata": {},
   "outputs": [
    {
     "data": {
      "text/plain": [
       "[('1442662', 0.6464912280701754),\n",
       " ('9977818', 0.5268048606147248),\n",
       " ('5115594', 0.5186488388458832),\n",
       " ('1682770', 0.5186488388458832)]"
      ]
     },
     "execution_count": 93,
     "metadata": {},
     "output_type": "execute_result"
    }
   ],
   "source": [
    "#Closeness Centrality for community #6 (108) \n",
    "sort_communities_6 = {}\n",
    "for i in sort_communities[6]:\n",
    "    if i in close_centrality.keys():\n",
    "        sort_communities_6[i] = close_centrality[i]\n",
    "sorted(sort_communities_6.items(), key=lambda x:x[1], reverse=True)[:4]"
   ]
  },
  {
   "cell_type": "markdown",
   "metadata": {},
   "source": [
    "### Degree Centrality for communities #0, 1, 3, 6 "
   ]
  },
  {
   "cell_type": "code",
   "execution_count": 95,
   "metadata": {},
   "outputs": [],
   "source": [
    "# Degree Centrality for community #0 (121 members)\n",
    "deg_cent_communities_0 = {}\n",
    "for i in sort_communities[0]:\n",
    "    if i in deg_centrality.keys():\n",
    "        deg_cent_communities_0[i] = deg_centrality[i] "
   ]
  },
  {
   "cell_type": "code",
   "execution_count": 96,
   "metadata": {},
   "outputs": [
    {
     "data": {
      "text/plain": [
       "[('5316813', 0.28765264586160105),\n",
       " ('5766515', 0.24016282225237448),\n",
       " ('6159135', 0.23066485753052915),\n",
       " ('2446753', 0.22795115332428764)]"
      ]
     },
     "execution_count": 96,
     "metadata": {},
     "output_type": "execute_result"
    }
   ],
   "source": [
    "#sorted deg_cent_communities_0 - top 4 \n",
    "sorted(deg_cent_communities_0.items(), key=lambda x:x[1], reverse=True)[:4]"
   ]
  },
  {
   "cell_type": "code",
   "execution_count": 97,
   "metadata": {},
   "outputs": [
    {
     "name": "stdout",
     "output_type": "stream",
     "text": [
      "0.1587516960651289\n",
      "0.1587516960651289\n"
     ]
    }
   ],
   "source": [
    "print(deg_centrality['4594575'])\n",
    "print(deg_centrality.get('4594575'))"
   ]
  },
  {
   "cell_type": "code",
   "execution_count": 98,
   "metadata": {},
   "outputs": [
    {
     "data": {
      "text/plain": [
       "[('9208595', 0.4219810040705563),\n",
       " ('3344258', 0.2021709633649932),\n",
       " ('5137910', 0.18995929443690637),\n",
       " ('3304037', 0.17639077340569875)]"
      ]
     },
     "execution_count": 98,
     "metadata": {},
     "output_type": "execute_result"
    }
   ],
   "source": [
    "# Degree Centrality for community #1 (116 members)\n",
    "deg_cent_communities_1 = {}\n",
    "for i in sort_communities[1]:\n",
    "    if i in deg_centrality.keys():\n",
    "        deg_cent_communities_1[i] = deg_centrality[i] \n",
    "sorted(deg_cent_communities_1.items(), key=lambda x:x[1], reverse=True)[:4]"
   ]
  },
  {
   "cell_type": "code",
   "execution_count": 99,
   "metadata": {},
   "outputs": [
    {
     "data": {
      "text/plain": [
       "[('8480716', 0.3541383989145183),\n",
       " ('8788229', 0.20624151967435547),\n",
       " ('8962643', 0.175033921302578),\n",
       " ('8276042', 0.14925373134328357)]"
      ]
     },
     "execution_count": 99,
     "metadata": {},
     "output_type": "execute_result"
    }
   ],
   "source": [
    "# Degree Centrality for community #3 (143 members)\n",
    "deg_cent_communities_3 = {}\n",
    "for i in sort_communities[3]:\n",
    "    if i in deg_centrality.keys():\n",
    "        deg_cent_communities_3[i] = deg_centrality[i] \n",
    "sorted(deg_cent_communities_3.items(), key=lambda x:x[1], reverse=True)[:4]"
   ]
  },
  {
   "cell_type": "code",
   "execution_count": 100,
   "metadata": {},
   "outputs": [
    {
     "data": {
      "text/plain": [
       "[('1442662', 0.4789687924016282),\n",
       " ('1682770', 0.24423337856173674),\n",
       " ('8314913', 0.2320217096336499),\n",
       " ('2388443', 0.21981004070556306)]"
      ]
     },
     "execution_count": 100,
     "metadata": {},
     "output_type": "execute_result"
    }
   ],
   "source": [
    "# Degree Centrality for community #6 (108 members)\n",
    "deg_cent_communities_6 = {}\n",
    "for i in sort_communities[6]:\n",
    "    if i in deg_centrality.keys():\n",
    "        deg_cent_communities_6[i] = deg_centrality[i] \n",
    "sorted(deg_cent_communities_6.items(), key=lambda x:x[1], reverse=True)[:4]"
   ]
  },
  {
   "cell_type": "code",
   "execution_count": 101,
   "metadata": {},
   "outputs": [
    {
     "name": "stdout",
     "output_type": "stream",
     "text": [
      "109\n",
      "109\n"
     ]
    }
   ],
   "source": [
    "print(len(deg_cent_communities_6))\n",
    "print(len(sort_communities[6]))"
   ]
  },
  {
   "cell_type": "markdown",
   "metadata": {},
   "source": [
    "### Betweenness Centrality for Communities # 0, 1, 3, 6"
   ]
  },
  {
   "cell_type": "code",
   "execution_count": 102,
   "metadata": {},
   "outputs": [],
   "source": [
    "# Betweenness Centrality for community #0 (121 members) \n",
    "betw_cent_communities_0 = {}\n",
    "for i in sort_communities[0]:\n",
    "    if i in bet_centrality.keys():\n",
    "        betw_cent_communities_0[i] = bet_centrality[i] "
   ]
  },
  {
   "cell_type": "code",
   "execution_count": 103,
   "metadata": {},
   "outputs": [
    {
     "data": {
      "text/plain": [
       "[('5316813', 0.017707043134769382),\n",
       " ('2998859', 0.016444816797466923),\n",
       " ('6159135', 0.013835227771744792),\n",
       " ('5766515', 0.01109765233907014)]"
      ]
     },
     "execution_count": 103,
     "metadata": {},
     "output_type": "execute_result"
    }
   ],
   "source": [
    "#sorted Betweenness Centrality for community #0 - top 4\n",
    "sorted(betw_cent_communities_0.items(), key=lambda x:x[1], reverse=True)[:4]"
   ]
  },
  {
   "cell_type": "code",
   "execution_count": 104,
   "metadata": {},
   "outputs": [
    {
     "name": "stdout",
     "output_type": "stream",
     "text": [
      "0.0016674039903506867\n",
      "0.0016674039903506867\n"
     ]
    }
   ],
   "source": [
    "print(bet_centrality['9649581'])\n",
    "print(bet_centrality.get('9649581'))"
   ]
  },
  {
   "cell_type": "code",
   "execution_count": 105,
   "metadata": {},
   "outputs": [
    {
     "data": {
      "text/plain": [
       "[('9208595', 0.09583329453420684),\n",
       " ('5137910', 0.025915199613469924),\n",
       " ('7391163', 0.02565245496132463),\n",
       " ('4470779', 0.01625941471559962)]"
      ]
     },
     "execution_count": 105,
     "metadata": {},
     "output_type": "execute_result"
    }
   ],
   "source": [
    "# Betweenness Centrality for community #1 (116 members) \n",
    "betw_cent_communities_1 = {}\n",
    "for i in sort_communities[1]:\n",
    "    if i in bet_centrality.keys():\n",
    "        betw_cent_communities_1[i] = bet_centrality[i]\n",
    "#sorted Betweenness Centrality for community #1 - top 4\n",
    "sorted(betw_cent_communities_1.items(), key=lambda x:x[1], reverse=True)[:4]"
   ]
  },
  {
   "cell_type": "code",
   "execution_count": 106,
   "metadata": {},
   "outputs": [
    {
     "data": {
      "text/plain": [
       "[('8480716', 0.03277587141448449),\n",
       " ('8788229', 0.01747114086905078),\n",
       " ('8276042', 0.009926687275704579),\n",
       " ('2133568', 0.00930861285565559)]"
      ]
     },
     "execution_count": 106,
     "metadata": {},
     "output_type": "execute_result"
    }
   ],
   "source": [
    "# Betweenness Centrality for community #3 (143 members) \n",
    "betw_cent_communities_3 = {}\n",
    "for i in sort_communities[3]:\n",
    "    if i in bet_centrality.keys():\n",
    "        betw_cent_communities_3[i] = bet_centrality[i]\n",
    "#sorted Betweenness Centrality for community #3 - top 4\n",
    "sorted(betw_cent_communities_3.items(), key=lambda x:x[1], reverse=True)[:4]"
   ]
  },
  {
   "cell_type": "code",
   "execution_count": 107,
   "metadata": {},
   "outputs": [
    {
     "data": {
      "text/plain": [
       "[('1442662', 0.0675156981132638),\n",
       " ('5115594', 0.013192011262494021),\n",
       " ('1682770', 0.011869809001815244),\n",
       " ('8314913', 0.0076664212819926025)]"
      ]
     },
     "execution_count": 107,
     "metadata": {},
     "output_type": "execute_result"
    }
   ],
   "source": [
    "# Betweenness Centrality for community #6 (108 members) \n",
    "betw_cent_communities_6 = {}\n",
    "for i in sort_communities[6]:\n",
    "    if i in bet_centrality.keys():\n",
    "        betw_cent_communities_6[i] = bet_centrality[i]\n",
    "#sorted Betweenness Centrality for community #6 - top 4\n",
    "sorted(betw_cent_communities_6.items(), key=lambda x:x[1], reverse=True)[:4]"
   ]
  },
  {
   "cell_type": "markdown",
   "metadata": {},
   "source": [
    "## Miscellaneous"
   ]
  },
  {
   "cell_type": "markdown",
   "metadata": {},
   "source": [
    "### Network Centrality. Identifying \"Community Cores\" and \"Bridges\""
   ]
  },
  {
   "cell_type": "code",
   "execution_count": null,
   "metadata": {},
   "outputs": [],
   "source": [
    "#Closeness Centrality : This is based on the assumption that important nodes are close to other nodes.\n",
    "close_centrality = nx.closeness_centrality(G_sub)\n",
    "print(close_centrality)"
   ]
  },
  {
   "cell_type": "code",
   "execution_count": null,
   "metadata": {},
   "outputs": [],
   "source": [
    "close_centrality_sort = sorted(close_centrality.items(), key=lambda x:x[1], reverse=True)\n",
    "close_centrality_sort[:10]"
   ]
  },
  {
   "cell_type": "code",
   "execution_count": null,
   "metadata": {},
   "outputs": [],
   "source": [
    "#Betweenness Centrality: It assumes that important nodes connect other nodes.\n",
    "bet_centrality = nx.betweenness_centrality(G_sub, normalized = True, \n",
    "                                              endpoints = False)\n",
    "print(bet_centrality)"
   ]
  },
  {
   "cell_type": "code",
   "execution_count": null,
   "metadata": {},
   "outputs": [],
   "source": [
    "bet_centrality_sort = sorted(bet_centrality.items(), key=lambda x:x[1], reverse=True)\n",
    "bet_centrality_sort[:10]"
   ]
  },
  {
   "cell_type": "code",
   "execution_count": null,
   "metadata": {},
   "outputs": [],
   "source": [
    "degrees = sorted(G_sub.degree, key=lambda x: x[1], reverse=True)"
   ]
  },
  {
   "cell_type": "code",
   "execution_count": null,
   "metadata": {},
   "outputs": [],
   "source": [
    "degrees"
   ]
  },
  {
   "cell_type": "code",
   "execution_count": null,
   "metadata": {},
   "outputs": [],
   "source": [
    "node_size =  [v * 10000 for v in betweennessCentrality.values()]\n",
    "plt.figure(figsize=(20,20))\n",
    "nx.draw_networkx(G_sub, pos=pos, with_labels=False,\n",
    "                 node_size=node_size )\n",
    "plt.axis('off')"
   ]
  },
  {
   "cell_type": "code",
   "execution_count": null,
   "metadata": {},
   "outputs": [],
   "source": [
    "eigen_centr = nx.eigenvector_centrality(G_sub)"
   ]
  },
  {
   "cell_type": "markdown",
   "metadata": {},
   "source": [
    "### Adding Attributes"
   ]
  },
  {
   "cell_type": "code",
   "execution_count": null,
   "metadata": {},
   "outputs": [],
   "source": [
    "#G_sub.nodes"
   ]
  },
  {
   "cell_type": "code",
   "execution_count": null,
   "metadata": {},
   "outputs": [],
   "source": [
    "nx.set_node_attributes(G_sub, partition, \"community\")\n",
    "G_sub.nodes['4594575'][\"community\"]"
   ]
  },
  {
   "cell_type": "code",
   "execution_count": null,
   "metadata": {},
   "outputs": [],
   "source": [
    "nx.set_node_attributes(G_sub, deg_centrality, \"degree\")\n",
    "G_sub.nodes['4594575'][\"degree\"]"
   ]
  },
  {
   "cell_type": "code",
   "execution_count": null,
   "metadata": {},
   "outputs": [],
   "source": [
    "nx.set_node_attributes(G_sub, close_centrality, \"closeness\")"
   ]
  },
  {
   "cell_type": "code",
   "execution_count": null,
   "metadata": {},
   "outputs": [],
   "source": [
    "G_sub.nodes['4594575'][\"closeness\"]"
   ]
  },
  {
   "cell_type": "code",
   "execution_count": null,
   "metadata": {},
   "outputs": [],
   "source": [
    "nx.set_node_attributes(G_sub, bet_centrality, \"betweenness\")"
   ]
  },
  {
   "cell_type": "code",
   "execution_count": null,
   "metadata": {},
   "outputs": [],
   "source": [
    "G_sub.nodes['4594575'][\"betweenness\"]"
   ]
  },
  {
   "cell_type": "code",
   "execution_count": null,
   "metadata": {},
   "outputs": [],
   "source": [
    "nx.set_node_attributes(G_sub, page_rank, \"page_rank\")"
   ]
  },
  {
   "cell_type": "code",
   "execution_count": null,
   "metadata": {},
   "outputs": [],
   "source": [
    "G_sub.nodes['4594575'][\"page_rank\"]"
   ]
  },
  {
   "cell_type": "code",
   "execution_count": null,
   "metadata": {},
   "outputs": [],
   "source": [
    "nx.get_node_attributes(G_sub,\"betweenness\" )"
   ]
  },
  {
   "cell_type": "markdown",
   "metadata": {},
   "source": [
    "### Gephi"
   ]
  },
  {
   "cell_type": "code",
   "execution_count": null,
   "metadata": {},
   "outputs": [],
   "source": [
    "pip install GraphiPy"
   ]
  },
  {
   "cell_type": "code",
   "execution_count": null,
   "metadata": {},
   "outputs": [],
   "source": [
    "pip install gephistreamer"
   ]
  },
  {
   "cell_type": "code",
   "execution_count": null,
   "metadata": {},
   "outputs": [],
   "source": [
    "from gephistreamer import graph\n",
    "from gephistreamer import streamer"
   ]
  },
  {
   "cell_type": "code",
   "execution_count": null,
   "metadata": {},
   "outputs": [],
   "source": [
    "nx.write_gexf(G_sub, \"test.gexf\")"
   ]
  },
  {
   "cell_type": "code",
   "execution_count": null,
   "metadata": {},
   "outputs": [],
   "source": [
    "G_sub.remove_node('1442662')"
   ]
  },
  {
   "cell_type": "code",
   "execution_count": null,
   "metadata": {},
   "outputs": [],
   "source": [
    "G_sub_removed = G_sub"
   ]
  },
  {
   "cell_type": "code",
   "execution_count": null,
   "metadata": {},
   "outputs": [],
   "source": [
    "G_sub_removed.remove_node('9208595')\n",
    "G_sub_removed.remove_node('9909304')\n",
    "G_sub_removed.remove_node('1682770')"
   ]
  },
  {
   "cell_type": "code",
   "execution_count": null,
   "metadata": {},
   "outputs": [],
   "source": [
    "len(G_sub_removed.edges)"
   ]
  },
  {
   "cell_type": "code",
   "execution_count": null,
   "metadata": {},
   "outputs": [],
   "source": [
    "G_sub_removed_edges = G_sub_removed"
   ]
  },
  {
   "cell_type": "code",
   "execution_count": null,
   "metadata": {},
   "outputs": [],
   "source": [
    "#Betweenness Centrality for the removed graph\n",
    "bet_centr_removed = nx.betweenness_centrality(G_sub_removed_edges, normalized = True, \n",
    "                                              endpoints = False)"
   ]
  },
  {
   "cell_type": "code",
   "execution_count": null,
   "metadata": {},
   "outputs": [],
   "source": [
    "bet_centr_removed_sort = sorted(bet_centr_removed.items(), key=lambda x:x[1], reverse=True)\n",
    "bet_centr_removed_sort[:10]"
   ]
  },
  {
   "cell_type": "code",
   "execution_count": null,
   "metadata": {},
   "outputs": [],
   "source": [
    "bet_centrality_sort = sorted(bet_centrality.items(), key=lambda x:x[1], reverse=True)\n",
    "bet_centrality_sort[:10]"
   ]
  },
  {
   "cell_type": "code",
   "execution_count": null,
   "metadata": {},
   "outputs": [],
   "source": [
    "G_sub_removed.edges"
   ]
  },
  {
   "cell_type": "code",
   "execution_count": null,
   "metadata": {},
   "outputs": [],
   "source": [
    "nx.write_gexf(G_sub_removed, \"test_removed.gexf\")"
   ]
  },
  {
   "cell_type": "code",
   "execution_count": null,
   "metadata": {},
   "outputs": [],
   "source": [
    "#building gephi graph with page rank\n",
    "nx.write_gexf(G_sub, \"updated_version.gexf\")"
   ]
  },
  {
   "cell_type": "code",
   "execution_count": null,
   "metadata": {},
   "outputs": [],
   "source": [
    "dic={}\n",
    "for i in uniq_nodes_2:\n",
    "    for j in graph_data:\n",
    "        if i in j:\n",
    "            if i in dic:\n",
    "                dic[i].extend(j)\n",
    "            else:\n",
    "                dic[i]=j           "
   ]
  }
 ],
 "metadata": {
  "kernelspec": {
   "display_name": "Python 3 (ipykernel)",
   "language": "python",
   "name": "python3"
  },
  "language_info": {
   "codemirror_mode": {
    "name": "ipython",
    "version": 3
   },
   "file_extension": ".py",
   "mimetype": "text/x-python",
   "name": "python",
   "nbconvert_exporter": "python",
   "pygments_lexer": "ipython3",
   "version": "3.9.13"
  }
 },
 "nbformat": 4,
 "nbformat_minor": 2
}
